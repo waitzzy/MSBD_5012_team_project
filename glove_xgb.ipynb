{
  "nbformat": 4,
  "nbformat_minor": 0,
  "metadata": {
    "colab": {
      "name": "SA.ipynb",
      "provenance": [],
      "collapsed_sections": []
    },
    "kernelspec": {
      "name": "python3",
      "display_name": "Python 3"
    }
  },
  "cells": [
    {
      "cell_type": "code",
      "metadata": {
        "id": "5NheWOx2kCV7"
      },
      "source": [
        "import torch\n",
        "from torchtext import data\n",
        "from torchtext import datasets\n",
        "\n",
        "SEED = 1234\n",
        "\n",
        "torch.manual_seed(SEED)\n",
        "torch.backends.cudnn.deterministic = True\n",
        "\n",
        "TEXT = data.Field(tokenize = 'spacy', include_lengths = True)\n",
        "LABEL = data.LabelField(dtype = torch.float)"
      ],
      "execution_count": null,
      "outputs": []
    },
    {
      "cell_type": "code",
      "metadata": {
        "id": "MFzgBgQMkrWP"
      },
      "source": [
        "import pandas as pd \n",
        "from torchtext.vocab import Vectors\n",
        "from torch.nn import init\n",
        "from sklearn.model_selection import train_test_split"
      ],
      "execution_count": 36,
      "outputs": []
    },
    {
      "cell_type": "code",
      "metadata": {
        "id": "hwGmkk8xkv4H",
        "outputId": "de435bd4-386f-4a18-c833-b020f54879e8",
        "colab": {
          "base_uri": "https://localhost:8080/",
          "height": 204
        }
      },
      "source": [
        "data = pd.read_csv(\"/train.csv\")\n",
        "data.head()"
      ],
      "execution_count": null,
      "outputs": [
        {
          "output_type": "execute_result",
          "data": {
            "text/html": [
              "<div>\n",
              "<style scoped>\n",
              "    .dataframe tbody tr th:only-of-type {\n",
              "        vertical-align: middle;\n",
              "    }\n",
              "\n",
              "    .dataframe tbody tr th {\n",
              "        vertical-align: top;\n",
              "    }\n",
              "\n",
              "    .dataframe thead th {\n",
              "        text-align: right;\n",
              "    }\n",
              "</style>\n",
              "<table border=\"1\" class=\"dataframe\">\n",
              "  <thead>\n",
              "    <tr style=\"text-align: right;\">\n",
              "      <th></th>\n",
              "      <th>id</th>\n",
              "      <th>original</th>\n",
              "      <th>edit</th>\n",
              "      <th>grades</th>\n",
              "      <th>meanGrade</th>\n",
              "    </tr>\n",
              "  </thead>\n",
              "  <tbody>\n",
              "    <tr>\n",
              "      <th>0</th>\n",
              "      <td>14530</td>\n",
              "      <td>France is ‘ hunting down its citizens who join...</td>\n",
              "      <td>twins</td>\n",
              "      <td>10000</td>\n",
              "      <td>0.2</td>\n",
              "    </tr>\n",
              "    <tr>\n",
              "      <th>1</th>\n",
              "      <td>13034</td>\n",
              "      <td>Pentagon claims 2,000 % increase in Russian tr...</td>\n",
              "      <td>bowling</td>\n",
              "      <td>33110</td>\n",
              "      <td>1.6</td>\n",
              "    </tr>\n",
              "    <tr>\n",
              "      <th>2</th>\n",
              "      <td>8731</td>\n",
              "      <td>Iceland PM Calls Snap Vote as Pedophile Furor ...</td>\n",
              "      <td>party</td>\n",
              "      <td>22100</td>\n",
              "      <td>1.0</td>\n",
              "    </tr>\n",
              "    <tr>\n",
              "      <th>3</th>\n",
              "      <td>76</td>\n",
              "      <td>In an apparent first , Iran and Israel &lt;engage...</td>\n",
              "      <td>slap</td>\n",
              "      <td>20000</td>\n",
              "      <td>0.4</td>\n",
              "    </tr>\n",
              "    <tr>\n",
              "      <th>4</th>\n",
              "      <td>6164</td>\n",
              "      <td>Trump was told weeks ago that Flynn misled &lt;Vi...</td>\n",
              "      <td>school</td>\n",
              "      <td>0</td>\n",
              "      <td>0.0</td>\n",
              "    </tr>\n",
              "  </tbody>\n",
              "</table>\n",
              "</div>"
            ],
            "text/plain": [
              "      id                                           original  ... grades  meanGrade\n",
              "0  14530  France is ‘ hunting down its citizens who join...  ...  10000        0.2\n",
              "1  13034  Pentagon claims 2,000 % increase in Russian tr...  ...  33110        1.6\n",
              "2   8731  Iceland PM Calls Snap Vote as Pedophile Furor ...  ...  22100        1.0\n",
              "3     76  In an apparent first , Iran and Israel <engage...  ...  20000        0.4\n",
              "4   6164  Trump was told weeks ago that Flynn misled <Vi...  ...      0        0.0\n",
              "\n",
              "[5 rows x 5 columns]"
            ]
          },
          "metadata": {
            "tags": []
          },
          "execution_count": 2
        }
      ]
    },
    {
      "cell_type": "code",
      "metadata": {
        "id": "dlMeRSWW1xnK"
      },
      "source": [
        "original = data[\"original\"].tolist()"
      ],
      "execution_count": null,
      "outputs": []
    },
    {
      "cell_type": "code",
      "metadata": {
        "id": "rDxAv7kb2YG2"
      },
      "source": [
        "edit = data[\"edit\"].tolist()"
      ],
      "execution_count": null,
      "outputs": []
    },
    {
      "cell_type": "code",
      "metadata": {
        "id": "R3nv3ow13V0E",
        "outputId": "1dca88af-3b11-4203-e885-a016e5aa48c9",
        "colab": {
          "base_uri": "https://localhost:8080/",
          "height": 34
        }
      },
      "source": [
        "print(len(edit))"
      ],
      "execution_count": null,
      "outputs": [
        {
          "output_type": "stream",
          "text": [
            "9652\n"
          ],
          "name": "stdout"
        }
      ]
    },
    {
      "cell_type": "code",
      "metadata": {
        "id": "OaTY-nQolAxf"
      },
      "source": [
        "import re"
      ],
      "execution_count": null,
      "outputs": []
    },
    {
      "cell_type": "code",
      "metadata": {
        "id": "Xs6jnix-8KrL",
        "outputId": "9f8ba8e5-aa44-4f43-bebe-0fae7f86e205",
        "colab": {
          "base_uri": "https://localhost:8080/",
          "height": 54
        }
      },
      "source": [
        "print(original[:10])"
      ],
      "execution_count": null,
      "outputs": [
        {
          "output_type": "stream",
          "text": [
            "['France is ‘ hunting down its citizens who joined <Isis/> ’ without trial in Iraq', 'Pentagon claims 2,000 % increase in Russian trolls after <Syria/> strikes . What does that mean ?', 'Iceland PM Calls Snap Vote as Pedophile Furor Crashes <Coalition/> ', 'In an apparent first , Iran and Israel <engage/> each other militarily', 'Trump was told weeks ago that Flynn misled <Vice/> President .', 'All 22 <promises/> Trump made in his speech to Congress , in one chart', 'New DOJ alert system will flag <crimes/> against police', \"As Someone Who Grew Up Among Fundamentalist <Christians/> In The US , I 'm Surprised Anyone 's Surprised About Roy Moore\", \"Canadians may pay more taxes than Americans , but here 's what they get for their <money/> \", 'Dutch minister resigns in drug baron <row/> ']\n"
          ],
          "name": "stdout"
        }
      ]
    },
    {
      "cell_type": "code",
      "metadata": {
        "id": "ntrisypzmcX8",
        "outputId": "52c7a871-9660-4a34-9569-0e5e995b4200",
        "colab": {
          "base_uri": "https://localhost:8080/",
          "height": 204
        }
      },
      "source": [
        "pat = \"<.*>\"\n",
        "after_edit = []\n",
        "for i in range(len(edit)):\n",
        "  after_edit.append(re.sub(pat,edit[i],original[i]))\n",
        "data[\"after_edit\"] = after_edit\n",
        "data.head()"
      ],
      "execution_count": null,
      "outputs": [
        {
          "output_type": "execute_result",
          "data": {
            "text/html": [
              "<div>\n",
              "<style scoped>\n",
              "    .dataframe tbody tr th:only-of-type {\n",
              "        vertical-align: middle;\n",
              "    }\n",
              "\n",
              "    .dataframe tbody tr th {\n",
              "        vertical-align: top;\n",
              "    }\n",
              "\n",
              "    .dataframe thead th {\n",
              "        text-align: right;\n",
              "    }\n",
              "</style>\n",
              "<table border=\"1\" class=\"dataframe\">\n",
              "  <thead>\n",
              "    <tr style=\"text-align: right;\">\n",
              "      <th></th>\n",
              "      <th>id</th>\n",
              "      <th>original</th>\n",
              "      <th>edit</th>\n",
              "      <th>grades</th>\n",
              "      <th>meanGrade</th>\n",
              "      <th>after_edit</th>\n",
              "    </tr>\n",
              "  </thead>\n",
              "  <tbody>\n",
              "    <tr>\n",
              "      <th>0</th>\n",
              "      <td>14530</td>\n",
              "      <td>France is ‘ hunting down its citizens who join...</td>\n",
              "      <td>twins</td>\n",
              "      <td>10000</td>\n",
              "      <td>0.2</td>\n",
              "      <td>France is ‘ hunting down its citizens who join...</td>\n",
              "    </tr>\n",
              "    <tr>\n",
              "      <th>1</th>\n",
              "      <td>13034</td>\n",
              "      <td>Pentagon claims 2,000 % increase in Russian tr...</td>\n",
              "      <td>bowling</td>\n",
              "      <td>33110</td>\n",
              "      <td>1.6</td>\n",
              "      <td>Pentagon claims 2,000 % increase in Russian tr...</td>\n",
              "    </tr>\n",
              "    <tr>\n",
              "      <th>2</th>\n",
              "      <td>8731</td>\n",
              "      <td>Iceland PM Calls Snap Vote as Pedophile Furor ...</td>\n",
              "      <td>party</td>\n",
              "      <td>22100</td>\n",
              "      <td>1.0</td>\n",
              "      <td>Iceland PM Calls Snap Vote as Pedophile Furor ...</td>\n",
              "    </tr>\n",
              "    <tr>\n",
              "      <th>3</th>\n",
              "      <td>76</td>\n",
              "      <td>In an apparent first , Iran and Israel &lt;engage...</td>\n",
              "      <td>slap</td>\n",
              "      <td>20000</td>\n",
              "      <td>0.4</td>\n",
              "      <td>In an apparent first , Iran and Israel slap ea...</td>\n",
              "    </tr>\n",
              "    <tr>\n",
              "      <th>4</th>\n",
              "      <td>6164</td>\n",
              "      <td>Trump was told weeks ago that Flynn misled &lt;Vi...</td>\n",
              "      <td>school</td>\n",
              "      <td>0</td>\n",
              "      <td>0.0</td>\n",
              "      <td>Trump was told weeks ago that Flynn misled sch...</td>\n",
              "    </tr>\n",
              "  </tbody>\n",
              "</table>\n",
              "</div>"
            ],
            "text/plain": [
              "      id  ...                                         after_edit\n",
              "0  14530  ...  France is ‘ hunting down its citizens who join...\n",
              "1  13034  ...  Pentagon claims 2,000 % increase in Russian tr...\n",
              "2   8731  ...  Iceland PM Calls Snap Vote as Pedophile Furor ...\n",
              "3     76  ...  In an apparent first , Iran and Israel slap ea...\n",
              "4   6164  ...  Trump was told weeks ago that Flynn misled sch...\n",
              "\n",
              "[5 rows x 6 columns]"
            ]
          },
          "metadata": {
            "tags": []
          },
          "execution_count": 26
        }
      ]
    },
    {
      "cell_type": "code",
      "metadata": {
        "id": "uLE-kmcL1QKI"
      },
      "source": [
        "data.to_csv(\"train_data_1.csv\")"
      ],
      "execution_count": null,
      "outputs": []
    },
    {
      "cell_type": "code",
      "metadata": {
        "id": "xA7QAvwi365u"
      },
      "source": [
        "import pandas as pd "
      ],
      "execution_count": 1,
      "outputs": []
    },
    {
      "cell_type": "code",
      "metadata": {
        "id": "dav31xtiJ1Pf",
        "outputId": "3c5dc9c6-05d2-4473-deb7-d95dcf53b6da",
        "colab": {
          "base_uri": "https://localhost:8080/",
          "height": 272
        }
      },
      "source": [
        "train_data = pd.read_csv(\"/content/drive/My Drive/project_zzy/train_data_1.csv\")\n",
        "train_data.head()"
      ],
      "execution_count": 3,
      "outputs": [
        {
          "output_type": "execute_result",
          "data": {
            "text/html": [
              "<div>\n",
              "<style scoped>\n",
              "    .dataframe tbody tr th:only-of-type {\n",
              "        vertical-align: middle;\n",
              "    }\n",
              "\n",
              "    .dataframe tbody tr th {\n",
              "        vertical-align: top;\n",
              "    }\n",
              "\n",
              "    .dataframe thead th {\n",
              "        text-align: right;\n",
              "    }\n",
              "</style>\n",
              "<table border=\"1\" class=\"dataframe\">\n",
              "  <thead>\n",
              "    <tr style=\"text-align: right;\">\n",
              "      <th></th>\n",
              "      <th>Unnamed: 0</th>\n",
              "      <th>id</th>\n",
              "      <th>original</th>\n",
              "      <th>edit</th>\n",
              "      <th>grades</th>\n",
              "      <th>meanGrade</th>\n",
              "      <th>after_edit</th>\n",
              "    </tr>\n",
              "  </thead>\n",
              "  <tbody>\n",
              "    <tr>\n",
              "      <th>0</th>\n",
              "      <td>0</td>\n",
              "      <td>14530</td>\n",
              "      <td>France is ‘ hunting down its citizens who join...</td>\n",
              "      <td>twins</td>\n",
              "      <td>10000</td>\n",
              "      <td>0.2</td>\n",
              "      <td>France is ‘ hunting down its citizens who join...</td>\n",
              "    </tr>\n",
              "    <tr>\n",
              "      <th>1</th>\n",
              "      <td>1</td>\n",
              "      <td>13034</td>\n",
              "      <td>Pentagon claims 2,000 % increase in Russian tr...</td>\n",
              "      <td>bowling</td>\n",
              "      <td>33110</td>\n",
              "      <td>1.6</td>\n",
              "      <td>Pentagon claims 2,000 % increase in Russian tr...</td>\n",
              "    </tr>\n",
              "    <tr>\n",
              "      <th>2</th>\n",
              "      <td>2</td>\n",
              "      <td>8731</td>\n",
              "      <td>Iceland PM Calls Snap Vote as Pedophile Furor ...</td>\n",
              "      <td>party</td>\n",
              "      <td>22100</td>\n",
              "      <td>1.0</td>\n",
              "      <td>Iceland PM Calls Snap Vote as Pedophile Furor ...</td>\n",
              "    </tr>\n",
              "    <tr>\n",
              "      <th>3</th>\n",
              "      <td>3</td>\n",
              "      <td>76</td>\n",
              "      <td>In an apparent first , Iran and Israel &lt;engage...</td>\n",
              "      <td>slap</td>\n",
              "      <td>20000</td>\n",
              "      <td>0.4</td>\n",
              "      <td>In an apparent first , Iran and Israel slap ea...</td>\n",
              "    </tr>\n",
              "    <tr>\n",
              "      <th>4</th>\n",
              "      <td>4</td>\n",
              "      <td>6164</td>\n",
              "      <td>Trump was told weeks ago that Flynn misled &lt;Vi...</td>\n",
              "      <td>school</td>\n",
              "      <td>0</td>\n",
              "      <td>0.0</td>\n",
              "      <td>Trump was told weeks ago that Flynn misled sch...</td>\n",
              "    </tr>\n",
              "  </tbody>\n",
              "</table>\n",
              "</div>"
            ],
            "text/plain": [
              "   Unnamed: 0  ...                                         after_edit\n",
              "0           0  ...  France is ‘ hunting down its citizens who join...\n",
              "1           1  ...  Pentagon claims 2,000 % increase in Russian tr...\n",
              "2           2  ...  Iceland PM Calls Snap Vote as Pedophile Furor ...\n",
              "3           3  ...  In an apparent first , Iran and Israel slap ea...\n",
              "4           4  ...  Trump was told weeks ago that Flynn misled sch...\n",
              "\n",
              "[5 rows x 7 columns]"
            ]
          },
          "metadata": {
            "tags": []
          },
          "execution_count": 3
        }
      ]
    },
    {
      "cell_type": "code",
      "metadata": {
        "id": "KIoauMC3KAYb",
        "outputId": "28c5ee6f-2bc0-46a4-912e-a561d1e3ecb9",
        "colab": {
          "base_uri": "https://localhost:8080/"
        }
      },
      "source": [
        "from google.colab import drive\n",
        "drive.mount('/content/drive')"
      ],
      "execution_count": 2,
      "outputs": [
        {
          "output_type": "stream",
          "text": [
            "Mounted at /content/drive\n"
          ],
          "name": "stdout"
        }
      ]
    },
    {
      "cell_type": "code",
      "metadata": {
        "id": "Ec6uuTg0KA3U",
        "outputId": "c138dd8f-5444-4d8c-ad75-739afaec2c05",
        "colab": {
          "base_uri": "https://localhost:8080/"
        }
      },
      "source": [
        "train_data['original']"
      ],
      "execution_count": null,
      "outputs": [
        {
          "output_type": "execute_result",
          "data": {
            "text/plain": [
              "0       France is ‘ hunting down its citizens who join...\n",
              "1       Pentagon claims 2,000 % increase in Russian tr...\n",
              "2       Iceland PM Calls Snap Vote as Pedophile Furor ...\n",
              "3       In an apparent first , Iran and Israel <engage...\n",
              "4       Trump was told weeks ago that Flynn misled <Vi...\n",
              "                              ...                        \n",
              "9647    State officials blast ' unprecedented ' DHS <m...\n",
              "9648    Protesters Rally for <Refugees/> Detained at J...\n",
              "9649    Cruise line Carnival Corp. joins the fight aga...\n",
              "9650    Columbia police hunt woman seen with <gun/> ne...\n",
              "9651    Here 's What 's In The House-Approved Health <...\n",
              "Name: original, Length: 9652, dtype: object"
            ]
          },
          "metadata": {
            "tags": []
          },
          "execution_count": 5
        }
      ]
    },
    {
      "cell_type": "code",
      "metadata": {
        "id": "iCNq-QPwKVYT"
      },
      "source": [
        "import pandas as pd\n",
        "import nltk\n",
        "import string\n",
        "from nltk.corpus import stopwords\n",
        "from nltk.tokenize import word_tokenize \n",
        "from nltk.tokenize import TweetTokenizer\n",
        "from nltk.corpus import wordnet\n",
        "from nltk.stem.wordnet import WordNetLemmatizer\n",
        "from nltk.sentiment.util import mark_negation\n",
        "from nltk.corpus import sentiwordnet as swn\n",
        "import numpy as np"
      ],
      "execution_count": 12,
      "outputs": []
    },
    {
      "cell_type": "code",
      "metadata": {
        "id": "6xLnbz8dMuLG"
      },
      "source": [
        "def text_score(text):\n",
        "\n",
        "    postive_count = 0 \n",
        "    negtive_count = 0 \n",
        "    subjective_count = 0 \n",
        "    #create单词表\n",
        "    #nltk.pos_tag是打标签\n",
        "    wordlist = nltk.pos_tag(text)\n",
        "    # word_tag_fq = nltk.FreqDist(ttt)\n",
        "    # wordlist = word_tag_fq.most_common()\n",
        "\n",
        "    #变为dataframe形式\n",
        "    key = []\n",
        "    part = []\n",
        "    for i in range(len(wordlist)):\n",
        "        key.append(wordlist[i][0])\n",
        "        part.append(wordlist[i][1])\n",
        "    textdf = pd.DataFrame({'key':key,\n",
        "                      'part':part},\n",
        "                      columns=['key','part'])\n",
        "\n",
        "    #编码\n",
        "    n = ['NN','NNP','NNPS','NNS','UH']\n",
        "    v = ['VB','VBD','VBG','VBN','VBP','VBZ']\n",
        "    a = ['JJ','JJR','JJS']\n",
        "    r = ['RB','RBR','RBS','RP','WRB']\n",
        "\n",
        "    for i in range(len(textdf['key'])):\n",
        "        z = textdf.iloc[i,1]\n",
        "\n",
        "        if z in n:\n",
        "            textdf.iloc[i,1]='n'\n",
        "        elif z in v:\n",
        "            textdf.iloc[i,1]='v'\n",
        "        elif z in a:\n",
        "            textdf.iloc[i,1]='a'\n",
        "        elif z in r:\n",
        "            textdf.iloc[i,1]='r'\n",
        "        else:\n",
        "            textdf.iloc[i,1]=''\n",
        "            \n",
        "        #计算单个评论的单词分数\n",
        "    score = []\n",
        "    for i in range(len(textdf['key'])):\n",
        "        m = list(swn.senti_synsets(textdf.iloc[i,0],textdf.iloc[i,1]))\n",
        "        s = 0\n",
        "        ra = 0\n",
        "        if len(m) > 0:\n",
        "            for j in range(len(m)):\n",
        "                s += m[j].pos_score()-m[j].neg_score()\n",
        "            if s > 0:\n",
        "              postive_count = postive_count + 1\n",
        "            elif s < 0:\n",
        "              negtive_count = negtive_count + 1\n",
        "            else:\n",
        "              subjective_count = subjective_count + 1\n",
        "        else:\n",
        "            subjective_count = subjective_count + 1\n",
        "    All_v = postive_count + negtive_count + subjective_count\n",
        "            \n",
        "    return postive_count/All_v, negtive_count/All_v, subjective_count/All_v\n",
        "\n",
        "\n",
        "\n",
        "\n",
        "\n",
        "def get_wordnet_pos(tag):\n",
        "    if tag.startswith('J'):\n",
        "        return wordnet.ADJ\n",
        "    elif tag.startswith('V'):\n",
        "        return wordnet.VERB\n",
        "    elif tag.startswith('N'):\n",
        "        return wordnet.NOUN\n",
        "    elif tag.startswith('R'):\n",
        "        return wordnet.ADV\n",
        "    else:\n",
        "        return None\n",
        "\n",
        "def process_text(text):\n",
        "  punc_removed = [word for word in text if word not in string.punctuation]\n",
        "  punc_removed = ''.join(punc_removed)\n",
        "  punc_removed = word_tokenize(punc_removed)\n",
        "  pos_tagged = nltk.pos_tag(punc_removed)\n",
        "  vocabularies = []\n",
        "  for token, tag in pos_tagged:\n",
        "      pos = get_wordnet_pos(tag) or wordnet.NOUN\n",
        "      lemmatizer = WordNetLemmatizer()\n",
        "      token = lemmatizer.lemmatize(token, pos)\n",
        "      if (token.lower() not in stopwords.words('english')):\n",
        "          vocabularies.append(token.lower())\n",
        "  postive_count,negtive_count,subjective_count = text_score(vocabularies)\n",
        "\n",
        "  return vocabularies, postive_count, negtive_count, subjective_count"
      ],
      "execution_count": 6,
      "outputs": []
    },
    {
      "cell_type": "code",
      "metadata": {
        "id": "AVaBvLx1N7hS",
        "outputId": "2c49b828-857e-4eaf-a20f-1d547e0ab75f",
        "colab": {
          "base_uri": "https://localhost:8080/"
        }
      },
      "source": [
        "nltk.download('punkt')\n",
        "nltk.download('stopwords') \n",
        "nltk.download('averaged_perceptron_tagger')\n",
        "nltk.download('wordnet')\n",
        "nltk.download('sentiwordnet')"
      ],
      "execution_count": 7,
      "outputs": [
        {
          "output_type": "stream",
          "text": [
            "[nltk_data] Downloading package punkt to /root/nltk_data...\n",
            "[nltk_data]   Unzipping tokenizers/punkt.zip.\n",
            "[nltk_data] Downloading package stopwords to /root/nltk_data...\n",
            "[nltk_data]   Unzipping corpora/stopwords.zip.\n",
            "[nltk_data] Downloading package averaged_perceptron_tagger to\n",
            "[nltk_data]     /root/nltk_data...\n",
            "[nltk_data]   Unzipping taggers/averaged_perceptron_tagger.zip.\n",
            "[nltk_data] Downloading package wordnet to /root/nltk_data...\n",
            "[nltk_data]   Unzipping corpora/wordnet.zip.\n",
            "[nltk_data] Downloading package sentiwordnet to /root/nltk_data...\n",
            "[nltk_data]   Unzipping corpora/sentiwordnet.zip.\n"
          ],
          "name": "stdout"
        },
        {
          "output_type": "execute_result",
          "data": {
            "text/plain": [
              "True"
            ]
          },
          "metadata": {
            "tags": []
          },
          "execution_count": 7
        }
      ]
    },
    {
      "cell_type": "code",
      "metadata": {
        "id": "u9NOhXjWNEXn",
        "outputId": "6db878b0-5fe7-4ef0-a2b5-e27280588db8",
        "colab": {
          "base_uri": "https://localhost:8080/",
          "height": 306
        }
      },
      "source": [
        "# train_data['ori_vab'] = train_data['original'].apply(process_text)\n",
        "\n",
        "train_data['text'] = train_data['after_edit'].apply(process_text)\n",
        "train_data[['edi_vab','postive_count','negtive_count','subjective_count']] = train_data['text'].apply(pd.Series)\n",
        "\n",
        "train_data.drop(['original','after_edit','text'],axis=1,inplace=True)\n",
        "train_data.head()"
      ],
      "execution_count": 8,
      "outputs": [
        {
          "output_type": "execute_result",
          "data": {
            "text/html": [
              "<div>\n",
              "<style scoped>\n",
              "    .dataframe tbody tr th:only-of-type {\n",
              "        vertical-align: middle;\n",
              "    }\n",
              "\n",
              "    .dataframe tbody tr th {\n",
              "        vertical-align: top;\n",
              "    }\n",
              "\n",
              "    .dataframe thead th {\n",
              "        text-align: right;\n",
              "    }\n",
              "</style>\n",
              "<table border=\"1\" class=\"dataframe\">\n",
              "  <thead>\n",
              "    <tr style=\"text-align: right;\">\n",
              "      <th></th>\n",
              "      <th>Unnamed: 0</th>\n",
              "      <th>id</th>\n",
              "      <th>edit</th>\n",
              "      <th>grades</th>\n",
              "      <th>meanGrade</th>\n",
              "      <th>edi_vab</th>\n",
              "      <th>postive_count</th>\n",
              "      <th>negtive_count</th>\n",
              "      <th>subjective_count</th>\n",
              "    </tr>\n",
              "  </thead>\n",
              "  <tbody>\n",
              "    <tr>\n",
              "      <th>0</th>\n",
              "      <td>0</td>\n",
              "      <td>14530</td>\n",
              "      <td>twins</td>\n",
              "      <td>10000</td>\n",
              "      <td>0.2</td>\n",
              "      <td>[france, ‘, hunt, citizen, join, twin, ’, with...</td>\n",
              "      <td>0.100000</td>\n",
              "      <td>0.100000</td>\n",
              "      <td>0.800000</td>\n",
              "    </tr>\n",
              "    <tr>\n",
              "      <th>1</th>\n",
              "      <td>1</td>\n",
              "      <td>13034</td>\n",
              "      <td>bowling</td>\n",
              "      <td>33110</td>\n",
              "      <td>1.6</td>\n",
              "      <td>[pentagon, claim, 2000, increase, russian, tro...</td>\n",
              "      <td>0.111111</td>\n",
              "      <td>0.222222</td>\n",
              "      <td>0.666667</td>\n",
              "    </tr>\n",
              "    <tr>\n",
              "      <th>2</th>\n",
              "      <td>2</td>\n",
              "      <td>8731</td>\n",
              "      <td>party</td>\n",
              "      <td>22100</td>\n",
              "      <td>1.0</td>\n",
              "      <td>[iceland, pm, calls, snap, vote, pedophile, fu...</td>\n",
              "      <td>0.333333</td>\n",
              "      <td>0.000000</td>\n",
              "      <td>0.666667</td>\n",
              "    </tr>\n",
              "    <tr>\n",
              "      <th>3</th>\n",
              "      <td>3</td>\n",
              "      <td>76</td>\n",
              "      <td>slap</td>\n",
              "      <td>20000</td>\n",
              "      <td>0.4</td>\n",
              "      <td>[apparent, first, iran, israel, slap, militarily]</td>\n",
              "      <td>0.000000</td>\n",
              "      <td>0.000000</td>\n",
              "      <td>1.000000</td>\n",
              "    </tr>\n",
              "    <tr>\n",
              "      <th>4</th>\n",
              "      <td>4</td>\n",
              "      <td>6164</td>\n",
              "      <td>school</td>\n",
              "      <td>0</td>\n",
              "      <td>0.0</td>\n",
              "      <td>[trump, tell, week, ago, flynn, mislead, schoo...</td>\n",
              "      <td>0.000000</td>\n",
              "      <td>0.000000</td>\n",
              "      <td>1.000000</td>\n",
              "    </tr>\n",
              "  </tbody>\n",
              "</table>\n",
              "</div>"
            ],
            "text/plain": [
              "   Unnamed: 0     id     edit  ...  postive_count  negtive_count subjective_count\n",
              "0           0  14530    twins  ...       0.100000       0.100000         0.800000\n",
              "1           1  13034  bowling  ...       0.111111       0.222222         0.666667\n",
              "2           2   8731    party  ...       0.333333       0.000000         0.666667\n",
              "3           3     76     slap  ...       0.000000       0.000000         1.000000\n",
              "4           4   6164   school  ...       0.000000       0.000000         1.000000\n",
              "\n",
              "[5 rows x 9 columns]"
            ]
          },
          "metadata": {
            "tags": []
          },
          "execution_count": 8
        }
      ]
    },
    {
      "cell_type": "code",
      "metadata": {
        "id": "tNQ8-5eeNbue"
      },
      "source": [
        "globe_path = \"/content/drive/My Drive/glove/glove.6B.300d.txt\"\n",
        "def load_word_embeddings(file=globe_path):\n",
        "    embeddings={}\n",
        "    with open(file,'r') as infile:\n",
        "        for line in infile:\n",
        "            values=line.split()\n",
        "            embeddings[values[0]]=np.asarray(values[1:],dtype='float32')\n",
        "    return embeddings"
      ],
      "execution_count": 9,
      "outputs": []
    },
    {
      "cell_type": "code",
      "metadata": {
        "id": "Af6ITsv-tHYf",
        "outputId": "dd8c3dc1-feee-4dc4-9620-934644d21733",
        "colab": {
          "base_uri": "https://localhost:8080/"
        }
      },
      "source": [
        "embeddings = load_word_embeddings()\n",
        "len(embeddings.keys())"
      ],
      "execution_count": 14,
      "outputs": [
        {
          "output_type": "execute_result",
          "data": {
            "text/plain": [
              "400000"
            ]
          },
          "metadata": {
            "tags": []
          },
          "execution_count": 14
        }
      ]
    },
    {
      "cell_type": "code",
      "metadata": {
        "id": "gp8fTVthtNmT"
      },
      "source": [
        "def sentence_2_vector(vab, embeddings=embeddings,emb_size=300):\n",
        "    words=[w for w in vab if w.isalpha() and w in embeddings]\n",
        "    if len(words)==0:\n",
        "        return np.hstack([np.zeros(emb_size)])\n",
        "    M=np.array([embeddings[w] for w in words])\n",
        "    max,min = find_maxcos_and_mincos(M)\n",
        "    return np.append(M.mean(axis=0),np.array([max,min]))\n",
        "\n",
        "def find_maxcos_and_mincos(M):\n",
        "    max = -5\n",
        "    min = 5\n",
        "    for i in range(M.shape[0]):\n",
        "      for j in range(i+1 , M.shape[0]):\n",
        "        vector1 = M[i];\n",
        "        vector2 = M[j];\n",
        "        temp = np.dot(vector1,vector2)/(np.linalg.norm(vector1)*(np.linalg.norm(vector2)))\n",
        "        if temp > max:\n",
        "          max = temp\n",
        "        if temp < min:\n",
        "          min = temp\n",
        "      return max,min"
      ],
      "execution_count": 15,
      "outputs": []
    },
    {
      "cell_type": "code",
      "metadata": {
        "id": "qVt2q6c0tYdF",
        "outputId": "586fda01-8e68-46af-92e6-b9450d1c7572",
        "colab": {
          "base_uri": "https://localhost:8080/"
        }
      },
      "source": [
        "edit_train = np.array([sentence_2_vector(x) for x in train_data['edi_vab'].values.tolist()])\n",
        "# ori_train = np.array([sentence_2_vector(x) for x in train_data['ori_vab'].values.tolist()])\n",
        "edit_train.shape"
      ],
      "execution_count": 17,
      "outputs": [
        {
          "output_type": "execute_result",
          "data": {
            "text/plain": [
              "(9652, 302)"
            ]
          },
          "metadata": {
            "tags": []
          },
          "execution_count": 17
        }
      ]
    },
    {
      "cell_type": "code",
      "metadata": {
        "id": "0DBUCAE0vtEA"
      },
      "source": [
        "train_data['is_humor'] = train_data['meanGrade'].apply(lambda x : 1 if x > 1.5 else 0)"
      ],
      "execution_count": 22,
      "outputs": []
    },
    {
      "cell_type": "code",
      "metadata": {
        "id": "97Z-JtPkvt_P",
        "outputId": "472354f8-8c37-48d8-a25c-4d001405cde2",
        "colab": {
          "base_uri": "https://localhost:8080/",
          "height": 204
        }
      },
      "source": [
        "another_data = train_data[['postive_count','negtive_count','subjective_count','is_humor']]\n",
        "another_data.head()"
      ],
      "execution_count": 27,
      "outputs": [
        {
          "output_type": "execute_result",
          "data": {
            "text/html": [
              "<div>\n",
              "<style scoped>\n",
              "    .dataframe tbody tr th:only-of-type {\n",
              "        vertical-align: middle;\n",
              "    }\n",
              "\n",
              "    .dataframe tbody tr th {\n",
              "        vertical-align: top;\n",
              "    }\n",
              "\n",
              "    .dataframe thead th {\n",
              "        text-align: right;\n",
              "    }\n",
              "</style>\n",
              "<table border=\"1\" class=\"dataframe\">\n",
              "  <thead>\n",
              "    <tr style=\"text-align: right;\">\n",
              "      <th></th>\n",
              "      <th>postive_count</th>\n",
              "      <th>negtive_count</th>\n",
              "      <th>subjective_count</th>\n",
              "      <th>is_humor</th>\n",
              "    </tr>\n",
              "  </thead>\n",
              "  <tbody>\n",
              "    <tr>\n",
              "      <th>0</th>\n",
              "      <td>0.100000</td>\n",
              "      <td>0.100000</td>\n",
              "      <td>0.800000</td>\n",
              "      <td>0</td>\n",
              "    </tr>\n",
              "    <tr>\n",
              "      <th>1</th>\n",
              "      <td>0.111111</td>\n",
              "      <td>0.222222</td>\n",
              "      <td>0.666667</td>\n",
              "      <td>1</td>\n",
              "    </tr>\n",
              "    <tr>\n",
              "      <th>2</th>\n",
              "      <td>0.333333</td>\n",
              "      <td>0.000000</td>\n",
              "      <td>0.666667</td>\n",
              "      <td>0</td>\n",
              "    </tr>\n",
              "    <tr>\n",
              "      <th>3</th>\n",
              "      <td>0.000000</td>\n",
              "      <td>0.000000</td>\n",
              "      <td>1.000000</td>\n",
              "      <td>0</td>\n",
              "    </tr>\n",
              "    <tr>\n",
              "      <th>4</th>\n",
              "      <td>0.000000</td>\n",
              "      <td>0.000000</td>\n",
              "      <td>1.000000</td>\n",
              "      <td>0</td>\n",
              "    </tr>\n",
              "  </tbody>\n",
              "</table>\n",
              "</div>"
            ],
            "text/plain": [
              "   postive_count  negtive_count  subjective_count  is_humor\n",
              "0       0.100000       0.100000          0.800000         0\n",
              "1       0.111111       0.222222          0.666667         1\n",
              "2       0.333333       0.000000          0.666667         0\n",
              "3       0.000000       0.000000          1.000000         0\n",
              "4       0.000000       0.000000          1.000000         0"
            ]
          },
          "metadata": {
            "tags": []
          },
          "execution_count": 27
        }
      ]
    },
    {
      "cell_type": "code",
      "metadata": {
        "id": "O-ZdkbT4H_oG",
        "outputId": "20b17f27-09aa-417f-b443-fb5917cd8867",
        "colab": {
          "base_uri": "https://localhost:8080/"
        }
      },
      "source": [
        "another_data.values.tolist()\n",
        "another_data = np.array(another_data.values.tolist())\n",
        "another_data.shape"
      ],
      "execution_count": 28,
      "outputs": [
        {
          "output_type": "execute_result",
          "data": {
            "text/plain": [
              "(9652, 4)"
            ]
          },
          "metadata": {
            "tags": []
          },
          "execution_count": 28
        }
      ]
    },
    {
      "cell_type": "code",
      "metadata": {
        "id": "jYK2JvFTUEKa",
        "outputId": "a1903ba8-4d46-4afc-ce36-e7c5268825a0",
        "colab": {
          "base_uri": "https://localhost:8080/"
        }
      },
      "source": [
        "all_data = np.append(edit_train,another_data,axis=1)\n",
        "all_data.shape"
      ],
      "execution_count": 31,
      "outputs": [
        {
          "output_type": "execute_result",
          "data": {
            "text/plain": [
              "(9652, 306)"
            ]
          },
          "metadata": {
            "tags": []
          },
          "execution_count": 31
        }
      ]
    },
    {
      "cell_type": "code",
      "metadata": {
        "id": "Qmh2kQeQOxJ1"
      },
      "source": [
        "np.save(\"preprocessed_data.npy\",all_data)"
      ],
      "execution_count": 63,
      "outputs": []
    },
    {
      "cell_type": "code",
      "metadata": {
        "id": "qIUI72k1C_as",
        "outputId": "c1db368b-f33c-4647-fb85-9b20e23f40c1",
        "colab": {
          "base_uri": "https://localhost:8080/"
        }
      },
      "source": [
        "X_train = all_data[:,:-1]\n",
        "X_train"
      ],
      "execution_count": 33,
      "outputs": [
        {
          "output_type": "execute_result",
          "data": {
            "text/plain": [
              "array([[-0.09562676,  0.12027788,  0.02145988, ...,  0.1       ,\n",
              "         0.1       ,  0.8       ],\n",
              "       [-0.04961512,  0.40499023,  0.02239013, ...,  0.11111111,\n",
              "         0.22222222,  0.66666667],\n",
              "       [ 0.12004679, -0.09314055, -0.03396578, ...,  0.33333333,\n",
              "         0.        ,  0.66666667],\n",
              "       ...,\n",
              "       [ 0.2142002 , -0.07271703, -0.00600445, ...,  0.        ,\n",
              "         0.5       ,  0.5       ],\n",
              "       [-0.20017782,  0.0013544 , -0.0593844 , ...,  0.1       ,\n",
              "         0.1       ,  0.8       ],\n",
              "       [ 0.03635333,  0.124628  , -0.04373967, ...,  0.25      ,\n",
              "         0.25      ,  0.5       ]])"
            ]
          },
          "metadata": {
            "tags": []
          },
          "execution_count": 33
        }
      ]
    },
    {
      "cell_type": "code",
      "metadata": {
        "id": "qXLIB1acDBvW",
        "outputId": "e5326fa7-40b5-40b7-c120-ad4fdb58d317",
        "colab": {
          "base_uri": "https://localhost:8080/"
        }
      },
      "source": [
        "y_train = all_data[:,-1]\n",
        "y_train"
      ],
      "execution_count": 34,
      "outputs": [
        {
          "output_type": "execute_result",
          "data": {
            "text/plain": [
              "array([0., 1., 0., ..., 0., 0., 0.])"
            ]
          },
          "metadata": {
            "tags": []
          },
          "execution_count": 34
        }
      ]
    },
    {
      "cell_type": "code",
      "metadata": {
        "id": "Z6CIuERSDeng"
      },
      "source": [
        "X_train, X_test, y_train, y_test = train_test_split(X_train,y_train,test_size=0.2)"
      ],
      "execution_count": 37,
      "outputs": []
    },
    {
      "cell_type": "code",
      "metadata": {
        "id": "O4zUa_MpE8sq"
      },
      "source": [
        "import xgboost as xgb"
      ],
      "execution_count": 38,
      "outputs": []
    },
    {
      "cell_type": "code",
      "metadata": {
        "id": "dzyUY--MFPFJ",
        "outputId": "b54345e2-bb42-4fbf-d39f-6462e47ea5c4",
        "colab": {
          "base_uri": "https://localhost:8080/",
          "height": 341
        }
      },
      "source": [
        "xgb_pars = {\"min_child_weight\": 50, \"eta\": 0.05, \"max_depth\": 8,\n",
        "            \"subsample\": 0.8, \"silent\" : 1, \"nthread\": 4,\n",
        "            \"eval_metric\": \"logloss\", \"objective\": \"binary:logistic\"}\n",
        "\n",
        "d_train = xgb.DMatrix(X_train, label=y_train)\n",
        "d_val = xgb.DMatrix(X_test, label=y_test)\n",
        "d_test = xgb.DMatrix(X_test)\n",
        "watchlist = [(d_train, 'train'), (d_val, 'valid')]\n",
        "\n",
        "bst = xgb.train(xgb_pars, d_train, 400, watchlist, early_stopping_rounds=50, verbose_eval=50)"
      ],
      "execution_count": 48,
      "outputs": [
        {
          "output_type": "error",
          "ename": "ValueError",
          "evalue": "ignored",
          "traceback": [
            "\u001b[0;31m---------------------------------------------------------------------------\u001b[0m",
            "\u001b[0;31mValueError\u001b[0m                                Traceback (most recent call last)",
            "\u001b[0;32m<ipython-input-48-97ef22bb15c1>\u001b[0m in \u001b[0;36m<module>\u001b[0;34m()\u001b[0m\n\u001b[1;32m      9\u001b[0m \u001b[0mwatchlist\u001b[0m \u001b[0;34m=\u001b[0m \u001b[0;34m[\u001b[0m\u001b[0;34m(\u001b[0m\u001b[0md_train\u001b[0m\u001b[0;34m,\u001b[0m \u001b[0;34m'train'\u001b[0m\u001b[0;34m)\u001b[0m\u001b[0;34m,\u001b[0m \u001b[0;34m(\u001b[0m\u001b[0md_val\u001b[0m\u001b[0;34m,\u001b[0m \u001b[0;34m'valid'\u001b[0m\u001b[0;34m)\u001b[0m\u001b[0;34m]\u001b[0m\u001b[0;34m\u001b[0m\u001b[0;34m\u001b[0m\u001b[0m\n\u001b[1;32m     10\u001b[0m \u001b[0;34m\u001b[0m\u001b[0m\n\u001b[0;32m---> 11\u001b[0;31m \u001b[0mmodel\u001b[0m\u001b[0;34m.\u001b[0m\u001b[0mfit\u001b[0m\u001b[0;34m(\u001b[0m\u001b[0mxgb_pars\u001b[0m\u001b[0;34m,\u001b[0m \u001b[0md_train\u001b[0m\u001b[0;34m,\u001b[0m \u001b[0;36m400\u001b[0m\u001b[0;34m,\u001b[0m \u001b[0mwatchlist\u001b[0m\u001b[0;34m,\u001b[0m \u001b[0mearly_stopping_rounds\u001b[0m\u001b[0;34m=\u001b[0m\u001b[0;36m50\u001b[0m\u001b[0;34m)\u001b[0m\u001b[0;34m\u001b[0m\u001b[0;34m\u001b[0m\u001b[0m\n\u001b[0m",
            "\u001b[0;32m/usr/local/lib/python3.6/dist-packages/xgboost/sklearn.py\u001b[0m in \u001b[0;36mfit\u001b[0;34m(self, X, y, sample_weight, eval_set, eval_metric, early_stopping_rounds, verbose, xgb_model, sample_weight_eval_set, callbacks)\u001b[0m\n\u001b[1;32m    699\u001b[0m                 \u001b[0mxgb_options\u001b[0m\u001b[0;34m.\u001b[0m\u001b[0mupdate\u001b[0m\u001b[0;34m(\u001b[0m\u001b[0;34m{\u001b[0m\u001b[0;34m\"eval_metric\"\u001b[0m\u001b[0;34m:\u001b[0m \u001b[0meval_metric\u001b[0m\u001b[0;34m}\u001b[0m\u001b[0;34m)\u001b[0m\u001b[0;34m\u001b[0m\u001b[0;34m\u001b[0m\u001b[0m\n\u001b[1;32m    700\u001b[0m \u001b[0;34m\u001b[0m\u001b[0m\n\u001b[0;32m--> 701\u001b[0;31m         \u001b[0mself\u001b[0m\u001b[0;34m.\u001b[0m\u001b[0m_le\u001b[0m \u001b[0;34m=\u001b[0m \u001b[0mXGBLabelEncoder\u001b[0m\u001b[0;34m(\u001b[0m\u001b[0;34m)\u001b[0m\u001b[0;34m.\u001b[0m\u001b[0mfit\u001b[0m\u001b[0;34m(\u001b[0m\u001b[0my\u001b[0m\u001b[0;34m)\u001b[0m\u001b[0;34m\u001b[0m\u001b[0;34m\u001b[0m\u001b[0m\n\u001b[0m\u001b[1;32m    702\u001b[0m         \u001b[0mtraining_labels\u001b[0m \u001b[0;34m=\u001b[0m \u001b[0mself\u001b[0m\u001b[0;34m.\u001b[0m\u001b[0m_le\u001b[0m\u001b[0;34m.\u001b[0m\u001b[0mtransform\u001b[0m\u001b[0;34m(\u001b[0m\u001b[0my\u001b[0m\u001b[0;34m)\u001b[0m\u001b[0;34m\u001b[0m\u001b[0;34m\u001b[0m\u001b[0m\n\u001b[1;32m    703\u001b[0m \u001b[0;34m\u001b[0m\u001b[0m\n",
            "\u001b[0;32m/usr/local/lib/python3.6/dist-packages/sklearn/preprocessing/_label.py\u001b[0m in \u001b[0;36mfit\u001b[0;34m(self, y)\u001b[0m\n\u001b[1;32m    233\u001b[0m         \u001b[0mself\u001b[0m \u001b[0;34m:\u001b[0m \u001b[0mreturns\u001b[0m \u001b[0man\u001b[0m \u001b[0minstance\u001b[0m \u001b[0mof\u001b[0m \u001b[0mself\u001b[0m\u001b[0;34m.\u001b[0m\u001b[0;34m\u001b[0m\u001b[0;34m\u001b[0m\u001b[0m\n\u001b[1;32m    234\u001b[0m         \"\"\"\n\u001b[0;32m--> 235\u001b[0;31m         \u001b[0my\u001b[0m \u001b[0;34m=\u001b[0m \u001b[0mcolumn_or_1d\u001b[0m\u001b[0;34m(\u001b[0m\u001b[0my\u001b[0m\u001b[0;34m,\u001b[0m \u001b[0mwarn\u001b[0m\u001b[0;34m=\u001b[0m\u001b[0;32mTrue\u001b[0m\u001b[0;34m)\u001b[0m\u001b[0;34m\u001b[0m\u001b[0;34m\u001b[0m\u001b[0m\n\u001b[0m\u001b[1;32m    236\u001b[0m         \u001b[0mself\u001b[0m\u001b[0;34m.\u001b[0m\u001b[0mclasses_\u001b[0m \u001b[0;34m=\u001b[0m \u001b[0m_encode\u001b[0m\u001b[0;34m(\u001b[0m\u001b[0my\u001b[0m\u001b[0;34m)\u001b[0m\u001b[0;34m\u001b[0m\u001b[0;34m\u001b[0m\u001b[0m\n\u001b[1;32m    237\u001b[0m         \u001b[0;32mreturn\u001b[0m \u001b[0mself\u001b[0m\u001b[0;34m\u001b[0m\u001b[0;34m\u001b[0m\u001b[0m\n",
            "\u001b[0;32m/usr/local/lib/python3.6/dist-packages/sklearn/utils/validation.py\u001b[0m in \u001b[0;36mcolumn_or_1d\u001b[0;34m(y, warn)\u001b[0m\n\u001b[1;32m    795\u001b[0m         \u001b[0;32mreturn\u001b[0m \u001b[0mnp\u001b[0m\u001b[0;34m.\u001b[0m\u001b[0mravel\u001b[0m\u001b[0;34m(\u001b[0m\u001b[0my\u001b[0m\u001b[0;34m)\u001b[0m\u001b[0;34m\u001b[0m\u001b[0;34m\u001b[0m\u001b[0m\n\u001b[1;32m    796\u001b[0m \u001b[0;34m\u001b[0m\u001b[0m\n\u001b[0;32m--> 797\u001b[0;31m     \u001b[0;32mraise\u001b[0m \u001b[0mValueError\u001b[0m\u001b[0;34m(\u001b[0m\u001b[0;34m\"bad input shape {0}\"\u001b[0m\u001b[0;34m.\u001b[0m\u001b[0mformat\u001b[0m\u001b[0;34m(\u001b[0m\u001b[0mshape\u001b[0m\u001b[0;34m)\u001b[0m\u001b[0;34m)\u001b[0m\u001b[0;34m\u001b[0m\u001b[0;34m\u001b[0m\u001b[0m\n\u001b[0m\u001b[1;32m    798\u001b[0m \u001b[0;34m\u001b[0m\u001b[0m\n\u001b[1;32m    799\u001b[0m \u001b[0;34m\u001b[0m\u001b[0m\n",
            "\u001b[0;31mValueError\u001b[0m: bad input shape ()"
          ]
        }
      ]
    },
    {
      "cell_type": "code",
      "metadata": {
        "id": "_BIuiL0JFfkQ"
      },
      "source": [
        "ans = bst.predict(d_test )\n",
        "for i in range(len(ans)):\n",
        "  if ans[i] > 0.5:\n",
        "    ans[i] = 1\n",
        "  else:\n",
        "    ans[i] = 0"
      ],
      "execution_count": 49,
      "outputs": []
    },
    {
      "cell_type": "code",
      "metadata": {
        "id": "Ok0wPXjfGThK",
        "outputId": "4df30d19-4570-496f-d7c8-f43bbfe4e4ed",
        "colab": {
          "base_uri": "https://localhost:8080/"
        }
      },
      "source": [
        "print((len(ans)-sum(abs(ans - y_test)))/len(ans))"
      ],
      "execution_count": 62,
      "outputs": [
        {
          "output_type": "stream",
          "text": [
            "0.8208182288969446\n"
          ],
          "name": "stdout"
        }
      ]
    },
    {
      "cell_type": "code",
      "metadata": {
        "id": "63VrxTREI31c"
      },
      "source": [
        ""
      ],
      "execution_count": null,
      "outputs": []
    }
  ]
}