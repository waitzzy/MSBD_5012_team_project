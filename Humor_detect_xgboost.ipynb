{
  "nbformat": 4,
  "nbformat_minor": 0,
  "metadata": {
    "colab": {
      "name": "Humor_detect_xgboost.ipynb",
      "provenance": [],
      "collapsed_sections": []
    },
    "kernelspec": {
      "name": "python3",
      "display_name": "Python 3"
    }
  },
  "cells": [
    {
      "cell_type": "code",
      "metadata": {
        "id": "5NheWOx2kCV7"
      },
      "source": [
        "import torch\n",
        "from torchtext import data\n",
        "from torchtext import datasets\n",
        "\n",
        "SEED = 1234\n",
        "\n",
        "torch.manual_seed(SEED)\n",
        "torch.backends.cudnn.deterministic = True\n",
        "\n",
        "TEXT = data.Field(tokenize = 'spacy', include_lengths = True)\n",
        "LABEL = data.LabelField(dtype = torch.float)"
      ],
      "execution_count": null,
      "outputs": []
    },
    {
      "cell_type": "code",
      "metadata": {
        "id": "MFzgBgQMkrWP"
      },
      "source": [
        "import pandas as pd \n",
        "from torchtext.vocab import Vectors\n",
        "from torch.nn import init\n",
        "from sklearn.model_selection import train_test_split"
      ],
      "execution_count": null,
      "outputs": []
    },
    {
      "cell_type": "code",
      "metadata": {
        "id": "hwGmkk8xkv4H"
      },
      "source": [
        "data = pd.read_csv(\"/train.csv\")\n",
        "data.head()"
      ],
      "execution_count": null,
      "outputs": []
    },
    {
      "cell_type": "code",
      "metadata": {
        "id": "dlMeRSWW1xnK"
      },
      "source": [
        "original = data[\"original\"].tolist()"
      ],
      "execution_count": null,
      "outputs": []
    },
    {
      "cell_type": "code",
      "metadata": {
        "id": "rDxAv7kb2YG2"
      },
      "source": [
        "edit = data[\"edit\"].tolist()"
      ],
      "execution_count": null,
      "outputs": []
    },
    {
      "cell_type": "code",
      "metadata": {
        "id": "R3nv3ow13V0E",
        "colab": {
          "base_uri": "https://localhost:8080/",
          "height": 34
        },
        "outputId": "1dca88af-3b11-4203-e885-a016e5aa48c9"
      },
      "source": [
        "print(len(edit))"
      ],
      "execution_count": null,
      "outputs": [
        {
          "output_type": "stream",
          "text": [
            "9652\n"
          ],
          "name": "stdout"
        }
      ]
    },
    {
      "cell_type": "code",
      "metadata": {
        "id": "OaTY-nQolAxf"
      },
      "source": [
        "import re"
      ],
      "execution_count": null,
      "outputs": []
    },
    {
      "cell_type": "code",
      "metadata": {
        "id": "Xs6jnix-8KrL",
        "colab": {
          "base_uri": "https://localhost:8080/",
          "height": 54
        },
        "outputId": "9f8ba8e5-aa44-4f43-bebe-0fae7f86e205"
      },
      "source": [
        "print(original[:10])"
      ],
      "execution_count": null,
      "outputs": [
        {
          "output_type": "stream",
          "text": [
            "['France is ‘ hunting down its citizens who joined <Isis/> ’ without trial in Iraq', 'Pentagon claims 2,000 % increase in Russian trolls after <Syria/> strikes . What does that mean ?', 'Iceland PM Calls Snap Vote as Pedophile Furor Crashes <Coalition/> ', 'In an apparent first , Iran and Israel <engage/> each other militarily', 'Trump was told weeks ago that Flynn misled <Vice/> President .', 'All 22 <promises/> Trump made in his speech to Congress , in one chart', 'New DOJ alert system will flag <crimes/> against police', \"As Someone Who Grew Up Among Fundamentalist <Christians/> In The US , I 'm Surprised Anyone 's Surprised About Roy Moore\", \"Canadians may pay more taxes than Americans , but here 's what they get for their <money/> \", 'Dutch minister resigns in drug baron <row/> ']\n"
          ],
          "name": "stdout"
        }
      ]
    },
    {
      "cell_type": "code",
      "metadata": {
        "id": "ntrisypzmcX8",
        "colab": {
          "base_uri": "https://localhost:8080/",
          "height": 204
        },
        "outputId": "52c7a871-9660-4a34-9569-0e5e995b4200"
      },
      "source": [
        "pat = \"<.*>\"\n",
        "after_edit = []\n",
        "for i in range(len(edit)):\n",
        "  after_edit.append(re.sub(pat,edit[i],original[i]))\n",
        "data[\"after_edit\"] = after_edit\n",
        "data.head()"
      ],
      "execution_count": null,
      "outputs": [
        {
          "output_type": "execute_result",
          "data": {
            "text/html": [
              "<div>\n",
              "<style scoped>\n",
              "    .dataframe tbody tr th:only-of-type {\n",
              "        vertical-align: middle;\n",
              "    }\n",
              "\n",
              "    .dataframe tbody tr th {\n",
              "        vertical-align: top;\n",
              "    }\n",
              "\n",
              "    .dataframe thead th {\n",
              "        text-align: right;\n",
              "    }\n",
              "</style>\n",
              "<table border=\"1\" class=\"dataframe\">\n",
              "  <thead>\n",
              "    <tr style=\"text-align: right;\">\n",
              "      <th></th>\n",
              "      <th>id</th>\n",
              "      <th>original</th>\n",
              "      <th>edit</th>\n",
              "      <th>grades</th>\n",
              "      <th>meanGrade</th>\n",
              "      <th>after_edit</th>\n",
              "    </tr>\n",
              "  </thead>\n",
              "  <tbody>\n",
              "    <tr>\n",
              "      <th>0</th>\n",
              "      <td>14530</td>\n",
              "      <td>France is ‘ hunting down its citizens who join...</td>\n",
              "      <td>twins</td>\n",
              "      <td>10000</td>\n",
              "      <td>0.2</td>\n",
              "      <td>France is ‘ hunting down its citizens who join...</td>\n",
              "    </tr>\n",
              "    <tr>\n",
              "      <th>1</th>\n",
              "      <td>13034</td>\n",
              "      <td>Pentagon claims 2,000 % increase in Russian tr...</td>\n",
              "      <td>bowling</td>\n",
              "      <td>33110</td>\n",
              "      <td>1.6</td>\n",
              "      <td>Pentagon claims 2,000 % increase in Russian tr...</td>\n",
              "    </tr>\n",
              "    <tr>\n",
              "      <th>2</th>\n",
              "      <td>8731</td>\n",
              "      <td>Iceland PM Calls Snap Vote as Pedophile Furor ...</td>\n",
              "      <td>party</td>\n",
              "      <td>22100</td>\n",
              "      <td>1.0</td>\n",
              "      <td>Iceland PM Calls Snap Vote as Pedophile Furor ...</td>\n",
              "    </tr>\n",
              "    <tr>\n",
              "      <th>3</th>\n",
              "      <td>76</td>\n",
              "      <td>In an apparent first , Iran and Israel &lt;engage...</td>\n",
              "      <td>slap</td>\n",
              "      <td>20000</td>\n",
              "      <td>0.4</td>\n",
              "      <td>In an apparent first , Iran and Israel slap ea...</td>\n",
              "    </tr>\n",
              "    <tr>\n",
              "      <th>4</th>\n",
              "      <td>6164</td>\n",
              "      <td>Trump was told weeks ago that Flynn misled &lt;Vi...</td>\n",
              "      <td>school</td>\n",
              "      <td>0</td>\n",
              "      <td>0.0</td>\n",
              "      <td>Trump was told weeks ago that Flynn misled sch...</td>\n",
              "    </tr>\n",
              "  </tbody>\n",
              "</table>\n",
              "</div>"
            ],
            "text/plain": [
              "      id  ...                                         after_edit\n",
              "0  14530  ...  France is ‘ hunting down its citizens who join...\n",
              "1  13034  ...  Pentagon claims 2,000 % increase in Russian tr...\n",
              "2   8731  ...  Iceland PM Calls Snap Vote as Pedophile Furor ...\n",
              "3     76  ...  In an apparent first , Iran and Israel slap ea...\n",
              "4   6164  ...  Trump was told weeks ago that Flynn misled sch...\n",
              "\n",
              "[5 rows x 6 columns]"
            ]
          },
          "metadata": {
            "tags": []
          },
          "execution_count": 26
        }
      ]
    },
    {
      "cell_type": "code",
      "metadata": {
        "id": "uLE-kmcL1QKI"
      },
      "source": [
        "data.to_csv(\"train_data_1.csv\")"
      ],
      "execution_count": null,
      "outputs": []
    },
    {
      "cell_type": "code",
      "metadata": {
        "id": "xA7QAvwi365u"
      },
      "source": [
        "import pandas as pd "
      ],
      "execution_count": null,
      "outputs": []
    },
    {
      "cell_type": "code",
      "metadata": {
        "id": "dav31xtiJ1Pf",
        "colab": {
          "base_uri": "https://localhost:8080/",
          "height": 272
        },
        "outputId": "37ac7fcf-6867-4d5a-a233-c6c141bf4e91"
      },
      "source": [
        "train_data = pd.read_csv(\"/content/drive/MyDrive/project_zzy/train_data_1.csv\")\n",
        "train_data.head()"
      ],
      "execution_count": null,
      "outputs": [
        {
          "output_type": "execute_result",
          "data": {
            "text/html": [
              "<div>\n",
              "<style scoped>\n",
              "    .dataframe tbody tr th:only-of-type {\n",
              "        vertical-align: middle;\n",
              "    }\n",
              "\n",
              "    .dataframe tbody tr th {\n",
              "        vertical-align: top;\n",
              "    }\n",
              "\n",
              "    .dataframe thead th {\n",
              "        text-align: right;\n",
              "    }\n",
              "</style>\n",
              "<table border=\"1\" class=\"dataframe\">\n",
              "  <thead>\n",
              "    <tr style=\"text-align: right;\">\n",
              "      <th></th>\n",
              "      <th>Unnamed: 0</th>\n",
              "      <th>id</th>\n",
              "      <th>original</th>\n",
              "      <th>edit</th>\n",
              "      <th>grades</th>\n",
              "      <th>meanGrade</th>\n",
              "      <th>after_edit</th>\n",
              "    </tr>\n",
              "  </thead>\n",
              "  <tbody>\n",
              "    <tr>\n",
              "      <th>0</th>\n",
              "      <td>0</td>\n",
              "      <td>14530</td>\n",
              "      <td>France is ‘ hunting down its citizens who join...</td>\n",
              "      <td>twins</td>\n",
              "      <td>10000</td>\n",
              "      <td>0.2</td>\n",
              "      <td>France is ‘ hunting down its citizens who join...</td>\n",
              "    </tr>\n",
              "    <tr>\n",
              "      <th>1</th>\n",
              "      <td>1</td>\n",
              "      <td>13034</td>\n",
              "      <td>Pentagon claims 2,000 % increase in Russian tr...</td>\n",
              "      <td>bowling</td>\n",
              "      <td>33110</td>\n",
              "      <td>1.6</td>\n",
              "      <td>Pentagon claims 2,000 % increase in Russian tr...</td>\n",
              "    </tr>\n",
              "    <tr>\n",
              "      <th>2</th>\n",
              "      <td>2</td>\n",
              "      <td>8731</td>\n",
              "      <td>Iceland PM Calls Snap Vote as Pedophile Furor ...</td>\n",
              "      <td>party</td>\n",
              "      <td>22100</td>\n",
              "      <td>1.0</td>\n",
              "      <td>Iceland PM Calls Snap Vote as Pedophile Furor ...</td>\n",
              "    </tr>\n",
              "    <tr>\n",
              "      <th>3</th>\n",
              "      <td>3</td>\n",
              "      <td>76</td>\n",
              "      <td>In an apparent first , Iran and Israel &lt;engage...</td>\n",
              "      <td>slap</td>\n",
              "      <td>20000</td>\n",
              "      <td>0.4</td>\n",
              "      <td>In an apparent first , Iran and Israel slap ea...</td>\n",
              "    </tr>\n",
              "    <tr>\n",
              "      <th>4</th>\n",
              "      <td>4</td>\n",
              "      <td>6164</td>\n",
              "      <td>Trump was told weeks ago that Flynn misled &lt;Vi...</td>\n",
              "      <td>school</td>\n",
              "      <td>0</td>\n",
              "      <td>0.0</td>\n",
              "      <td>Trump was told weeks ago that Flynn misled sch...</td>\n",
              "    </tr>\n",
              "  </tbody>\n",
              "</table>\n",
              "</div>"
            ],
            "text/plain": [
              "   Unnamed: 0  ...                                         after_edit\n",
              "0           0  ...  France is ‘ hunting down its citizens who join...\n",
              "1           1  ...  Pentagon claims 2,000 % increase in Russian tr...\n",
              "2           2  ...  Iceland PM Calls Snap Vote as Pedophile Furor ...\n",
              "3           3  ...  In an apparent first , Iran and Israel slap ea...\n",
              "4           4  ...  Trump was told weeks ago that Flynn misled sch...\n",
              "\n",
              "[5 rows x 7 columns]"
            ]
          },
          "metadata": {
            "tags": []
          },
          "execution_count": 4
        }
      ]
    },
    {
      "cell_type": "code",
      "metadata": {
        "id": "KIoauMC3KAYb",
        "colab": {
          "base_uri": "https://localhost:8080/"
        },
        "outputId": "4592cc7b-f337-4e2b-8733-a0289e6c5336"
      },
      "source": [
        "from google.colab import drive\n",
        "drive.mount('/content/drive')"
      ],
      "execution_count": null,
      "outputs": [
        {
          "output_type": "stream",
          "text": [
            "Mounted at /content/drive\n"
          ],
          "name": "stdout"
        }
      ]
    },
    {
      "cell_type": "code",
      "metadata": {
        "id": "Ec6uuTg0KA3U",
        "colab": {
          "base_uri": "https://localhost:8080/"
        },
        "outputId": "c138dd8f-5444-4d8c-ad75-739afaec2c05"
      },
      "source": [
        "train_data['original']"
      ],
      "execution_count": null,
      "outputs": [
        {
          "output_type": "execute_result",
          "data": {
            "text/plain": [
              "0       France is ‘ hunting down its citizens who join...\n",
              "1       Pentagon claims 2,000 % increase in Russian tr...\n",
              "2       Iceland PM Calls Snap Vote as Pedophile Furor ...\n",
              "3       In an apparent first , Iran and Israel <engage...\n",
              "4       Trump was told weeks ago that Flynn misled <Vi...\n",
              "                              ...                        \n",
              "9647    State officials blast ' unprecedented ' DHS <m...\n",
              "9648    Protesters Rally for <Refugees/> Detained at J...\n",
              "9649    Cruise line Carnival Corp. joins the fight aga...\n",
              "9650    Columbia police hunt woman seen with <gun/> ne...\n",
              "9651    Here 's What 's In The House-Approved Health <...\n",
              "Name: original, Length: 9652, dtype: object"
            ]
          },
          "metadata": {
            "tags": []
          },
          "execution_count": 5
        }
      ]
    },
    {
      "cell_type": "code",
      "metadata": {
        "id": "zov_J_5M6Gpj"
      },
      "source": [
        "humortest = pd.read_csv('/content/testForhumor.csv')"
      ],
      "execution_count": null,
      "outputs": []
    },
    {
      "cell_type": "code",
      "metadata": {
        "id": "iCNq-QPwKVYT",
        "colab": {
          "base_uri": "https://localhost:8080/"
        },
        "outputId": "0e0c3b39-2e81-4074-a759-9d2ce63e43fe"
      },
      "source": [
        "import pandas as pd\n",
        "import nltk\n",
        "import string\n",
        "from nltk.corpus import stopwords\n",
        "from nltk.tokenize import word_tokenize \n",
        "from nltk.tokenize import TweetTokenizer\n",
        "from nltk.corpus import wordnet\n",
        "from nltk.stem.wordnet import WordNetLemmatizer\n",
        "from nltk.sentiment.util import mark_negation\n",
        "from nltk.corpus import sentiwordnet as swn\n",
        "import numpy as np"
      ],
      "execution_count": null,
      "outputs": [
        {
          "output_type": "stream",
          "text": [
            "/usr/local/lib/python3.6/dist-packages/nltk/twitter/__init__.py:20: UserWarning: The twython library has not been installed. Some functionality from the twitter package will not be available.\n",
            "  warnings.warn(\"The twython library has not been installed. \"\n"
          ],
          "name": "stderr"
        }
      ]
    },
    {
      "cell_type": "code",
      "metadata": {
        "id": "6xLnbz8dMuLG"
      },
      "source": [
        "def text_score(text):\n",
        "\n",
        "    postive_count = 0 \n",
        "    negtive_count = 0 \n",
        "    subjective_count = 0 \n",
        "    #create单词表\n",
        "    #nltk.pos_tag是打标签\n",
        "    wordlist = nltk.pos_tag(text)\n",
        "    # word_tag_fq = nltk.FreqDist(ttt)\n",
        "    # wordlist = word_tag_fq.most_common()\n",
        "\n",
        "    #变为dataframe形式\n",
        "    key = []\n",
        "    part = []\n",
        "    for i in range(len(wordlist)):\n",
        "        key.append(wordlist[i][0])\n",
        "        part.append(wordlist[i][1])\n",
        "    textdf = pd.DataFrame({'key':key,\n",
        "                      'part':part},\n",
        "                      columns=['key','part'])\n",
        "\n",
        "    #编码\n",
        "    n = ['NN','NNP','NNPS','NNS','UH']\n",
        "    v = ['VB','VBD','VBG','VBN','VBP','VBZ']\n",
        "    a = ['JJ','JJR','JJS']\n",
        "    r = ['RB','RBR','RBS','RP','WRB']\n",
        "\n",
        "    for i in range(len(textdf['key'])):\n",
        "        z = textdf.iloc[i,1]\n",
        "\n",
        "        if z in n:\n",
        "            textdf.iloc[i,1]='n'\n",
        "        elif z in v:\n",
        "            textdf.iloc[i,1]='v'\n",
        "        elif z in a:\n",
        "            textdf.iloc[i,1]='a'\n",
        "        elif z in r:\n",
        "            textdf.iloc[i,1]='r'\n",
        "        else:\n",
        "            textdf.iloc[i,1]=''\n",
        "            \n",
        "        #计算单个评论的单词分数\n",
        "    score = []\n",
        "    for i in range(len(textdf['key'])):\n",
        "        m = list(swn.senti_synsets(textdf.iloc[i,0],textdf.iloc[i,1]))\n",
        "        s = 0\n",
        "        ra = 0\n",
        "        if len(m) > 0:\n",
        "            for j in range(len(m)):\n",
        "                s += m[j].pos_score()-m[j].neg_score()\n",
        "            if s > 0:\n",
        "              postive_count = postive_count + 1\n",
        "            elif s < 0:\n",
        "              negtive_count = negtive_count + 1\n",
        "            else:\n",
        "              subjective_count = subjective_count + 1\n",
        "        else:\n",
        "            subjective_count = subjective_count + 1\n",
        "    All_v = postive_count + negtive_count + subjective_count\n",
        "            \n",
        "    return postive_count/All_v, negtive_count/All_v, subjective_count/All_v\n",
        "\n",
        "\n",
        "\n",
        "\n",
        "\n",
        "def get_wordnet_pos(tag):\n",
        "    if tag.startswith('J'):\n",
        "        return wordnet.ADJ\n",
        "    elif tag.startswith('V'):\n",
        "        return wordnet.VERB\n",
        "    elif tag.startswith('N'):\n",
        "        return wordnet.NOUN\n",
        "    elif tag.startswith('R'):\n",
        "        return wordnet.ADV\n",
        "    else:\n",
        "        return None\n",
        "\n",
        "def process_text(text):\n",
        "  punc_removed = [word for word in text if word not in string.punctuation]\n",
        "  punc_removed = ''.join(punc_removed)\n",
        "  punc_removed = word_tokenize(punc_removed)\n",
        "  pos_tagged = nltk.pos_tag(punc_removed)\n",
        "  vocabularies = []\n",
        "  for token, tag in pos_tagged:\n",
        "      pos = get_wordnet_pos(tag) or wordnet.NOUN\n",
        "      lemmatizer = WordNetLemmatizer()\n",
        "      token = lemmatizer.lemmatize(token, pos)\n",
        "      if (token.lower() not in stopwords.words('english')):\n",
        "          vocabularies.append(token.lower())\n",
        "  postive_count,negtive_count,subjective_count = text_score(vocabularies)\n",
        "\n",
        "  return vocabularies, postive_count, negtive_count, subjective_count"
      ],
      "execution_count": null,
      "outputs": []
    },
    {
      "cell_type": "code",
      "metadata": {
        "id": "AVaBvLx1N7hS",
        "colab": {
          "base_uri": "https://localhost:8080/"
        },
        "outputId": "bbcb03f4-ca37-4688-bc45-88c45b6b63d7"
      },
      "source": [
        "nltk.download('punkt')\n",
        "nltk.download('stopwords') \n",
        "nltk.download('averaged_perceptron_tagger')\n",
        "nltk.download('wordnet')\n",
        "nltk.download('sentiwordnet')"
      ],
      "execution_count": null,
      "outputs": [
        {
          "output_type": "stream",
          "text": [
            "[nltk_data] Downloading package punkt to /root/nltk_data...\n",
            "[nltk_data]   Unzipping tokenizers/punkt.zip.\n",
            "[nltk_data] Downloading package stopwords to /root/nltk_data...\n",
            "[nltk_data]   Unzipping corpora/stopwords.zip.\n",
            "[nltk_data] Downloading package averaged_perceptron_tagger to\n",
            "[nltk_data]     /root/nltk_data...\n",
            "[nltk_data]   Unzipping taggers/averaged_perceptron_tagger.zip.\n",
            "[nltk_data] Downloading package wordnet to /root/nltk_data...\n",
            "[nltk_data]   Unzipping corpora/wordnet.zip.\n",
            "[nltk_data] Downloading package sentiwordnet to /root/nltk_data...\n",
            "[nltk_data]   Unzipping corpora/sentiwordnet.zip.\n"
          ],
          "name": "stdout"
        },
        {
          "output_type": "execute_result",
          "data": {
            "text/plain": [
              "True"
            ]
          },
          "metadata": {
            "tags": []
          },
          "execution_count": 7
        }
      ]
    },
    {
      "cell_type": "code",
      "metadata": {
        "colab": {
          "base_uri": "https://localhost:8080/",
          "height": 204
        },
        "id": "fAa7d5f76RfQ",
        "outputId": "3c0438c1-d09e-4437-fe39-44a0979d6cb7"
      },
      "source": [
        "humortest['text'] = humortest['vab'].apply(process_text)\n",
        "humortest[['edi_vab','postive_count','negtive_count','subjective_count']] = humortest['text'].apply(pd.Series)\n",
        "humortest.drop(['vab','text'],axis=1,inplace=True)\n",
        "humortest.head()"
      ],
      "execution_count": null,
      "outputs": [
        {
          "output_type": "execute_result",
          "data": {
            "text/html": [
              "<div>\n",
              "<style scoped>\n",
              "    .dataframe tbody tr th:only-of-type {\n",
              "        vertical-align: middle;\n",
              "    }\n",
              "\n",
              "    .dataframe tbody tr th {\n",
              "        vertical-align: top;\n",
              "    }\n",
              "\n",
              "    .dataframe thead th {\n",
              "        text-align: right;\n",
              "    }\n",
              "</style>\n",
              "<table border=\"1\" class=\"dataframe\">\n",
              "  <thead>\n",
              "    <tr style=\"text-align: right;\">\n",
              "      <th></th>\n",
              "      <th>Unnamed: 0</th>\n",
              "      <th>edi_vab</th>\n",
              "      <th>postive_count</th>\n",
              "      <th>negtive_count</th>\n",
              "      <th>subjective_count</th>\n",
              "    </tr>\n",
              "  </thead>\n",
              "  <tbody>\n",
              "    <tr>\n",
              "      <th>0</th>\n",
              "      <td>0</td>\n",
              "      <td>[france, ‘, hunt, citizen, join, ’, without, t...</td>\n",
              "      <td>0.000000</td>\n",
              "      <td>0.1</td>\n",
              "      <td>0.900000</td>\n",
              "    </tr>\n",
              "    <tr>\n",
              "      <th>1</th>\n",
              "      <td>1</td>\n",
              "      <td>[apparent, first, iran, israel, militarily, pa...</td>\n",
              "      <td>0.000000</td>\n",
              "      <td>0.0</td>\n",
              "      <td>1.000000</td>\n",
              "    </tr>\n",
              "    <tr>\n",
              "      <th>2</th>\n",
              "      <td>2</td>\n",
              "      <td>[trump, tell, week, ago, flynn, mislead, presi...</td>\n",
              "      <td>0.000000</td>\n",
              "      <td>0.0</td>\n",
              "      <td>1.000000</td>\n",
              "    </tr>\n",
              "    <tr>\n",
              "      <th>3</th>\n",
              "      <td>3</td>\n",
              "      <td>[canadian, may, pay, tax, american, get, mouth...</td>\n",
              "      <td>0.142857</td>\n",
              "      <td>0.0</td>\n",
              "      <td>0.857143</td>\n",
              "    </tr>\n",
              "    <tr>\n",
              "      <th>4</th>\n",
              "      <td>4</td>\n",
              "      <td>[dutch, minister, resigns, drug, baron, waddle]</td>\n",
              "      <td>0.166667</td>\n",
              "      <td>0.0</td>\n",
              "      <td>0.833333</td>\n",
              "    </tr>\n",
              "  </tbody>\n",
              "</table>\n",
              "</div>"
            ],
            "text/plain": [
              "   Unnamed: 0  ... subjective_count\n",
              "0           0  ...         0.900000\n",
              "1           1  ...         1.000000\n",
              "2           2  ...         1.000000\n",
              "3           3  ...         0.857143\n",
              "4           4  ...         0.833333\n",
              "\n",
              "[5 rows x 5 columns]"
            ]
          },
          "metadata": {
            "tags": []
          },
          "execution_count": 32
        }
      ]
    },
    {
      "cell_type": "code",
      "metadata": {
        "id": "u9NOhXjWNEXn",
        "colab": {
          "base_uri": "https://localhost:8080/",
          "height": 306
        },
        "outputId": "b2a91321-ca87-42df-ee35-c3a975f0fe55"
      },
      "source": [
        "# train_data['ori_vab'] = train_data['original'].apply(process_text)\n",
        "\n",
        "train_data['text'] = train_data['after_edit'].apply(process_text)\n",
        "train_data[['edi_vab','postive_count','negtive_count','subjective_count']] = train_data['text'].apply(pd.Series)\n",
        "\n",
        "train_data.drop(['original','after_edit','text'],axis=1,inplace=True)\n",
        "train_data.head()"
      ],
      "execution_count": null,
      "outputs": [
        {
          "output_type": "execute_result",
          "data": {
            "text/html": [
              "<div>\n",
              "<style scoped>\n",
              "    .dataframe tbody tr th:only-of-type {\n",
              "        vertical-align: middle;\n",
              "    }\n",
              "\n",
              "    .dataframe tbody tr th {\n",
              "        vertical-align: top;\n",
              "    }\n",
              "\n",
              "    .dataframe thead th {\n",
              "        text-align: right;\n",
              "    }\n",
              "</style>\n",
              "<table border=\"1\" class=\"dataframe\">\n",
              "  <thead>\n",
              "    <tr style=\"text-align: right;\">\n",
              "      <th></th>\n",
              "      <th>Unnamed: 0</th>\n",
              "      <th>id</th>\n",
              "      <th>edit</th>\n",
              "      <th>grades</th>\n",
              "      <th>meanGrade</th>\n",
              "      <th>edi_vab</th>\n",
              "      <th>postive_count</th>\n",
              "      <th>negtive_count</th>\n",
              "      <th>subjective_count</th>\n",
              "    </tr>\n",
              "  </thead>\n",
              "  <tbody>\n",
              "    <tr>\n",
              "      <th>0</th>\n",
              "      <td>0</td>\n",
              "      <td>14530</td>\n",
              "      <td>twins</td>\n",
              "      <td>10000</td>\n",
              "      <td>0.2</td>\n",
              "      <td>[france, ‘, hunt, citizen, join, twin, ’, with...</td>\n",
              "      <td>0.100000</td>\n",
              "      <td>0.100000</td>\n",
              "      <td>0.800000</td>\n",
              "    </tr>\n",
              "    <tr>\n",
              "      <th>1</th>\n",
              "      <td>1</td>\n",
              "      <td>13034</td>\n",
              "      <td>bowling</td>\n",
              "      <td>33110</td>\n",
              "      <td>1.6</td>\n",
              "      <td>[pentagon, claim, 2000, increase, russian, tro...</td>\n",
              "      <td>0.111111</td>\n",
              "      <td>0.222222</td>\n",
              "      <td>0.666667</td>\n",
              "    </tr>\n",
              "    <tr>\n",
              "      <th>2</th>\n",
              "      <td>2</td>\n",
              "      <td>8731</td>\n",
              "      <td>party</td>\n",
              "      <td>22100</td>\n",
              "      <td>1.0</td>\n",
              "      <td>[iceland, pm, calls, snap, vote, pedophile, fu...</td>\n",
              "      <td>0.333333</td>\n",
              "      <td>0.000000</td>\n",
              "      <td>0.666667</td>\n",
              "    </tr>\n",
              "    <tr>\n",
              "      <th>3</th>\n",
              "      <td>3</td>\n",
              "      <td>76</td>\n",
              "      <td>slap</td>\n",
              "      <td>20000</td>\n",
              "      <td>0.4</td>\n",
              "      <td>[apparent, first, iran, israel, slap, militarily]</td>\n",
              "      <td>0.000000</td>\n",
              "      <td>0.000000</td>\n",
              "      <td>1.000000</td>\n",
              "    </tr>\n",
              "    <tr>\n",
              "      <th>4</th>\n",
              "      <td>4</td>\n",
              "      <td>6164</td>\n",
              "      <td>school</td>\n",
              "      <td>0</td>\n",
              "      <td>0.0</td>\n",
              "      <td>[trump, tell, week, ago, flynn, mislead, schoo...</td>\n",
              "      <td>0.000000</td>\n",
              "      <td>0.000000</td>\n",
              "      <td>1.000000</td>\n",
              "    </tr>\n",
              "  </tbody>\n",
              "</table>\n",
              "</div>"
            ],
            "text/plain": [
              "   Unnamed: 0     id     edit  ...  postive_count  negtive_count subjective_count\n",
              "0           0  14530    twins  ...       0.100000       0.100000         0.800000\n",
              "1           1  13034  bowling  ...       0.111111       0.222222         0.666667\n",
              "2           2   8731    party  ...       0.333333       0.000000         0.666667\n",
              "3           3     76     slap  ...       0.000000       0.000000         1.000000\n",
              "4           4   6164   school  ...       0.000000       0.000000         1.000000\n",
              "\n",
              "[5 rows x 9 columns]"
            ]
          },
          "metadata": {
            "tags": []
          },
          "execution_count": 8
        }
      ]
    },
    {
      "cell_type": "code",
      "metadata": {
        "id": "tNQ8-5eeNbue"
      },
      "source": [
        "globe_path = \"/content/drive/My Drive/glove/glove.6B.300d.txt\"\n",
        "def load_word_embeddings(file=globe_path):\n",
        "    embeddings={}\n",
        "    with open(file,'r') as infile:\n",
        "        for line in infile:\n",
        "            values=line.split()\n",
        "            embeddings[values[0]]=np.asarray(values[1:],dtype='float32')\n",
        "    return embeddings"
      ],
      "execution_count": null,
      "outputs": []
    },
    {
      "cell_type": "code",
      "metadata": {
        "id": "Af6ITsv-tHYf",
        "colab": {
          "base_uri": "https://localhost:8080/"
        },
        "outputId": "80c08d01-93ae-4795-dbac-dee73c4ca307"
      },
      "source": [
        "embeddings = load_word_embeddings()\n",
        "len(embeddings.keys())"
      ],
      "execution_count": null,
      "outputs": [
        {
          "output_type": "execute_result",
          "data": {
            "text/plain": [
              "400000"
            ]
          },
          "metadata": {
            "tags": []
          },
          "execution_count": 10
        }
      ]
    },
    {
      "cell_type": "code",
      "metadata": {
        "id": "gp8fTVthtNmT"
      },
      "source": [
        "def sentence_2_vector(vab, embeddings=embeddings,emb_size=300):\n",
        "    words=[w for w in vab if w.isalpha() and w in embeddings]\n",
        "    if len(words)==0:\n",
        "        return np.hstack([np.zeros(emb_size)])\n",
        "    M=np.array([embeddings[w] for w in words])\n",
        "    max,min = find_maxcos_and_mincos(M)\n",
        "    return np.append(M.mean(axis=0),np.array([max,min]))\n",
        "\n",
        "def find_maxcos_and_mincos(M):\n",
        "    max = -5\n",
        "    min = 5\n",
        "    for i in range(M.shape[0]):\n",
        "      for j in range(i+1 , M.shape[0]):\n",
        "        vector1 = M[i];\n",
        "        vector2 = M[j];\n",
        "        temp = np.dot(vector1,vector2)/(np.linalg.norm(vector1)*(np.linalg.norm(vector2)))\n",
        "        if temp > max:\n",
        "          max = temp\n",
        "        if temp < min:\n",
        "          min = temp\n",
        "      return max,min"
      ],
      "execution_count": null,
      "outputs": []
    },
    {
      "cell_type": "code",
      "metadata": {
        "colab": {
          "base_uri": "https://localhost:8080/"
        },
        "id": "Dlx5EaYQ68Zj",
        "outputId": "8633a0bb-5290-43d2-d0c9-c00652557adf"
      },
      "source": [
        "edit_train = np.array([sentence_2_vector(x) for x in train_data['edi_vab'].values.tolist()])\n",
        "# ori_train = np.array([sentence_2_vector(x) for x in train_data['ori_vab'].values.tolist()])\n",
        "edit_train.shape"
      ],
      "execution_count": null,
      "outputs": [
        {
          "output_type": "execute_result",
          "data": {
            "text/plain": [
              "(9652, 302)"
            ]
          },
          "metadata": {
            "tags": []
          },
          "execution_count": 21
        }
      ]
    },
    {
      "cell_type": "code",
      "metadata": {
        "id": "qVt2q6c0tYdF",
        "colab": {
          "base_uri": "https://localhost:8080/"
        },
        "outputId": "27edb37b-929b-4d4b-aa83-55f92ee3ad3b"
      },
      "source": [
        "edit_train = np.array([sentence_2_vector(x) for x in train_data['edi_vab'].values.tolist()])\n",
        "# ori_train = np.array([sentence_2_vector(x) for x in train_data['ori_vab'].values.tolist()])\n",
        "edit_train.shape"
      ],
      "execution_count": null,
      "outputs": [
        {
          "output_type": "execute_result",
          "data": {
            "text/plain": [
              "(9652, 302)"
            ]
          },
          "metadata": {
            "tags": []
          },
          "execution_count": 12
        }
      ]
    },
    {
      "cell_type": "code",
      "metadata": {
        "id": "0DBUCAE0vtEA"
      },
      "source": [
        "train_data['is_humor'] = train_data['meanGrade'].apply(lambda x : 1 if x > 1.5 else 0)"
      ],
      "execution_count": null,
      "outputs": []
    },
    {
      "cell_type": "code",
      "metadata": {
        "colab": {
          "base_uri": "https://localhost:8080/",
          "height": 181
        },
        "id": "15z9nTuO7K1f",
        "outputId": "d03a3a7d-e46b-4372-ff11-0aea61f437c2"
      },
      "source": [
        "another_data = humortest[['postive_count','negtive_count','subjective_count']]\n",
        "another_data.head()"
      ],
      "execution_count": null,
      "outputs": [
        {
          "output_type": "error",
          "ename": "NameError",
          "evalue": "ignored",
          "traceback": [
            "\u001b[0;31m---------------------------------------------------------------------------\u001b[0m",
            "\u001b[0;31mNameError\u001b[0m                                 Traceback (most recent call last)",
            "\u001b[0;32m<ipython-input-16-223f1fbd0e97>\u001b[0m in \u001b[0;36m<module>\u001b[0;34m()\u001b[0m\n\u001b[0;32m----> 1\u001b[0;31m \u001b[0manother_data\u001b[0m \u001b[0;34m=\u001b[0m \u001b[0mhumortest\u001b[0m\u001b[0;34m[\u001b[0m\u001b[0;34m[\u001b[0m\u001b[0;34m'postive_count'\u001b[0m\u001b[0;34m,\u001b[0m\u001b[0;34m'negtive_count'\u001b[0m\u001b[0;34m,\u001b[0m\u001b[0;34m'subjective_count'\u001b[0m\u001b[0;34m]\u001b[0m\u001b[0;34m]\u001b[0m\u001b[0;34m\u001b[0m\u001b[0;34m\u001b[0m\u001b[0m\n\u001b[0m\u001b[1;32m      2\u001b[0m \u001b[0manother_data\u001b[0m\u001b[0;34m.\u001b[0m\u001b[0mhead\u001b[0m\u001b[0;34m(\u001b[0m\u001b[0;34m)\u001b[0m\u001b[0;34m\u001b[0m\u001b[0;34m\u001b[0m\u001b[0m\n",
            "\u001b[0;31mNameError\u001b[0m: name 'humortest' is not defined"
          ]
        }
      ]
    },
    {
      "cell_type": "code",
      "metadata": {
        "id": "97Z-JtPkvt_P",
        "colab": {
          "base_uri": "https://localhost:8080/",
          "height": 204
        },
        "outputId": "8e701571-0162-4a2f-a6ef-066d0199cd6c"
      },
      "source": [
        "another_data = train_data[['postive_count','negtive_count','subjective_count','is_humor']]\n",
        "another_data.head()"
      ],
      "execution_count": null,
      "outputs": [
        {
          "output_type": "execute_result",
          "data": {
            "text/html": [
              "<div>\n",
              "<style scoped>\n",
              "    .dataframe tbody tr th:only-of-type {\n",
              "        vertical-align: middle;\n",
              "    }\n",
              "\n",
              "    .dataframe tbody tr th {\n",
              "        vertical-align: top;\n",
              "    }\n",
              "\n",
              "    .dataframe thead th {\n",
              "        text-align: right;\n",
              "    }\n",
              "</style>\n",
              "<table border=\"1\" class=\"dataframe\">\n",
              "  <thead>\n",
              "    <tr style=\"text-align: right;\">\n",
              "      <th></th>\n",
              "      <th>postive_count</th>\n",
              "      <th>negtive_count</th>\n",
              "      <th>subjective_count</th>\n",
              "      <th>is_humor</th>\n",
              "    </tr>\n",
              "  </thead>\n",
              "  <tbody>\n",
              "    <tr>\n",
              "      <th>0</th>\n",
              "      <td>0.100000</td>\n",
              "      <td>0.100000</td>\n",
              "      <td>0.800000</td>\n",
              "      <td>0</td>\n",
              "    </tr>\n",
              "    <tr>\n",
              "      <th>1</th>\n",
              "      <td>0.111111</td>\n",
              "      <td>0.222222</td>\n",
              "      <td>0.666667</td>\n",
              "      <td>1</td>\n",
              "    </tr>\n",
              "    <tr>\n",
              "      <th>2</th>\n",
              "      <td>0.333333</td>\n",
              "      <td>0.000000</td>\n",
              "      <td>0.666667</td>\n",
              "      <td>0</td>\n",
              "    </tr>\n",
              "    <tr>\n",
              "      <th>3</th>\n",
              "      <td>0.000000</td>\n",
              "      <td>0.000000</td>\n",
              "      <td>1.000000</td>\n",
              "      <td>0</td>\n",
              "    </tr>\n",
              "    <tr>\n",
              "      <th>4</th>\n",
              "      <td>0.000000</td>\n",
              "      <td>0.000000</td>\n",
              "      <td>1.000000</td>\n",
              "      <td>0</td>\n",
              "    </tr>\n",
              "  </tbody>\n",
              "</table>\n",
              "</div>"
            ],
            "text/plain": [
              "   postive_count  negtive_count  subjective_count  is_humor\n",
              "0       0.100000       0.100000          0.800000         0\n",
              "1       0.111111       0.222222          0.666667         1\n",
              "2       0.333333       0.000000          0.666667         0\n",
              "3       0.000000       0.000000          1.000000         0\n",
              "4       0.000000       0.000000          1.000000         0"
            ]
          },
          "metadata": {
            "tags": []
          },
          "execution_count": 56
        }
      ]
    },
    {
      "cell_type": "code",
      "metadata": {
        "id": "O-ZdkbT4H_oG",
        "colab": {
          "base_uri": "https://localhost:8080/"
        },
        "outputId": "6fffa304-6b42-4628-aeaa-bc02b118bcf9"
      },
      "source": [
        "another_data.values.tolist()\n",
        "another_data = np.array(another_data.values.tolist())\n",
        "another_data.shape"
      ],
      "execution_count": null,
      "outputs": [
        {
          "output_type": "execute_result",
          "data": {
            "text/plain": [
              "(9652, 4)"
            ]
          },
          "metadata": {
            "tags": []
          },
          "execution_count": 57
        }
      ]
    },
    {
      "cell_type": "code",
      "metadata": {
        "id": "jYK2JvFTUEKa",
        "colab": {
          "base_uri": "https://localhost:8080/"
        },
        "outputId": "4d95ec66-984a-4bcc-b84a-4ce6cee06186"
      },
      "source": [
        "all_data = np.append(edit_train,another_data,axis=1)\n",
        "all_data.shape\n"
      ],
      "execution_count": null,
      "outputs": [
        {
          "output_type": "execute_result",
          "data": {
            "text/plain": [
              "(9652, 306)"
            ]
          },
          "metadata": {
            "tags": []
          },
          "execution_count": 58
        }
      ]
    },
    {
      "cell_type": "code",
      "metadata": {
        "id": "Qmh2kQeQOxJ1"
      },
      "source": [
        "np.save(\"preprocessed_data.npy\",all_data)"
      ],
      "execution_count": null,
      "outputs": []
    },
    {
      "cell_type": "code",
      "metadata": {
        "id": "qIUI72k1C_as",
        "colab": {
          "base_uri": "https://localhost:8080/"
        },
        "outputId": "33f4211f-d56f-4a91-a77e-0aa6cc71e6cc"
      },
      "source": [
        "X_train = all_data[:,:-1]\n",
        "X_train"
      ],
      "execution_count": null,
      "outputs": [
        {
          "output_type": "execute_result",
          "data": {
            "text/plain": [
              "array([[-0.09562676,  0.12027788,  0.02145988, ...,  0.1       ,\n",
              "         0.1       ,  0.8       ],\n",
              "       [-0.04961512,  0.40499023,  0.02239013, ...,  0.11111111,\n",
              "         0.22222222,  0.66666667],\n",
              "       [ 0.12004679, -0.09314055, -0.03396578, ...,  0.33333333,\n",
              "         0.        ,  0.66666667],\n",
              "       ...,\n",
              "       [ 0.2142002 , -0.07271703, -0.00600445, ...,  0.        ,\n",
              "         0.5       ,  0.5       ],\n",
              "       [-0.20017782,  0.0013544 , -0.0593844 , ...,  0.1       ,\n",
              "         0.1       ,  0.8       ],\n",
              "       [ 0.03635333,  0.124628  , -0.04373967, ...,  0.25      ,\n",
              "         0.25      ,  0.5       ]])"
            ]
          },
          "metadata": {
            "tags": []
          },
          "execution_count": 59
        }
      ]
    },
    {
      "cell_type": "code",
      "metadata": {
        "id": "qXLIB1acDBvW",
        "colab": {
          "base_uri": "https://localhost:8080/"
        },
        "outputId": "c4084d3a-bc26-43ce-d7d0-2dff5a787af1"
      },
      "source": [
        "y_train = all_data[:,-1]\n",
        "y_train"
      ],
      "execution_count": null,
      "outputs": [
        {
          "output_type": "execute_result",
          "data": {
            "text/plain": [
              "array([0., 1., 0., ..., 0., 0., 0.])"
            ]
          },
          "metadata": {
            "tags": []
          },
          "execution_count": 60
        }
      ]
    },
    {
      "cell_type": "code",
      "metadata": {
        "id": "JIdABrknMa8i"
      },
      "source": [
        ""
      ],
      "execution_count": null,
      "outputs": []
    },
    {
      "cell_type": "code",
      "metadata": {
        "id": "Z6CIuERSDeng"
      },
      "source": [
        "train_x, x_test, train_y, y_test = train_test_split(X_train,y_train,test_size=0.2)"
      ],
      "execution_count": null,
      "outputs": []
    },
    {
      "cell_type": "code",
      "metadata": {
        "id": "O4zUa_MpE8sq"
      },
      "source": [
        "import xgboost as xgb"
      ],
      "execution_count": null,
      "outputs": []
    },
    {
      "cell_type": "code",
      "metadata": {
        "id": "BHhneCBN7xat"
      },
      "source": [
        "import matplotlib.pyplot as plt"
      ],
      "execution_count": null,
      "outputs": []
    },
    {
      "cell_type": "code",
      "metadata": {
        "id": "l6zQv4DD7wZJ"
      },
      "source": [
        "def plot_logloss(model):\n",
        "    results = model.evals_result_\n",
        "    print(results)\n",
        "    epochs = len(results['validation_0']['logloss'])\n",
        "    x_axis = range(0, 100)\n",
        "    print(epochs)\n",
        "    # plot log loss\n",
        "    fig, ax = plt.subplots()\n",
        "    ax.plot(x_axis, results['validation_0']['logloss'], label='Train')\n",
        "    print(results['validation_1']['logloss'])\n",
        "    ax.plot(x_axis, results['validation_1']['logloss'], label='Test')\n",
        "    ax.legend()\n",
        "    plt.ylabel('Log Loss')\n",
        "    plt.title('XGDboost Log Loss')\n",
        "    plt.show()\n",
        "    # plot classification error\n",
        "    fig, ax = plt.subplots()\n",
        "    ax.plot(x_axis, results['validation_0']['error'], label='Train')\n",
        "    ax.plot(x_axis, results['validation_1']['error'], label='Test')\n",
        "    ax.legend()\n",
        "    plt.ylabel('Classification error')\n",
        "    plt.title('XGBoostClassification error')\n",
        "    plt.show()"
      ],
      "execution_count": null,
      "outputs": []
    },
    {
      "cell_type": "code",
      "metadata": {
        "id": "u3Ei7zsO809t"
      },
      "source": [
        "params = {\"min_child_weight\": 50, \"eta\": 0.05, \"max_depth\": 8,\n",
        "            \"subsample\": 0.8, \"silent\" : 1, \"nthread\": 4,\n",
        "            \"eval_metric\": \"logloss\", \"objective\": \"binary:logistic\"}"
      ],
      "execution_count": null,
      "outputs": []
    },
    {
      "cell_type": "code",
      "metadata": {
        "id": "UHdGArXa8bO0",
        "colab": {
          "base_uri": "https://localhost:8080/"
        },
        "outputId": "0dc8abe4-7d92-44a5-d903-18bac3ea17ee"
      },
      "source": [
        "model1=xgb.XGBClassifier(**params)\n",
        "train = [train_x, train_y]\n",
        "eval = [x_test, y_test]\n",
        "model2=model1.fit(train_x,train_y,early_stopping_rounds=40,eval_metric=['logloss','auc','error'],eval_set=[train,eval])"
      ],
      "execution_count": null,
      "outputs": [
        {
          "output_type": "stream",
          "text": [
            "[0]\tvalidation_0-logloss:0.650728\tvalidation_0-auc:0.655125\tvalidation_0-error:0.174718\tvalidation_1-logloss:0.654315\tvalidation_1-auc:0.530958\tvalidation_1-error:0.185914\n",
            "Multiple eval metrics have been passed: 'validation_1-error' will be used for early stopping.\n",
            "\n",
            "Will train until validation_1-error hasn't improved in 40 rounds.\n",
            "[1]\tvalidation_0-logloss:0.615563\tvalidation_0-auc:0.700645\tvalidation_0-error:0.174718\tvalidation_1-logloss:0.622598\tvalidation_1-auc:0.550946\tvalidation_1-error:0.185914\n",
            "[2]\tvalidation_0-logloss:0.586476\tvalidation_0-auc:0.719566\tvalidation_0-error:0.174718\tvalidation_1-logloss:0.595743\tvalidation_1-auc:0.573602\tvalidation_1-error:0.185914\n",
            "[3]\tvalidation_0-logloss:0.562136\tvalidation_0-auc:0.735467\tvalidation_0-error:0.174718\tvalidation_1-logloss:0.573879\tvalidation_1-auc:0.591222\tvalidation_1-error:0.185914\n",
            "[4]\tvalidation_0-logloss:0.541457\tvalidation_0-auc:0.746123\tvalidation_0-error:0.174718\tvalidation_1-logloss:0.555621\tvalidation_1-auc:0.599397\tvalidation_1-error:0.185914\n",
            "[5]\tvalidation_0-logloss:0.523873\tvalidation_0-auc:0.755535\tvalidation_0-error:0.174718\tvalidation_1-logloss:0.540843\tvalidation_1-auc:0.594554\tvalidation_1-error:0.185914\n",
            "[6]\tvalidation_0-logloss:0.508763\tvalidation_0-auc:0.76513\tvalidation_0-error:0.174718\tvalidation_1-logloss:0.528075\tvalidation_1-auc:0.603939\tvalidation_1-error:0.185914\n",
            "[7]\tvalidation_0-logloss:0.495289\tvalidation_0-auc:0.777856\tvalidation_0-error:0.174718\tvalidation_1-logloss:0.517388\tvalidation_1-auc:0.60469\tvalidation_1-error:0.185914\n",
            "[8]\tvalidation_0-logloss:0.483835\tvalidation_0-auc:0.782478\tvalidation_0-error:0.174718\tvalidation_1-logloss:0.508419\tvalidation_1-auc:0.603183\tvalidation_1-error:0.185914\n",
            "[9]\tvalidation_0-logloss:0.473764\tvalidation_0-auc:0.789049\tvalidation_0-error:0.174718\tvalidation_1-logloss:0.501369\tvalidation_1-auc:0.604517\tvalidation_1-error:0.185914\n",
            "[10]\tvalidation_0-logloss:0.464967\tvalidation_0-auc:0.795432\tvalidation_0-error:0.174718\tvalidation_1-logloss:0.495716\tvalidation_1-auc:0.60078\tvalidation_1-error:0.185914\n",
            "[11]\tvalidation_0-logloss:0.457447\tvalidation_0-auc:0.800227\tvalidation_0-error:0.174718\tvalidation_1-logloss:0.490751\tvalidation_1-auc:0.600886\tvalidation_1-error:0.185914\n",
            "[12]\tvalidation_0-logloss:0.450778\tvalidation_0-auc:0.807973\tvalidation_0-error:0.174718\tvalidation_1-logloss:0.486553\tvalidation_1-auc:0.605054\tvalidation_1-error:0.185914\n",
            "[13]\tvalidation_0-logloss:0.444776\tvalidation_0-auc:0.811199\tvalidation_0-error:0.174718\tvalidation_1-logloss:0.482899\tvalidation_1-auc:0.606449\tvalidation_1-error:0.185914\n",
            "[14]\tvalidation_0-logloss:0.439566\tvalidation_0-auc:0.816084\tvalidation_0-error:0.174718\tvalidation_1-logloss:0.480114\tvalidation_1-auc:0.606736\tvalidation_1-error:0.185914\n",
            "[15]\tvalidation_0-logloss:0.435167\tvalidation_0-auc:0.821829\tvalidation_0-error:0.174718\tvalidation_1-logloss:0.477887\tvalidation_1-auc:0.608447\tvalidation_1-error:0.185914\n",
            "[16]\tvalidation_0-logloss:0.430854\tvalidation_0-auc:0.824766\tvalidation_0-error:0.174718\tvalidation_1-logloss:0.476609\tvalidation_1-auc:0.602684\tvalidation_1-error:0.185914\n",
            "[17]\tvalidation_0-logloss:0.426825\tvalidation_0-auc:0.826919\tvalidation_0-error:0.174718\tvalidation_1-logloss:0.474649\tvalidation_1-auc:0.606505\tvalidation_1-error:0.185914\n",
            "[18]\tvalidation_0-logloss:0.423277\tvalidation_0-auc:0.831138\tvalidation_0-error:0.174718\tvalidation_1-logloss:0.473481\tvalidation_1-auc:0.605376\tvalidation_1-error:0.185914\n",
            "[19]\tvalidation_0-logloss:0.42003\tvalidation_0-auc:0.836797\tvalidation_0-error:0.174718\tvalidation_1-logloss:0.47244\tvalidation_1-auc:0.605568\tvalidation_1-error:0.185914\n",
            "[20]\tvalidation_0-logloss:0.416797\tvalidation_0-auc:0.838798\tvalidation_0-error:0.174589\tvalidation_1-logloss:0.471385\tvalidation_1-auc:0.605619\tvalidation_1-error:0.185396\n",
            "[21]\tvalidation_0-logloss:0.413906\tvalidation_0-auc:0.839884\tvalidation_0-error:0.174459\tvalidation_1-logloss:0.470168\tvalidation_1-auc:0.609466\tvalidation_1-error:0.185914\n",
            "[22]\tvalidation_0-logloss:0.411213\tvalidation_0-auc:0.844565\tvalidation_0-error:0.174459\tvalidation_1-logloss:0.46987\tvalidation_1-auc:0.606307\tvalidation_1-error:0.185396\n",
            "[23]\tvalidation_0-logloss:0.409116\tvalidation_0-auc:0.843856\tvalidation_0-error:0.174459\tvalidation_1-logloss:0.469177\tvalidation_1-auc:0.609122\tvalidation_1-error:0.185396\n",
            "[24]\tvalidation_0-logloss:0.4069\tvalidation_0-auc:0.848701\tvalidation_0-error:0.174459\tvalidation_1-logloss:0.468968\tvalidation_1-auc:0.60903\tvalidation_1-error:0.185396\n",
            "[25]\tvalidation_0-logloss:0.404896\tvalidation_0-auc:0.852701\tvalidation_0-error:0.174459\tvalidation_1-logloss:0.469019\tvalidation_1-auc:0.608616\tvalidation_1-error:0.185396\n",
            "[26]\tvalidation_0-logloss:0.402978\tvalidation_0-auc:0.854944\tvalidation_0-error:0.17433\tvalidation_1-logloss:0.468588\tvalidation_1-auc:0.610841\tvalidation_1-error:0.185396\n",
            "[27]\tvalidation_0-logloss:0.401097\tvalidation_0-auc:0.858078\tvalidation_0-error:0.17433\tvalidation_1-logloss:0.46878\tvalidation_1-auc:0.60944\tvalidation_1-error:0.185396\n",
            "[28]\tvalidation_0-logloss:0.399126\tvalidation_0-auc:0.861081\tvalidation_0-error:0.174459\tvalidation_1-logloss:0.468503\tvalidation_1-auc:0.611206\tvalidation_1-error:0.185914\n",
            "[29]\tvalidation_0-logloss:0.397224\tvalidation_0-auc:0.861672\tvalidation_0-error:0.1742\tvalidation_1-logloss:0.467892\tvalidation_1-auc:0.613829\tvalidation_1-error:0.185396\n",
            "[30]\tvalidation_0-logloss:0.395506\tvalidation_0-auc:0.862974\tvalidation_0-error:0.1742\tvalidation_1-logloss:0.468044\tvalidation_1-auc:0.612732\tvalidation_1-error:0.185396\n",
            "[31]\tvalidation_0-logloss:0.393811\tvalidation_0-auc:0.865036\tvalidation_0-error:0.174071\tvalidation_1-logloss:0.468209\tvalidation_1-auc:0.611086\tvalidation_1-error:0.185396\n",
            "[32]\tvalidation_0-logloss:0.392024\tvalidation_0-auc:0.867167\tvalidation_0-error:0.1742\tvalidation_1-logloss:0.468088\tvalidation_1-auc:0.613111\tvalidation_1-error:0.185396\n",
            "[33]\tvalidation_0-logloss:0.390511\tvalidation_0-auc:0.868604\tvalidation_0-error:0.174071\tvalidation_1-logloss:0.468558\tvalidation_1-auc:0.611049\tvalidation_1-error:0.185914\n",
            "[34]\tvalidation_0-logloss:0.388835\tvalidation_0-auc:0.869725\tvalidation_0-error:0.173941\tvalidation_1-logloss:0.467875\tvalidation_1-auc:0.614008\tvalidation_1-error:0.185914\n",
            "[35]\tvalidation_0-logloss:0.387205\tvalidation_0-auc:0.872757\tvalidation_0-error:0.173812\tvalidation_1-logloss:0.468137\tvalidation_1-auc:0.613335\tvalidation_1-error:0.186432\n",
            "[36]\tvalidation_0-logloss:0.385364\tvalidation_0-auc:0.87655\tvalidation_0-error:0.173553\tvalidation_1-logloss:0.468327\tvalidation_1-auc:0.612888\tvalidation_1-error:0.186432\n",
            "[37]\tvalidation_0-logloss:0.383633\tvalidation_0-auc:0.87692\tvalidation_0-error:0.173423\tvalidation_1-logloss:0.468469\tvalidation_1-auc:0.612241\tvalidation_1-error:0.186432\n",
            "[38]\tvalidation_0-logloss:0.382036\tvalidation_0-auc:0.879711\tvalidation_0-error:0.172905\tvalidation_1-logloss:0.468932\tvalidation_1-auc:0.610303\tvalidation_1-error:0.185914\n",
            "[39]\tvalidation_0-logloss:0.380515\tvalidation_0-auc:0.880534\tvalidation_0-error:0.172646\tvalidation_1-logloss:0.468719\tvalidation_1-auc:0.611371\tvalidation_1-error:0.186432\n",
            "[40]\tvalidation_0-logloss:0.379352\tvalidation_0-auc:0.882047\tvalidation_0-error:0.172517\tvalidation_1-logloss:0.468419\tvalidation_1-auc:0.613357\tvalidation_1-error:0.186432\n",
            "[41]\tvalidation_0-logloss:0.377905\tvalidation_0-auc:0.882497\tvalidation_0-error:0.172517\tvalidation_1-logloss:0.468671\tvalidation_1-auc:0.612356\tvalidation_1-error:0.186432\n",
            "[42]\tvalidation_0-logloss:0.376369\tvalidation_0-auc:0.883973\tvalidation_0-error:0.172128\tvalidation_1-logloss:0.468828\tvalidation_1-auc:0.613549\tvalidation_1-error:0.185914\n",
            "[43]\tvalidation_0-logloss:0.374665\tvalidation_0-auc:0.88669\tvalidation_0-error:0.172387\tvalidation_1-logloss:0.469532\tvalidation_1-auc:0.611008\tvalidation_1-error:0.185914\n",
            "[44]\tvalidation_0-logloss:0.373256\tvalidation_0-auc:0.890182\tvalidation_0-error:0.172128\tvalidation_1-logloss:0.469884\tvalidation_1-auc:0.609673\tvalidation_1-error:0.186432\n",
            "[45]\tvalidation_0-logloss:0.371751\tvalidation_0-auc:0.892234\tvalidation_0-error:0.171998\tvalidation_1-logloss:0.469762\tvalidation_1-auc:0.610747\tvalidation_1-error:0.186432\n",
            "[46]\tvalidation_0-logloss:0.370526\tvalidation_0-auc:0.893774\tvalidation_0-error:0.171869\tvalidation_1-logloss:0.469639\tvalidation_1-auc:0.611497\tvalidation_1-error:0.185914\n",
            "[47]\tvalidation_0-logloss:0.369299\tvalidation_0-auc:0.89497\tvalidation_0-error:0.171869\tvalidation_1-logloss:0.469156\tvalidation_1-auc:0.613536\tvalidation_1-error:0.185914\n",
            "[48]\tvalidation_0-logloss:0.367381\tvalidation_0-auc:0.898358\tvalidation_0-error:0.17161\tvalidation_1-logloss:0.469397\tvalidation_1-auc:0.612009\tvalidation_1-error:0.185396\n",
            "[49]\tvalidation_0-logloss:0.365962\tvalidation_0-auc:0.901167\tvalidation_0-error:0.17148\tvalidation_1-logloss:0.46995\tvalidation_1-auc:0.609838\tvalidation_1-error:0.185396\n",
            "[50]\tvalidation_0-logloss:0.36446\tvalidation_0-auc:0.903149\tvalidation_0-error:0.171221\tvalidation_1-logloss:0.470359\tvalidation_1-auc:0.608729\tvalidation_1-error:0.185396\n",
            "[51]\tvalidation_0-logloss:0.362923\tvalidation_0-auc:0.906747\tvalidation_0-error:0.171221\tvalidation_1-logloss:0.470426\tvalidation_1-auc:0.609043\tvalidation_1-error:0.185396\n",
            "[52]\tvalidation_0-logloss:0.3615\tvalidation_0-auc:0.909446\tvalidation_0-error:0.171221\tvalidation_1-logloss:0.47003\tvalidation_1-auc:0.610639\tvalidation_1-error:0.185396\n",
            "[53]\tvalidation_0-logloss:0.360044\tvalidation_0-auc:0.911586\tvalidation_0-error:0.170962\tvalidation_1-logloss:0.469807\tvalidation_1-auc:0.61146\tvalidation_1-error:0.185396\n",
            "[54]\tvalidation_0-logloss:0.358582\tvalidation_0-auc:0.912776\tvalidation_0-error:0.170703\tvalidation_1-logloss:0.469466\tvalidation_1-auc:0.612976\tvalidation_1-error:0.184878\n",
            "[55]\tvalidation_0-logloss:0.35745\tvalidation_0-auc:0.913657\tvalidation_0-error:0.170444\tvalidation_1-logloss:0.470045\tvalidation_1-auc:0.611045\tvalidation_1-error:0.185396\n",
            "[56]\tvalidation_0-logloss:0.355995\tvalidation_0-auc:0.914925\tvalidation_0-error:0.169797\tvalidation_1-logloss:0.470476\tvalidation_1-auc:0.609537\tvalidation_1-error:0.185396\n",
            "[57]\tvalidation_0-logloss:0.354566\tvalidation_0-auc:0.916766\tvalidation_0-error:0.169538\tvalidation_1-logloss:0.470649\tvalidation_1-auc:0.609312\tvalidation_1-error:0.184878\n",
            "[58]\tvalidation_0-logloss:0.353561\tvalidation_0-auc:0.917129\tvalidation_0-error:0.169279\tvalidation_1-logloss:0.470164\tvalidation_1-auc:0.61104\tvalidation_1-error:0.185396\n",
            "[59]\tvalidation_0-logloss:0.352473\tvalidation_0-auc:0.917786\tvalidation_0-error:0.168631\tvalidation_1-logloss:0.470112\tvalidation_1-auc:0.610947\tvalidation_1-error:0.185396\n",
            "[60]\tvalidation_0-logloss:0.351189\tvalidation_0-auc:0.918611\tvalidation_0-error:0.167983\tvalidation_1-logloss:0.470315\tvalidation_1-auc:0.610056\tvalidation_1-error:0.185396\n",
            "[61]\tvalidation_0-logloss:0.350179\tvalidation_0-auc:0.920354\tvalidation_0-error:0.168372\tvalidation_1-logloss:0.470519\tvalidation_1-auc:0.609608\tvalidation_1-error:0.185396\n",
            "[62]\tvalidation_0-logloss:0.349012\tvalidation_0-auc:0.921403\tvalidation_0-error:0.167206\tvalidation_1-logloss:0.471004\tvalidation_1-auc:0.609145\tvalidation_1-error:0.185396\n",
            "[63]\tvalidation_0-logloss:0.347765\tvalidation_0-auc:0.922637\tvalidation_0-error:0.166559\tvalidation_1-logloss:0.471326\tvalidation_1-auc:0.608341\tvalidation_1-error:0.184878\n",
            "[64]\tvalidation_0-logloss:0.346572\tvalidation_0-auc:0.923282\tvalidation_0-error:0.166041\tvalidation_1-logloss:0.471163\tvalidation_1-auc:0.609434\tvalidation_1-error:0.18436\n",
            "[65]\tvalidation_0-logloss:0.345364\tvalidation_0-auc:0.925267\tvalidation_0-error:0.165652\tvalidation_1-logloss:0.471287\tvalidation_1-auc:0.608676\tvalidation_1-error:0.18436\n",
            "[66]\tvalidation_0-logloss:0.344282\tvalidation_0-auc:0.926162\tvalidation_0-error:0.165652\tvalidation_1-logloss:0.471321\tvalidation_1-auc:0.609262\tvalidation_1-error:0.184878\n",
            "[67]\tvalidation_0-logloss:0.342921\tvalidation_0-auc:0.928266\tvalidation_0-error:0.164745\tvalidation_1-logloss:0.470937\tvalidation_1-auc:0.610731\tvalidation_1-error:0.18436\n",
            "[68]\tvalidation_0-logloss:0.341977\tvalidation_0-auc:0.929195\tvalidation_0-error:0.164875\tvalidation_1-logloss:0.470643\tvalidation_1-auc:0.612585\tvalidation_1-error:0.184878\n",
            "[69]\tvalidation_0-logloss:0.340552\tvalidation_0-auc:0.93091\tvalidation_0-error:0.164745\tvalidation_1-logloss:0.470445\tvalidation_1-auc:0.613983\tvalidation_1-error:0.18436\n",
            "[70]\tvalidation_0-logloss:0.339328\tvalidation_0-auc:0.931965\tvalidation_0-error:0.16358\tvalidation_1-logloss:0.470188\tvalidation_1-auc:0.614881\tvalidation_1-error:0.18436\n",
            "[71]\tvalidation_0-logloss:0.338547\tvalidation_0-auc:0.933515\tvalidation_0-error:0.16358\tvalidation_1-logloss:0.47045\tvalidation_1-auc:0.614054\tvalidation_1-error:0.185396\n",
            "[72]\tvalidation_0-logloss:0.337484\tvalidation_0-auc:0.935809\tvalidation_0-error:0.16345\tvalidation_1-logloss:0.470448\tvalidation_1-auc:0.614123\tvalidation_1-error:0.185396\n",
            "[73]\tvalidation_0-logloss:0.336486\tvalidation_0-auc:0.936491\tvalidation_0-error:0.162673\tvalidation_1-logloss:0.47043\tvalidation_1-auc:0.614135\tvalidation_1-error:0.184878\n",
            "[74]\tvalidation_0-logloss:0.33528\tvalidation_0-auc:0.9381\tvalidation_0-error:0.162285\tvalidation_1-logloss:0.470159\tvalidation_1-auc:0.615374\tvalidation_1-error:0.184878\n",
            "[75]\tvalidation_0-logloss:0.334103\tvalidation_0-auc:0.93936\tvalidation_0-error:0.162673\tvalidation_1-logloss:0.469963\tvalidation_1-auc:0.616545\tvalidation_1-error:0.18436\n",
            "[76]\tvalidation_0-logloss:0.333082\tvalidation_0-auc:0.940295\tvalidation_0-error:0.161767\tvalidation_1-logloss:0.470216\tvalidation_1-auc:0.616462\tvalidation_1-error:0.184878\n",
            "[77]\tvalidation_0-logloss:0.331949\tvalidation_0-auc:0.940875\tvalidation_0-error:0.161119\tvalidation_1-logloss:0.469864\tvalidation_1-auc:0.617125\tvalidation_1-error:0.184878\n",
            "[78]\tvalidation_0-logloss:0.330779\tvalidation_0-auc:0.941668\tvalidation_0-error:0.16073\tvalidation_1-logloss:0.470572\tvalidation_1-auc:0.61523\tvalidation_1-error:0.185396\n",
            "[79]\tvalidation_0-logloss:0.329718\tvalidation_0-auc:0.942588\tvalidation_0-error:0.159435\tvalidation_1-logloss:0.470673\tvalidation_1-auc:0.615158\tvalidation_1-error:0.184878\n",
            "[80]\tvalidation_0-logloss:0.328484\tvalidation_0-auc:0.94358\tvalidation_0-error:0.158917\tvalidation_1-logloss:0.471057\tvalidation_1-auc:0.615555\tvalidation_1-error:0.185914\n",
            "[81]\tvalidation_0-logloss:0.327346\tvalidation_0-auc:0.944107\tvalidation_0-error:0.158399\tvalidation_1-logloss:0.471915\tvalidation_1-auc:0.613939\tvalidation_1-error:0.185914\n",
            "[82]\tvalidation_0-logloss:0.326118\tvalidation_0-auc:0.944862\tvalidation_0-error:0.157622\tvalidation_1-logloss:0.472647\tvalidation_1-auc:0.612347\tvalidation_1-error:0.185914\n",
            "[83]\tvalidation_0-logloss:0.324936\tvalidation_0-auc:0.94629\tvalidation_0-error:0.157622\tvalidation_1-logloss:0.472851\tvalidation_1-auc:0.611683\tvalidation_1-error:0.185914\n",
            "[84]\tvalidation_0-logloss:0.323648\tvalidation_0-auc:0.947161\tvalidation_0-error:0.156974\tvalidation_1-logloss:0.472891\tvalidation_1-auc:0.61178\tvalidation_1-error:0.186432\n",
            "[85]\tvalidation_0-logloss:0.322566\tvalidation_0-auc:0.947335\tvalidation_0-error:0.155161\tvalidation_1-logloss:0.47283\tvalidation_1-auc:0.611933\tvalidation_1-error:0.18695\n",
            "[86]\tvalidation_0-logloss:0.321576\tvalidation_0-auc:0.948403\tvalidation_0-error:0.155809\tvalidation_1-logloss:0.473139\tvalidation_1-auc:0.612032\tvalidation_1-error:0.18695\n",
            "[87]\tvalidation_0-logloss:0.320315\tvalidation_0-auc:0.949628\tvalidation_0-error:0.154773\tvalidation_1-logloss:0.473363\tvalidation_1-auc:0.611543\tvalidation_1-error:0.185914\n",
            "[88]\tvalidation_0-logloss:0.31937\tvalidation_0-auc:0.950583\tvalidation_0-error:0.154514\tvalidation_1-logloss:0.47349\tvalidation_1-auc:0.611137\tvalidation_1-error:0.185396\n",
            "[89]\tvalidation_0-logloss:0.318246\tvalidation_0-auc:0.951378\tvalidation_0-error:0.153996\tvalidation_1-logloss:0.473334\tvalidation_1-auc:0.611473\tvalidation_1-error:0.185396\n",
            "[90]\tvalidation_0-logloss:0.317052\tvalidation_0-auc:0.952062\tvalidation_0-error:0.153218\tvalidation_1-logloss:0.473398\tvalidation_1-auc:0.61172\tvalidation_1-error:0.185396\n",
            "[91]\tvalidation_0-logloss:0.315989\tvalidation_0-auc:0.953237\tvalidation_0-error:0.152571\tvalidation_1-logloss:0.473785\tvalidation_1-auc:0.61032\tvalidation_1-error:0.185396\n",
            "[92]\tvalidation_0-logloss:0.314831\tvalidation_0-auc:0.954574\tvalidation_0-error:0.152053\tvalidation_1-logloss:0.474357\tvalidation_1-auc:0.608977\tvalidation_1-error:0.185396\n",
            "[93]\tvalidation_0-logloss:0.313751\tvalidation_0-auc:0.955412\tvalidation_0-error:0.150887\tvalidation_1-logloss:0.473677\tvalidation_1-auc:0.612062\tvalidation_1-error:0.185396\n",
            "[94]\tvalidation_0-logloss:0.31272\tvalidation_0-auc:0.956247\tvalidation_0-error:0.150628\tvalidation_1-logloss:0.473812\tvalidation_1-auc:0.612163\tvalidation_1-error:0.185396\n",
            "[95]\tvalidation_0-logloss:0.311462\tvalidation_0-auc:0.957067\tvalidation_0-error:0.151017\tvalidation_1-logloss:0.474193\tvalidation_1-auc:0.611665\tvalidation_1-error:0.185396\n",
            "[96]\tvalidation_0-logloss:0.310389\tvalidation_0-auc:0.958461\tvalidation_0-error:0.149981\tvalidation_1-logloss:0.474464\tvalidation_1-auc:0.610565\tvalidation_1-error:0.185396\n",
            "[97]\tvalidation_0-logloss:0.30932\tvalidation_0-auc:0.959379\tvalidation_0-error:0.149592\tvalidation_1-logloss:0.474457\tvalidation_1-auc:0.610857\tvalidation_1-error:0.18436\n",
            "[98]\tvalidation_0-logloss:0.308252\tvalidation_0-auc:0.959973\tvalidation_0-error:0.148167\tvalidation_1-logloss:0.474695\tvalidation_1-auc:0.610668\tvalidation_1-error:0.18436\n",
            "[99]\tvalidation_0-logloss:0.307307\tvalidation_0-auc:0.960393\tvalidation_0-error:0.14752\tvalidation_1-logloss:0.475078\tvalidation_1-auc:0.610151\tvalidation_1-error:0.184878\n"
          ],
          "name": "stdout"
        }
      ]
    },
    {
      "cell_type": "code",
      "metadata": {
        "id": "9xIyvP7r836m",
        "colab": {
          "base_uri": "https://localhost:8080/",
          "height": 616
        },
        "outputId": "d01806a4-12f2-4154-e4d3-e2defe64d2be"
      },
      "source": [
        "plot_logloss(model2)"
      ],
      "execution_count": null,
      "outputs": [
        {
          "output_type": "stream",
          "text": [
            "{'validation_0': {'logloss': [0.650728, 0.615563, 0.586476, 0.562136, 0.541457, 0.523873, 0.508763, 0.495289, 0.483835, 0.473764, 0.464967, 0.457447, 0.450778, 0.444776, 0.439566, 0.435167, 0.430854, 0.426825, 0.423277, 0.42003, 0.416797, 0.413906, 0.411213, 0.409116, 0.4069, 0.404896, 0.402978, 0.401097, 0.399126, 0.397224, 0.395506, 0.393811, 0.392024, 0.390511, 0.388835, 0.387205, 0.385364, 0.383633, 0.382036, 0.380515, 0.379352, 0.377905, 0.376369, 0.374665, 0.373256, 0.371751, 0.370526, 0.369299, 0.367381, 0.365962, 0.36446, 0.362923, 0.3615, 0.360044, 0.358582, 0.35745, 0.355995, 0.354566, 0.353561, 0.352473, 0.351189, 0.350179, 0.349012, 0.347765, 0.346572, 0.345364, 0.344282, 0.342921, 0.341977, 0.340552, 0.339328, 0.338547, 0.337484, 0.336486, 0.33528, 0.334103, 0.333082, 0.331949, 0.330779, 0.329718, 0.328484, 0.327346, 0.326118, 0.324936, 0.323648, 0.322566, 0.321576, 0.320315, 0.31937, 0.318246, 0.317052, 0.315989, 0.314831, 0.313751, 0.31272, 0.311462, 0.310389, 0.30932, 0.308252, 0.307307], 'auc': [0.655125, 0.700645, 0.719566, 0.735467, 0.746123, 0.755535, 0.76513, 0.777856, 0.782478, 0.789049, 0.795432, 0.800227, 0.807973, 0.811199, 0.816084, 0.821829, 0.824766, 0.826919, 0.831138, 0.836797, 0.838798, 0.839884, 0.844565, 0.843856, 0.848701, 0.852701, 0.854944, 0.858078, 0.861081, 0.861672, 0.862974, 0.865036, 0.867167, 0.868604, 0.869725, 0.872757, 0.87655, 0.87692, 0.879711, 0.880534, 0.882047, 0.882497, 0.883973, 0.88669, 0.890182, 0.892234, 0.893774, 0.89497, 0.898358, 0.901167, 0.903149, 0.906747, 0.909446, 0.911586, 0.912776, 0.913657, 0.914925, 0.916766, 0.917129, 0.917786, 0.918611, 0.920354, 0.921403, 0.922637, 0.923282, 0.925267, 0.926162, 0.928266, 0.929195, 0.93091, 0.931965, 0.933515, 0.935809, 0.936491, 0.9381, 0.93936, 0.940295, 0.940875, 0.941668, 0.942588, 0.94358, 0.944107, 0.944862, 0.94629, 0.947161, 0.947335, 0.948403, 0.949628, 0.950583, 0.951378, 0.952062, 0.953237, 0.954574, 0.955412, 0.956247, 0.957067, 0.958461, 0.959379, 0.959973, 0.960393], 'error': [0.174718, 0.174718, 0.174718, 0.174718, 0.174718, 0.174718, 0.174718, 0.174718, 0.174718, 0.174718, 0.174718, 0.174718, 0.174718, 0.174718, 0.174718, 0.174718, 0.174718, 0.174718, 0.174718, 0.174718, 0.174589, 0.174459, 0.174459, 0.174459, 0.174459, 0.174459, 0.17433, 0.17433, 0.174459, 0.1742, 0.1742, 0.174071, 0.1742, 0.174071, 0.173941, 0.173812, 0.173553, 0.173423, 0.172905, 0.172646, 0.172517, 0.172517, 0.172128, 0.172387, 0.172128, 0.171998, 0.171869, 0.171869, 0.17161, 0.17148, 0.171221, 0.171221, 0.171221, 0.170962, 0.170703, 0.170444, 0.169797, 0.169538, 0.169279, 0.168631, 0.167983, 0.168372, 0.167206, 0.166559, 0.166041, 0.165652, 0.165652, 0.164745, 0.164875, 0.164745, 0.16358, 0.16358, 0.16345, 0.162673, 0.162285, 0.162673, 0.161767, 0.161119, 0.16073, 0.159435, 0.158917, 0.158399, 0.157622, 0.157622, 0.156974, 0.155161, 0.155809, 0.154773, 0.154514, 0.153996, 0.153218, 0.152571, 0.152053, 0.150887, 0.150628, 0.151017, 0.149981, 0.149592, 0.148167, 0.14752]}, 'validation_1': {'logloss': [0.654315, 0.622598, 0.595743, 0.573879, 0.555621, 0.540843, 0.528075, 0.517388, 0.508419, 0.501369, 0.495716, 0.490751, 0.486553, 0.482899, 0.480114, 0.477887, 0.476609, 0.474649, 0.473481, 0.47244, 0.471385, 0.470168, 0.46987, 0.469177, 0.468968, 0.469019, 0.468588, 0.46878, 0.468503, 0.467892, 0.468044, 0.468209, 0.468088, 0.468558, 0.467875, 0.468137, 0.468327, 0.468469, 0.468932, 0.468719, 0.468419, 0.468671, 0.468828, 0.469532, 0.469884, 0.469762, 0.469639, 0.469156, 0.469397, 0.46995, 0.470359, 0.470426, 0.47003, 0.469807, 0.469466, 0.470045, 0.470476, 0.470649, 0.470164, 0.470112, 0.470315, 0.470519, 0.471004, 0.471326, 0.471163, 0.471287, 0.471321, 0.470937, 0.470643, 0.470445, 0.470188, 0.47045, 0.470448, 0.47043, 0.470159, 0.469963, 0.470216, 0.469864, 0.470572, 0.470673, 0.471057, 0.471915, 0.472647, 0.472851, 0.472891, 0.47283, 0.473139, 0.473363, 0.47349, 0.473334, 0.473398, 0.473785, 0.474357, 0.473677, 0.473812, 0.474193, 0.474464, 0.474457, 0.474695, 0.475078], 'auc': [0.530958, 0.550946, 0.573602, 0.591222, 0.599397, 0.594554, 0.603939, 0.60469, 0.603183, 0.604517, 0.60078, 0.600886, 0.605054, 0.606449, 0.606736, 0.608447, 0.602684, 0.606505, 0.605376, 0.605568, 0.605619, 0.609466, 0.606307, 0.609122, 0.60903, 0.608616, 0.610841, 0.60944, 0.611206, 0.613829, 0.612732, 0.611086, 0.613111, 0.611049, 0.614008, 0.613335, 0.612888, 0.612241, 0.610303, 0.611371, 0.613357, 0.612356, 0.613549, 0.611008, 0.609673, 0.610747, 0.611497, 0.613536, 0.612009, 0.609838, 0.608729, 0.609043, 0.610639, 0.61146, 0.612976, 0.611045, 0.609537, 0.609312, 0.61104, 0.610947, 0.610056, 0.609608, 0.609145, 0.608341, 0.609434, 0.608676, 0.609262, 0.610731, 0.612585, 0.613983, 0.614881, 0.614054, 0.614123, 0.614135, 0.615374, 0.616545, 0.616462, 0.617125, 0.61523, 0.615158, 0.615555, 0.613939, 0.612347, 0.611683, 0.61178, 0.611933, 0.612032, 0.611543, 0.611137, 0.611473, 0.61172, 0.61032, 0.608977, 0.612062, 0.612163, 0.611665, 0.610565, 0.610857, 0.610668, 0.610151], 'error': [0.185914, 0.185914, 0.185914, 0.185914, 0.185914, 0.185914, 0.185914, 0.185914, 0.185914, 0.185914, 0.185914, 0.185914, 0.185914, 0.185914, 0.185914, 0.185914, 0.185914, 0.185914, 0.185914, 0.185914, 0.185396, 0.185914, 0.185396, 0.185396, 0.185396, 0.185396, 0.185396, 0.185396, 0.185914, 0.185396, 0.185396, 0.185396, 0.185396, 0.185914, 0.185914, 0.186432, 0.186432, 0.186432, 0.185914, 0.186432, 0.186432, 0.186432, 0.185914, 0.185914, 0.186432, 0.186432, 0.185914, 0.185914, 0.185396, 0.185396, 0.185396, 0.185396, 0.185396, 0.185396, 0.184878, 0.185396, 0.185396, 0.184878, 0.185396, 0.185396, 0.185396, 0.185396, 0.185396, 0.184878, 0.18436, 0.18436, 0.184878, 0.18436, 0.184878, 0.18436, 0.18436, 0.185396, 0.185396, 0.184878, 0.184878, 0.18436, 0.184878, 0.184878, 0.185396, 0.184878, 0.185914, 0.185914, 0.185914, 0.185914, 0.186432, 0.18695, 0.18695, 0.185914, 0.185396, 0.185396, 0.185396, 0.185396, 0.185396, 0.185396, 0.185396, 0.185396, 0.185396, 0.18436, 0.18436, 0.184878]}}\n",
            "100\n",
            "[0.654315, 0.622598, 0.595743, 0.573879, 0.555621, 0.540843, 0.528075, 0.517388, 0.508419, 0.501369, 0.495716, 0.490751, 0.486553, 0.482899, 0.480114, 0.477887, 0.476609, 0.474649, 0.473481, 0.47244, 0.471385, 0.470168, 0.46987, 0.469177, 0.468968, 0.469019, 0.468588, 0.46878, 0.468503, 0.467892, 0.468044, 0.468209, 0.468088, 0.468558, 0.467875, 0.468137, 0.468327, 0.468469, 0.468932, 0.468719, 0.468419, 0.468671, 0.468828, 0.469532, 0.469884, 0.469762, 0.469639, 0.469156, 0.469397, 0.46995, 0.470359, 0.470426, 0.47003, 0.469807, 0.469466, 0.470045, 0.470476, 0.470649, 0.470164, 0.470112, 0.470315, 0.470519, 0.471004, 0.471326, 0.471163, 0.471287, 0.471321, 0.470937, 0.470643, 0.470445, 0.470188, 0.47045, 0.470448, 0.47043, 0.470159, 0.469963, 0.470216, 0.469864, 0.470572, 0.470673, 0.471057, 0.471915, 0.472647, 0.472851, 0.472891, 0.47283, 0.473139, 0.473363, 0.47349, 0.473334, 0.473398, 0.473785, 0.474357, 0.473677, 0.473812, 0.474193, 0.474464, 0.474457, 0.474695, 0.475078]\n"
          ],
          "name": "stdout"
        },
        {
          "output_type": "display_data",
          "data": {
            "image/png": "[encoded data removed]",
            "text/plain": [
              "<Figure size 432x288 with 1 Axes>"
            ]
          },
          "metadata": {
            "tags": [],
            "needs_background": "light"
          }
        },
        {
          "output_type": "display_data",
          "data": {
            "image/png": "[encoded data removed]",
            "text/plain": [
              "<Figure size 432x288 with 1 Axes>"
            ]
          },
          "metadata": {
            "tags": [],
            "needs_background": "light"
          }
        }
      ]
    },
    {
      "cell_type": "code",
      "metadata": {
        "id": "dzyUY--MFPFJ",
        "colab": {
          "base_uri": "https://localhost:8080/",
          "height": 286
        },
        "outputId": "42272c91-f5aa-4590-c8c8-01f472d038bf"
      },
      "source": [
        "xgb_pars = {\"min_child_weight\": 50, \"eta\": 0.05, \"max_depth\": 8,\n",
        "            \"subsample\": 0.8, \"silent\" : 1, \"nthread\": 4,\n",
        "            \"eval_metric\": \"logloss\", \"objective\": \"binary:logistic\"}\n",
        "\n",
        "d_train = xgb.DMatrix(X_train, label=y_train)\n",
        "d_val = xgb.DMatrix(X_test, label=y_test)\n",
        "d_test = xgb.DMatrix(X_test)\n",
        "watchlist = [(d_train, 'train'), (d_val, 'valid')]\n",
        "\n",
        "bst = xgb.train(xgb_pars, d_train, 400, watchlist, early_stopping_rounds=50, verbose_eval=50)"
      ],
      "execution_count": null,
      "outputs": [
        {
          "output_type": "stream",
          "text": [
            "/usr/local/lib/python3.6/dist-packages/xgboost/core.py:614: UserWarning: Use subset (sliced data) of np.ndarray is not recommended because it will generate extra copies and increase memory consumption\n",
            "  \"because it will generate extra copies and increase memory consumption\")\n"
          ],
          "name": "stderr"
        },
        {
          "output_type": "error",
          "ename": "NameError",
          "evalue": "ignored",
          "traceback": [
            "\u001b[0;31m---------------------------------------------------------------------------\u001b[0m",
            "\u001b[0;31mNameError\u001b[0m                                 Traceback (most recent call last)",
            "\u001b[0;32m<ipython-input-49-4d297ab89347>\u001b[0m in \u001b[0;36m<module>\u001b[0;34m()\u001b[0m\n\u001b[1;32m      4\u001b[0m \u001b[0;34m\u001b[0m\u001b[0m\n\u001b[1;32m      5\u001b[0m \u001b[0md_train\u001b[0m \u001b[0;34m=\u001b[0m \u001b[0mxgb\u001b[0m\u001b[0;34m.\u001b[0m\u001b[0mDMatrix\u001b[0m\u001b[0;34m(\u001b[0m\u001b[0mX_train\u001b[0m\u001b[0;34m,\u001b[0m \u001b[0mlabel\u001b[0m\u001b[0;34m=\u001b[0m\u001b[0my_train\u001b[0m\u001b[0;34m)\u001b[0m\u001b[0;34m\u001b[0m\u001b[0;34m\u001b[0m\u001b[0m\n\u001b[0;32m----> 6\u001b[0;31m \u001b[0md_val\u001b[0m \u001b[0;34m=\u001b[0m \u001b[0mxgb\u001b[0m\u001b[0;34m.\u001b[0m\u001b[0mDMatrix\u001b[0m\u001b[0;34m(\u001b[0m\u001b[0mX_test\u001b[0m\u001b[0;34m,\u001b[0m \u001b[0mlabel\u001b[0m\u001b[0;34m=\u001b[0m\u001b[0my_test\u001b[0m\u001b[0;34m)\u001b[0m\u001b[0;34m\u001b[0m\u001b[0;34m\u001b[0m\u001b[0m\n\u001b[0m\u001b[1;32m      7\u001b[0m \u001b[0md_test\u001b[0m \u001b[0;34m=\u001b[0m \u001b[0mxgb\u001b[0m\u001b[0;34m.\u001b[0m\u001b[0mDMatrix\u001b[0m\u001b[0;34m(\u001b[0m\u001b[0mX_test\u001b[0m\u001b[0;34m)\u001b[0m\u001b[0;34m\u001b[0m\u001b[0;34m\u001b[0m\u001b[0m\n\u001b[1;32m      8\u001b[0m \u001b[0mwatchlist\u001b[0m \u001b[0;34m=\u001b[0m \u001b[0;34m[\u001b[0m\u001b[0;34m(\u001b[0m\u001b[0md_train\u001b[0m\u001b[0;34m,\u001b[0m \u001b[0;34m'train'\u001b[0m\u001b[0;34m)\u001b[0m\u001b[0;34m,\u001b[0m \u001b[0;34m(\u001b[0m\u001b[0md_val\u001b[0m\u001b[0;34m,\u001b[0m \u001b[0;34m'valid'\u001b[0m\u001b[0;34m)\u001b[0m\u001b[0;34m]\u001b[0m\u001b[0;34m\u001b[0m\u001b[0;34m\u001b[0m\u001b[0m\n",
            "\u001b[0;31mNameError\u001b[0m: name 'X_test' is not defined"
          ]
        }
      ]
    },
    {
      "cell_type": "code",
      "metadata": {
        "id": "Nrkm0FIo7U0H"
      },
      "source": [
        "ans = model2.predict(all_data)"
      ],
      "execution_count": null,
      "outputs": []
    },
    {
      "cell_type": "code",
      "metadata": {
        "colab": {
          "base_uri": "https://localhost:8080/"
        },
        "id": "Fumk379L7rRQ",
        "outputId": "23a2b4f0-69f7-4709-f063-b356ceb37ac8"
      },
      "source": [
        "sum(ans)"
      ],
      "execution_count": null,
      "outputs": [
        {
          "output_type": "execute_result",
          "data": {
            "text/plain": [
              "6.0"
            ]
          },
          "metadata": {
            "tags": []
          },
          "execution_count": 43
        }
      ]
    },
    {
      "cell_type": "code",
      "metadata": {
        "id": "_BIuiL0JFfkQ"
      },
      "source": [
        "ans = bst.predict(d_test )\n",
        "for i in range(len(ans)):\n",
        "  if ans[i] > 0.5:\n",
        "    ans[i] = 1\n",
        "  else:\n",
        "    ans[i] = 0"
      ],
      "execution_count": null,
      "outputs": []
    },
    {
      "cell_type": "code",
      "metadata": {
        "id": "Ok0wPXjfGThK",
        "colab": {
          "base_uri": "https://localhost:8080/"
        },
        "outputId": "4df30d19-4570-496f-d7c8-f43bbfe4e4ed"
      },
      "source": [
        "print((len(ans)-sum(abs(ans - y_test)))/len(ans))"
      ],
      "execution_count": null,
      "outputs": [
        {
          "output_type": "stream",
          "text": [
            "0.8208182288969446\n"
          ],
          "name": "stdout"
        }
      ]
    },
    {
      "cell_type": "code",
      "metadata": {
        "id": "63VrxTREI31c"
      },
      "source": [
        ""
      ],
      "execution_count": null,
      "outputs": []
    }
  ]
}