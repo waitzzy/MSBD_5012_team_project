{
  "nbformat": 4,
  "nbformat_minor": 0,
  "metadata": {
    "colab": {
      "name": "genreateHumor.ipynb",
      "provenance": []
    },
    "kernelspec": {
      "name": "python3",
      "display_name": "Python 3"
    }
  },
  "cells": [
    {
      "cell_type": "code",
      "metadata": {
        "id": "6cBP_6JjJ_Wb"
      },
      "source": [
        "import pandas as pd\n",
        "import nltk\n",
        "import string\n",
        "from nltk.corpus import stopwords\n",
        "from nltk.tokenize import word_tokenize \n",
        "from nltk.tokenize import TweetTokenizer\n",
        "from nltk.corpus import wordnet\n",
        "from nltk.stem.wordnet import WordNetLemmatizer\n",
        "from nltk.sentiment.util import mark_negation\n",
        "from nltk.corpus import sentiwordnet as swn\n",
        "import numpy as np"
      ],
      "execution_count": null,
      "outputs": []
    },
    {
      "cell_type": "markdown",
      "metadata": {
        "id": "kPc-cJJUViaD"
      },
      "source": [
        ""
      ]
    },
    {
      "cell_type": "code",
      "metadata": {
        "id": "KsJMr5O1FXYf"
      },
      "source": [
        "import spacy\n",
        "from spacy import displacy\n",
        "from collections import Counter\n",
        "import en_core_web_sm\n",
        "nlp = en_core_web_sm.load()"
      ],
      "execution_count": null,
      "outputs": []
    },
    {
      "cell_type": "code",
      "metadata": {
        "colab": {
          "base_uri": "https://localhost:8080/"
        },
        "id": "GPlLpCjNUySs",
        "outputId": "e90eb784-b56a-4809-f5c1-0c221ad644f8"
      },
      "source": [
        "nltk.download('punkt')\n",
        "nltk.download('averaged_perceptron_tagger')\n",
        "nltk.download('wordnet')\n",
        "nltk.download('stopwords')"
      ],
      "execution_count": null,
      "outputs": [
        {
          "output_type": "stream",
          "text": [
            "[nltk_data] Downloading package punkt to /root/nltk_data...\n",
            "[nltk_data]   Unzipping tokenizers/punkt.zip.\n",
            "[nltk_data] Downloading package averaged_perceptron_tagger to\n",
            "[nltk_data]     /root/nltk_data...\n",
            "[nltk_data]   Unzipping taggers/averaged_perceptron_tagger.zip.\n",
            "[nltk_data] Downloading package wordnet to /root/nltk_data...\n",
            "[nltk_data]   Unzipping corpora/wordnet.zip.\n",
            "[nltk_data] Downloading package stopwords to /root/nltk_data...\n",
            "[nltk_data]   Unzipping corpora/stopwords.zip.\n"
          ],
          "name": "stdout"
        },
        {
          "output_type": "execute_result",
          "data": {
            "text/plain": [
              "True"
            ]
          },
          "metadata": {
            "tags": []
          },
          "execution_count": 8
        }
      ]
    },
    {
      "cell_type": "code",
      "metadata": {
        "colab": {
          "base_uri": "https://localhost:8080/",
          "height": 204
        },
        "id": "IRNAFZBaKSma",
        "outputId": "7ade3b8f-e57e-4ce2-9dc6-3b3e6f9507fb"
      },
      "source": [
        "df = pd.read_csv(\"/content/drive/MyDrive/project_zzy/data/task-1/train.csv\")\n",
        "df.head()"
      ],
      "execution_count": null,
      "outputs": [
        {
          "output_type": "execute_result",
          "data": {
            "text/html": [
              "<div>\n",
              "<style scoped>\n",
              "    .dataframe tbody tr th:only-of-type {\n",
              "        vertical-align: middle;\n",
              "    }\n",
              "\n",
              "    .dataframe tbody tr th {\n",
              "        vertical-align: top;\n",
              "    }\n",
              "\n",
              "    .dataframe thead th {\n",
              "        text-align: right;\n",
              "    }\n",
              "</style>\n",
              "<table border=\"1\" class=\"dataframe\">\n",
              "  <thead>\n",
              "    <tr style=\"text-align: right;\">\n",
              "      <th></th>\n",
              "      <th>id</th>\n",
              "      <th>original</th>\n",
              "      <th>edit</th>\n",
              "      <th>grades</th>\n",
              "      <th>meanGrade</th>\n",
              "    </tr>\n",
              "  </thead>\n",
              "  <tbody>\n",
              "    <tr>\n",
              "      <th>0</th>\n",
              "      <td>14530</td>\n",
              "      <td>France is ‘ hunting down its citizens who join...</td>\n",
              "      <td>twins</td>\n",
              "      <td>10000</td>\n",
              "      <td>0.2</td>\n",
              "    </tr>\n",
              "    <tr>\n",
              "      <th>1</th>\n",
              "      <td>13034</td>\n",
              "      <td>Pentagon claims 2,000 % increase in Russian tr...</td>\n",
              "      <td>bowling</td>\n",
              "      <td>33110</td>\n",
              "      <td>1.6</td>\n",
              "    </tr>\n",
              "    <tr>\n",
              "      <th>2</th>\n",
              "      <td>8731</td>\n",
              "      <td>Iceland PM Calls Snap Vote as Pedophile Furor ...</td>\n",
              "      <td>party</td>\n",
              "      <td>22100</td>\n",
              "      <td>1.0</td>\n",
              "    </tr>\n",
              "    <tr>\n",
              "      <th>3</th>\n",
              "      <td>76</td>\n",
              "      <td>In an apparent first , Iran and Israel &lt;engage...</td>\n",
              "      <td>slap</td>\n",
              "      <td>20000</td>\n",
              "      <td>0.4</td>\n",
              "    </tr>\n",
              "    <tr>\n",
              "      <th>4</th>\n",
              "      <td>6164</td>\n",
              "      <td>Trump was told weeks ago that Flynn misled &lt;Vi...</td>\n",
              "      <td>school</td>\n",
              "      <td>0</td>\n",
              "      <td>0.0</td>\n",
              "    </tr>\n",
              "  </tbody>\n",
              "</table>\n",
              "</div>"
            ],
            "text/plain": [
              "      id                                           original  ... grades  meanGrade\n",
              "0  14530  France is ‘ hunting down its citizens who join...  ...  10000        0.2\n",
              "1  13034  Pentagon claims 2,000 % increase in Russian tr...  ...  33110        1.6\n",
              "2   8731  Iceland PM Calls Snap Vote as Pedophile Furor ...  ...  22100        1.0\n",
              "3     76  In an apparent first , Iran and Israel <engage...  ...  20000        0.4\n",
              "4   6164  Trump was told weeks ago that Flynn misled <Vi...  ...      0        0.0\n",
              "\n",
              "[5 rows x 5 columns]"
            ]
          },
          "metadata": {
            "tags": []
          },
          "execution_count": 115
        }
      ]
    },
    {
      "cell_type": "code",
      "metadata": {
        "id": "YyyL-8fuLkXn"
      },
      "source": [
        "import re"
      ],
      "execution_count": null,
      "outputs": []
    },
    {
      "cell_type": "code",
      "metadata": {
        "colab": {
          "base_uri": "https://localhost:8080/",
          "height": 204
        },
        "id": "KgMvhZGLMwwf",
        "outputId": "20f0baaf-c06c-42cb-c693-b8847bdc5d5a"
      },
      "source": [
        "df['ori_word'] = df['original'].apply(lambda x : re.findall(r\"<(.+?)/>\",x)[0].lower())\n",
        "df.head()"
      ],
      "execution_count": null,
      "outputs": [
        {
          "output_type": "execute_result",
          "data": {
            "text/html": [
              "<div>\n",
              "<style scoped>\n",
              "    .dataframe tbody tr th:only-of-type {\n",
              "        vertical-align: middle;\n",
              "    }\n",
              "\n",
              "    .dataframe tbody tr th {\n",
              "        vertical-align: top;\n",
              "    }\n",
              "\n",
              "    .dataframe thead th {\n",
              "        text-align: right;\n",
              "    }\n",
              "</style>\n",
              "<table border=\"1\" class=\"dataframe\">\n",
              "  <thead>\n",
              "    <tr style=\"text-align: right;\">\n",
              "      <th></th>\n",
              "      <th>id</th>\n",
              "      <th>original</th>\n",
              "      <th>edit</th>\n",
              "      <th>grades</th>\n",
              "      <th>meanGrade</th>\n",
              "      <th>ori_word</th>\n",
              "    </tr>\n",
              "  </thead>\n",
              "  <tbody>\n",
              "    <tr>\n",
              "      <th>0</th>\n",
              "      <td>14530</td>\n",
              "      <td>France is ‘ hunting down its citizens who join...</td>\n",
              "      <td>twins</td>\n",
              "      <td>10000</td>\n",
              "      <td>0.2</td>\n",
              "      <td>isis</td>\n",
              "    </tr>\n",
              "    <tr>\n",
              "      <th>1</th>\n",
              "      <td>13034</td>\n",
              "      <td>Pentagon claims 2,000 % increase in Russian tr...</td>\n",
              "      <td>bowling</td>\n",
              "      <td>33110</td>\n",
              "      <td>1.6</td>\n",
              "      <td>syria</td>\n",
              "    </tr>\n",
              "    <tr>\n",
              "      <th>2</th>\n",
              "      <td>8731</td>\n",
              "      <td>Iceland PM Calls Snap Vote as Pedophile Furor ...</td>\n",
              "      <td>party</td>\n",
              "      <td>22100</td>\n",
              "      <td>1.0</td>\n",
              "      <td>coalition</td>\n",
              "    </tr>\n",
              "    <tr>\n",
              "      <th>3</th>\n",
              "      <td>76</td>\n",
              "      <td>In an apparent first , Iran and Israel &lt;engage...</td>\n",
              "      <td>slap</td>\n",
              "      <td>20000</td>\n",
              "      <td>0.4</td>\n",
              "      <td>engage</td>\n",
              "    </tr>\n",
              "    <tr>\n",
              "      <th>4</th>\n",
              "      <td>6164</td>\n",
              "      <td>Trump was told weeks ago that Flynn misled &lt;Vi...</td>\n",
              "      <td>school</td>\n",
              "      <td>0</td>\n",
              "      <td>0.0</td>\n",
              "      <td>vice</td>\n",
              "    </tr>\n",
              "  </tbody>\n",
              "</table>\n",
              "</div>"
            ],
            "text/plain": [
              "      id  ...   ori_word\n",
              "0  14530  ...       isis\n",
              "1  13034  ...      syria\n",
              "2   8731  ...  coalition\n",
              "3     76  ...     engage\n",
              "4   6164  ...       vice\n",
              "\n",
              "[5 rows x 6 columns]"
            ]
          },
          "metadata": {
            "tags": []
          },
          "execution_count": 116
        }
      ]
    },
    {
      "cell_type": "code",
      "metadata": {
        "colab": {
          "base_uri": "https://localhost:8080/",
          "height": 204
        },
        "id": "TU7ddkndSKF6",
        "outputId": "5002c6b0-bc4c-4302-f24a-28245eaf9cf3"
      },
      "source": [
        "df['original'] = df['original'].apply(lambda x : re.sub('<(.*)/>', '', x))\n",
        "df.head()"
      ],
      "execution_count": null,
      "outputs": [
        {
          "output_type": "execute_result",
          "data": {
            "text/html": [
              "<div>\n",
              "<style scoped>\n",
              "    .dataframe tbody tr th:only-of-type {\n",
              "        vertical-align: middle;\n",
              "    }\n",
              "\n",
              "    .dataframe tbody tr th {\n",
              "        vertical-align: top;\n",
              "    }\n",
              "\n",
              "    .dataframe thead th {\n",
              "        text-align: right;\n",
              "    }\n",
              "</style>\n",
              "<table border=\"1\" class=\"dataframe\">\n",
              "  <thead>\n",
              "    <tr style=\"text-align: right;\">\n",
              "      <th></th>\n",
              "      <th>id</th>\n",
              "      <th>original</th>\n",
              "      <th>edit</th>\n",
              "      <th>grades</th>\n",
              "      <th>meanGrade</th>\n",
              "      <th>ori_word</th>\n",
              "    </tr>\n",
              "  </thead>\n",
              "  <tbody>\n",
              "    <tr>\n",
              "      <th>0</th>\n",
              "      <td>14530</td>\n",
              "      <td>France is ‘ hunting down its citizens who join...</td>\n",
              "      <td>twins</td>\n",
              "      <td>10000</td>\n",
              "      <td>0.2</td>\n",
              "      <td>isis</td>\n",
              "    </tr>\n",
              "    <tr>\n",
              "      <th>1</th>\n",
              "      <td>13034</td>\n",
              "      <td>Pentagon claims 2,000 % increase in Russian tr...</td>\n",
              "      <td>bowling</td>\n",
              "      <td>33110</td>\n",
              "      <td>1.6</td>\n",
              "      <td>syria</td>\n",
              "    </tr>\n",
              "    <tr>\n",
              "      <th>2</th>\n",
              "      <td>8731</td>\n",
              "      <td>Iceland PM Calls Snap Vote as Pedophile Furor ...</td>\n",
              "      <td>party</td>\n",
              "      <td>22100</td>\n",
              "      <td>1.0</td>\n",
              "      <td>coalition</td>\n",
              "    </tr>\n",
              "    <tr>\n",
              "      <th>3</th>\n",
              "      <td>76</td>\n",
              "      <td>In an apparent first , Iran and Israel  each o...</td>\n",
              "      <td>slap</td>\n",
              "      <td>20000</td>\n",
              "      <td>0.4</td>\n",
              "      <td>engage</td>\n",
              "    </tr>\n",
              "    <tr>\n",
              "      <th>4</th>\n",
              "      <td>6164</td>\n",
              "      <td>Trump was told weeks ago that Flynn misled  Pr...</td>\n",
              "      <td>school</td>\n",
              "      <td>0</td>\n",
              "      <td>0.0</td>\n",
              "      <td>vice</td>\n",
              "    </tr>\n",
              "  </tbody>\n",
              "</table>\n",
              "</div>"
            ],
            "text/plain": [
              "      id  ...   ori_word\n",
              "0  14530  ...       isis\n",
              "1  13034  ...      syria\n",
              "2   8731  ...  coalition\n",
              "3     76  ...     engage\n",
              "4   6164  ...       vice\n",
              "\n",
              "[5 rows x 6 columns]"
            ]
          },
          "metadata": {
            "tags": []
          },
          "execution_count": 117
        }
      ]
    },
    {
      "cell_type": "code",
      "metadata": {
        "id": "ibTDTyJgFctO"
      },
      "source": [
        "def get_entities(text):\n",
        "  doc = nlp(text)\n",
        "  return [(X.text, X.label_) for X in doc.ents]"
      ],
      "execution_count": null,
      "outputs": []
    },
    {
      "cell_type": "code",
      "metadata": {
        "id": "gY-pfNsuNEhy"
      },
      "source": [
        "def get_wordnet_pos(tag):\n",
        "    if tag.startswith('J'):\n",
        "        return wordnet.ADJ\n",
        "    elif tag.startswith('V'):\n",
        "        return wordnet.VERB\n",
        "    elif tag.startswith('N'):\n",
        "        return wordnet.NOUN\n",
        "    elif tag.startswith('R'):\n",
        "        return wordnet.ADV\n",
        "    else:\n",
        "        return None\n",
        "\n",
        "\n",
        "\n",
        "\n",
        "def process_text(text):\n",
        "  punc_removed = [word for word in text if word not in string.punctuation]\n",
        "  punc_removed = ''.join(punc_removed)\n",
        "  punc_removed = word_tokenize(punc_removed)\n",
        "  pos_tagged = nltk.pos_tag(punc_removed)\n",
        "  vocabularies = []\n",
        "  adjs = []\n",
        "  for token, tag in pos_tagged:\n",
        "      pos = get_wordnet_pos(tag) or wordnet.NOUN\n",
        "      if pos == wordnet.ADJ:\n",
        "        adjs.append(token.lower())\n",
        "      lemmatizer = WordNetLemmatizer()\n",
        "      token = lemmatizer.lemmatize(token, pos)\n",
        "      if (token.lower() not in stopwords.words('english')):\n",
        "          vocabularies.append(token.lower())\n",
        "  return vocabularies,adjs"
      ],
      "execution_count": null,
      "outputs": []
    },
    {
      "cell_type": "code",
      "metadata": {
        "colab": {
          "base_uri": "https://localhost:8080/",
          "height": 340
        },
        "id": "r9WfGRcxUgDs",
        "outputId": "11e15a88-a211-4d08-df0a-6cde2861692f"
      },
      "source": [
        "df['entities'] = df['original'].apply(get_entities)\n",
        "df['vocabularies'] = df['original'].apply(process_text)\n",
        "df[['vocabularies','adjs']] = df['vocabularies'].apply(pd.Series)\n",
        "df.head()"
      ],
      "execution_count": null,
      "outputs": [
        {
          "output_type": "execute_result",
          "data": {
            "text/html": [
              "<div>\n",
              "<style scoped>\n",
              "    .dataframe tbody tr th:only-of-type {\n",
              "        vertical-align: middle;\n",
              "    }\n",
              "\n",
              "    .dataframe tbody tr th {\n",
              "        vertical-align: top;\n",
              "    }\n",
              "\n",
              "    .dataframe thead th {\n",
              "        text-align: right;\n",
              "    }\n",
              "</style>\n",
              "<table border=\"1\" class=\"dataframe\">\n",
              "  <thead>\n",
              "    <tr style=\"text-align: right;\">\n",
              "      <th></th>\n",
              "      <th>id</th>\n",
              "      <th>original</th>\n",
              "      <th>edit</th>\n",
              "      <th>grades</th>\n",
              "      <th>meanGrade</th>\n",
              "      <th>ori_word</th>\n",
              "      <th>entities</th>\n",
              "      <th>vocabularies</th>\n",
              "      <th>adjs</th>\n",
              "    </tr>\n",
              "  </thead>\n",
              "  <tbody>\n",
              "    <tr>\n",
              "      <th>0</th>\n",
              "      <td>14530</td>\n",
              "      <td>France is ‘ hunting down its citizens who join...</td>\n",
              "      <td>twins</td>\n",
              "      <td>10000</td>\n",
              "      <td>0.2</td>\n",
              "      <td>isis</td>\n",
              "      <td>[(France, GPE), (Iraq, GPE)]</td>\n",
              "      <td>[france, ‘, hunt, citizen, join, ’, without, t...</td>\n",
              "      <td>[‘]</td>\n",
              "    </tr>\n",
              "    <tr>\n",
              "      <th>1</th>\n",
              "      <td>13034</td>\n",
              "      <td>Pentagon claims 2,000 % increase in Russian tr...</td>\n",
              "      <td>bowling</td>\n",
              "      <td>33110</td>\n",
              "      <td>1.6</td>\n",
              "      <td>syria</td>\n",
              "      <td>[(Pentagon, ORG), (2,000 %, PERCENT), (Russian...</td>\n",
              "      <td>[pentagon, claim, 2000, increase, russian, tro...</td>\n",
              "      <td>[russian]</td>\n",
              "    </tr>\n",
              "    <tr>\n",
              "      <th>2</th>\n",
              "      <td>8731</td>\n",
              "      <td>Iceland PM Calls Snap Vote as Pedophile Furor ...</td>\n",
              "      <td>party</td>\n",
              "      <td>22100</td>\n",
              "      <td>1.0</td>\n",
              "      <td>coalition</td>\n",
              "      <td>[(Iceland, GPE), (Furor Crashes, PERSON)]</td>\n",
              "      <td>[iceland, pm, calls, snap, vote, pedophile, fu...</td>\n",
              "      <td>[]</td>\n",
              "    </tr>\n",
              "    <tr>\n",
              "      <th>3</th>\n",
              "      <td>76</td>\n",
              "      <td>In an apparent first , Iran and Israel  each o...</td>\n",
              "      <td>slap</td>\n",
              "      <td>20000</td>\n",
              "      <td>0.4</td>\n",
              "      <td>engage</td>\n",
              "      <td>[(first, ORDINAL), (Iran, GPE), (Israel, GPE)]</td>\n",
              "      <td>[apparent, first, iran, israel, militarily]</td>\n",
              "      <td>[apparent, first, other]</td>\n",
              "    </tr>\n",
              "    <tr>\n",
              "      <th>4</th>\n",
              "      <td>6164</td>\n",
              "      <td>Trump was told weeks ago that Flynn misled  Pr...</td>\n",
              "      <td>school</td>\n",
              "      <td>0</td>\n",
              "      <td>0.0</td>\n",
              "      <td>vice</td>\n",
              "      <td>[(Trump, PERSON), (weeks ago, DATE), (Flynn, P...</td>\n",
              "      <td>[trump, tell, week, ago, flynn, mislead, presi...</td>\n",
              "      <td>[]</td>\n",
              "    </tr>\n",
              "  </tbody>\n",
              "</table>\n",
              "</div>"
            ],
            "text/plain": [
              "      id  ...                      adjs\n",
              "0  14530  ...                       [‘]\n",
              "1  13034  ...                 [russian]\n",
              "2   8731  ...                        []\n",
              "3     76  ...  [apparent, first, other]\n",
              "4   6164  ...                        []\n",
              "\n",
              "[5 rows x 9 columns]"
            ]
          },
          "metadata": {
            "tags": []
          },
          "execution_count": 82
        }
      ]
    },
    {
      "cell_type": "code",
      "metadata": {
        "colab": {
          "base_uri": "https://localhost:8080/"
        },
        "id": "P2wQVmZovgzC",
        "outputId": "84bf469b-7516-473a-b5af-4e7eca439e73"
      },
      "source": [
        "final_vocabularies = df[df['meanGrade'] < 1]['vocabularies']\n",
        "final_vocabularies"
      ],
      "execution_count": null,
      "outputs": [
        {
          "output_type": "execute_result",
          "data": {
            "text/plain": [
              "0       [france, ‘, hunt, citizen, join, ’, without, t...\n",
              "3             [apparent, first, iran, israel, militarily]\n",
              "4       [trump, tell, week, ago, flynn, mislead, presi...\n",
              "8              [canadians, may, pay, tax, americans, get]\n",
              "9                 [dutch, minister, resigns, drug, baron]\n",
              "                              ...                        \n",
              "9646    [among, republicans, trump, popular, congressi...\n",
              "9647    [state, official, blast, unprecedented, dhs, s...\n",
              "9648    [protesters, rally, detained, jfk, airport, tr...\n",
              "9649    [cruise, line, carnival, corp, join, fight, be...\n",
              "9651                        [houseapproved, health, bill]\n",
              "Name: vocabularies, Length: 4921, dtype: object"
            ]
          },
          "metadata": {
            "tags": []
          },
          "execution_count": 83
        }
      ]
    },
    {
      "cell_type": "code",
      "metadata": {
        "id": "yOlRRzePXI-V"
      },
      "source": [
        "entities = df[['entities','adjs']]\n",
        "entities[:10]"
      ],
      "execution_count": null,
      "outputs": []
    },
    {
      "cell_type": "code",
      "metadata": {
        "id": "89MHPFsfXaZr"
      },
      "source": [
        "adjective = df[['adjs']]\n",
        "adjective[:10]"
      ],
      "execution_count": null,
      "outputs": []
    },
    {
      "cell_type": "code",
      "metadata": {
        "id": "BYpSL9o13hVH"
      },
      "source": [
        "def proprecess_ent(t_entities):\n",
        "  entities = set()\n",
        "  for ent in t_entities:\n",
        "    if ent[1] == 'GPE':\n",
        "      entities.add(ent[0].lower())\n",
        "    elif ent[1] == \"PERCENT\":\n",
        "      entities.add('percent')\n",
        "    elif ent[1] == 'PERSON':\n",
        "      entities.add('person')\n",
        "    elif ent[1] == 'DATE':\n",
        "      entities.add('date')\n",
        "    elif ent[1] == 'ORG':\n",
        "      entities.add('organization')\n",
        "    elif ent[1] == 'PRODUCT':\n",
        "      entities.add('product')\n",
        "    elif ent[1] == 'LOC':\n",
        "      entities.add('location')\n",
        "    elif ent[1] == 'EVENT':\n",
        "      entities.add('event')\n",
        "    elif ent[1] == 'WORK_OF_ART':\n",
        "      entities.add('art')\n",
        "    elif ent[1] == 'LAW':\n",
        "      entities.add('law')\n",
        "    elif ent[1] == 'TIME':\n",
        "      entities.add('time')\n",
        "    elif ent[1] == 'MONEY':\n",
        "      entities.add('money')\n",
        "  return list(entities)"
      ],
      "execution_count": null,
      "outputs": []
    },
    {
      "cell_type": "code",
      "metadata": {
        "id": "UQ7C7vuXk5Qd"
      },
      "source": [
        "clusters = np.load('/content/drive/MyDrive/project_zzy/clusters.npy')"
      ],
      "execution_count": null,
      "outputs": []
    },
    {
      "cell_type": "code",
      "metadata": {
        "id": "eAECSnD3CBkS"
      },
      "source": [
        "def cal_cos_sim(vector1, vector2):\n",
        "  return np.dot(vector1,vector2)/(np.linalg.norm(vector1)*(np.linalg.norm(vector2)))\n",
        "\n",
        "def get_mean_sim(M,clusters = clusters):\n",
        "  if len(M.shape) == 1:\n",
        "    return np.zeros([7])\n",
        "  sim4culsters = []\n",
        "  for i in range(clusters.shape[0]):\n",
        "    temp = 0\n",
        "    for j in range(M.shape[0]):\n",
        "      vector1 = clusters[i]\n",
        "      vector2 = M[j]\n",
        "      temp += cal_cos_sim(vector1, vector2)\n",
        "    sim4culsters.append(temp/M.shape[0])\n",
        "  return np.array(sim4culsters)"
      ],
      "execution_count": null,
      "outputs": []
    },
    {
      "cell_type": "code",
      "metadata": {
        "colab": {
          "base_uri": "https://localhost:8080/",
          "height": 529
        },
        "id": "uMyBgHAt75o5",
        "outputId": "7fcb7b2d-a422-4c0b-b3a9-8ac1770bf9ad"
      },
      "source": [
        "df['entities'] = df['entities'].apply(proprecess_ent)\n",
        "df[:10]"
      ],
      "execution_count": null,
      "outputs": [
        {
          "output_type": "execute_result",
          "data": {
            "text/html": [
              "<div>\n",
              "<style scoped>\n",
              "    .dataframe tbody tr th:only-of-type {\n",
              "        vertical-align: middle;\n",
              "    }\n",
              "\n",
              "    .dataframe tbody tr th {\n",
              "        vertical-align: top;\n",
              "    }\n",
              "\n",
              "    .dataframe thead th {\n",
              "        text-align: right;\n",
              "    }\n",
              "</style>\n",
              "<table border=\"1\" class=\"dataframe\">\n",
              "  <thead>\n",
              "    <tr style=\"text-align: right;\">\n",
              "      <th></th>\n",
              "      <th>id</th>\n",
              "      <th>original</th>\n",
              "      <th>edit</th>\n",
              "      <th>grades</th>\n",
              "      <th>meanGrade</th>\n",
              "      <th>ori_word</th>\n",
              "      <th>entities</th>\n",
              "      <th>vocabularies</th>\n",
              "      <th>adjs</th>\n",
              "    </tr>\n",
              "  </thead>\n",
              "  <tbody>\n",
              "    <tr>\n",
              "      <th>0</th>\n",
              "      <td>14530</td>\n",
              "      <td>France is ‘ hunting down its citizens who join...</td>\n",
              "      <td>twins</td>\n",
              "      <td>10000</td>\n",
              "      <td>0.2</td>\n",
              "      <td>isis</td>\n",
              "      <td>[france, iraq]</td>\n",
              "      <td>[france, ‘, hunt, citizen, join, ’, without, t...</td>\n",
              "      <td>[‘]</td>\n",
              "    </tr>\n",
              "    <tr>\n",
              "      <th>1</th>\n",
              "      <td>13034</td>\n",
              "      <td>Pentagon claims 2,000 % increase in Russian tr...</td>\n",
              "      <td>bowling</td>\n",
              "      <td>33110</td>\n",
              "      <td>1.6</td>\n",
              "      <td>syria</td>\n",
              "      <td>[percent, organization]</td>\n",
              "      <td>[pentagon, claim, 2000, increase, russian, tro...</td>\n",
              "      <td>[russian]</td>\n",
              "    </tr>\n",
              "    <tr>\n",
              "      <th>2</th>\n",
              "      <td>8731</td>\n",
              "      <td>Iceland PM Calls Snap Vote as Pedophile Furor ...</td>\n",
              "      <td>party</td>\n",
              "      <td>22100</td>\n",
              "      <td>1.0</td>\n",
              "      <td>coalition</td>\n",
              "      <td>[person, iceland]</td>\n",
              "      <td>[iceland, pm, calls, snap, vote, pedophile, fu...</td>\n",
              "      <td>[]</td>\n",
              "    </tr>\n",
              "    <tr>\n",
              "      <th>3</th>\n",
              "      <td>76</td>\n",
              "      <td>In an apparent first , Iran and Israel  each o...</td>\n",
              "      <td>slap</td>\n",
              "      <td>20000</td>\n",
              "      <td>0.4</td>\n",
              "      <td>engage</td>\n",
              "      <td>[israel, iran]</td>\n",
              "      <td>[apparent, first, iran, israel, militarily]</td>\n",
              "      <td>[apparent, first, other]</td>\n",
              "    </tr>\n",
              "    <tr>\n",
              "      <th>4</th>\n",
              "      <td>6164</td>\n",
              "      <td>Trump was told weeks ago that Flynn misled  Pr...</td>\n",
              "      <td>school</td>\n",
              "      <td>0</td>\n",
              "      <td>0.0</td>\n",
              "      <td>vice</td>\n",
              "      <td>[person, date]</td>\n",
              "      <td>[trump, tell, week, ago, flynn, mislead, presi...</td>\n",
              "      <td>[]</td>\n",
              "    </tr>\n",
              "    <tr>\n",
              "      <th>5</th>\n",
              "      <td>8832</td>\n",
              "      <td>All 22  Trump made in his speech to Congress ,...</td>\n",
              "      <td>sounds</td>\n",
              "      <td>22200</td>\n",
              "      <td>1.2</td>\n",
              "      <td>promises</td>\n",
              "      <td>[product, organization]</td>\n",
              "      <td>[22, trump, make, speech, congress, one, chart]</td>\n",
              "      <td>[]</td>\n",
              "    </tr>\n",
              "    <tr>\n",
              "      <th>6</th>\n",
              "      <td>12174</td>\n",
              "      <td>New DOJ alert system will flag  against police</td>\n",
              "      <td>laughter</td>\n",
              "      <td>32100</td>\n",
              "      <td>1.2</td>\n",
              "      <td>crimes</td>\n",
              "      <td>[]</td>\n",
              "      <td>[new, doj, alert, system, flag, police]</td>\n",
              "      <td>[]</td>\n",
              "    </tr>\n",
              "    <tr>\n",
              "      <th>7</th>\n",
              "      <td>3731</td>\n",
              "      <td>As Someone Who Grew Up Among Fundamentalist  I...</td>\n",
              "      <td>morons</td>\n",
              "      <td>21110</td>\n",
              "      <td>1.0</td>\n",
              "      <td>christians</td>\n",
              "      <td>[person, us]</td>\n",
              "      <td>[someone, grew, among, fundamentalist, us, sur...</td>\n",
              "      <td>[surprised]</td>\n",
              "    </tr>\n",
              "    <tr>\n",
              "      <th>8</th>\n",
              "      <td>6554</td>\n",
              "      <td>Canadians may pay more taxes than Americans , ...</td>\n",
              "      <td>loonies</td>\n",
              "      <td>10000</td>\n",
              "      <td>0.2</td>\n",
              "      <td>money</td>\n",
              "      <td>[]</td>\n",
              "      <td>[canadians, may, pay, tax, americans, get]</td>\n",
              "      <td>[more]</td>\n",
              "    </tr>\n",
              "    <tr>\n",
              "      <th>9</th>\n",
              "      <td>14191</td>\n",
              "      <td>Dutch minister resigns in drug baron</td>\n",
              "      <td>blow</td>\n",
              "      <td>0</td>\n",
              "      <td>0.0</td>\n",
              "      <td>row</td>\n",
              "      <td>[]</td>\n",
              "      <td>[dutch, minister, resigns, drug, baron]</td>\n",
              "      <td>[dutch]</td>\n",
              "    </tr>\n",
              "  </tbody>\n",
              "</table>\n",
              "</div>"
            ],
            "text/plain": [
              "      id  ...                      adjs\n",
              "0  14530  ...                       [‘]\n",
              "1  13034  ...                 [russian]\n",
              "2   8731  ...                        []\n",
              "3     76  ...  [apparent, first, other]\n",
              "4   6164  ...                        []\n",
              "5   8832  ...                        []\n",
              "6  12174  ...                        []\n",
              "7   3731  ...               [surprised]\n",
              "8   6554  ...                    [more]\n",
              "9  14191  ...                   [dutch]\n",
              "\n",
              "[10 rows x 9 columns]"
            ]
          },
          "metadata": {
            "tags": []
          },
          "execution_count": 85
        }
      ]
    },
    {
      "cell_type": "code",
      "metadata": {
        "id": "TDN3xfxDIyUY"
      },
      "source": [
        "df.to_csv(\"generate_humor_data.csv\")"
      ],
      "execution_count": null,
      "outputs": []
    },
    {
      "cell_type": "code",
      "metadata": {
        "colab": {
          "base_uri": "https://localhost:8080/",
          "height": 204
        },
        "id": "P5AmW8m3UwdN",
        "outputId": "b289ca78-714b-4995-8c04-e9ee180c745d"
      },
      "source": [
        "df.drop(['original'],axis=1,inplace=True)\n",
        "df.head()"
      ],
      "execution_count": null,
      "outputs": [
        {
          "output_type": "execute_result",
          "data": {
            "text/html": [
              "<div>\n",
              "<style scoped>\n",
              "    .dataframe tbody tr th:only-of-type {\n",
              "        vertical-align: middle;\n",
              "    }\n",
              "\n",
              "    .dataframe tbody tr th {\n",
              "        vertical-align: top;\n",
              "    }\n",
              "\n",
              "    .dataframe thead th {\n",
              "        text-align: right;\n",
              "    }\n",
              "</style>\n",
              "<table border=\"1\" class=\"dataframe\">\n",
              "  <thead>\n",
              "    <tr style=\"text-align: right;\">\n",
              "      <th></th>\n",
              "      <th>id</th>\n",
              "      <th>edit</th>\n",
              "      <th>grades</th>\n",
              "      <th>meanGrade</th>\n",
              "      <th>ori_word</th>\n",
              "      <th>entities</th>\n",
              "      <th>vocabularies</th>\n",
              "      <th>adjs</th>\n",
              "    </tr>\n",
              "  </thead>\n",
              "  <tbody>\n",
              "    <tr>\n",
              "      <th>0</th>\n",
              "      <td>14530</td>\n",
              "      <td>twins</td>\n",
              "      <td>10000</td>\n",
              "      <td>0.2</td>\n",
              "      <td>isis</td>\n",
              "      <td>[france, iraq]</td>\n",
              "      <td>[france, ‘, hunt, citizen, join, ’, without, t...</td>\n",
              "      <td>[‘]</td>\n",
              "    </tr>\n",
              "    <tr>\n",
              "      <th>1</th>\n",
              "      <td>13034</td>\n",
              "      <td>bowling</td>\n",
              "      <td>33110</td>\n",
              "      <td>1.6</td>\n",
              "      <td>syria</td>\n",
              "      <td>[percent, organization]</td>\n",
              "      <td>[pentagon, claim, 2000, increase, russian, tro...</td>\n",
              "      <td>[russian]</td>\n",
              "    </tr>\n",
              "    <tr>\n",
              "      <th>2</th>\n",
              "      <td>8731</td>\n",
              "      <td>party</td>\n",
              "      <td>22100</td>\n",
              "      <td>1.0</td>\n",
              "      <td>coalition</td>\n",
              "      <td>[person, iceland]</td>\n",
              "      <td>[iceland, pm, calls, snap, vote, pedophile, fu...</td>\n",
              "      <td>[]</td>\n",
              "    </tr>\n",
              "    <tr>\n",
              "      <th>3</th>\n",
              "      <td>76</td>\n",
              "      <td>slap</td>\n",
              "      <td>20000</td>\n",
              "      <td>0.4</td>\n",
              "      <td>engage</td>\n",
              "      <td>[israel, iran]</td>\n",
              "      <td>[apparent, first, iran, israel, militarily]</td>\n",
              "      <td>[apparent, first, other]</td>\n",
              "    </tr>\n",
              "    <tr>\n",
              "      <th>4</th>\n",
              "      <td>6164</td>\n",
              "      <td>school</td>\n",
              "      <td>0</td>\n",
              "      <td>0.0</td>\n",
              "      <td>vice</td>\n",
              "      <td>[person, date]</td>\n",
              "      <td>[trump, tell, week, ago, flynn, mislead, presi...</td>\n",
              "      <td>[]</td>\n",
              "    </tr>\n",
              "  </tbody>\n",
              "</table>\n",
              "</div>"
            ],
            "text/plain": [
              "      id  ...                      adjs\n",
              "0  14530  ...                       [‘]\n",
              "1  13034  ...                 [russian]\n",
              "2   8731  ...                        []\n",
              "3     76  ...  [apparent, first, other]\n",
              "4   6164  ...                        []\n",
              "\n",
              "[5 rows x 8 columns]"
            ]
          },
          "metadata": {
            "tags": []
          },
          "execution_count": 86
        }
      ]
    },
    {
      "cell_type": "code",
      "metadata": {
        "id": "UtxdfLLWHSaO"
      },
      "source": [
        "# def sentence_2_vector(vab, embeddings=embeddings,emb_size=300):\n",
        "#     words=[w for w in vab if w.isalpha() and w in embeddings]\n",
        "#     if len(words)==0:\n",
        "#         return np.hstack([np.zeros(emb_size)])\n",
        "#     M=np.array([embeddings[w] for w in words])\n",
        "#     max,min = find_maxcos_and_mincos(M)\n",
        "#     return np.append(M.mean(axis=0),np.array([max,min]))\n",
        "\n",
        "def snetence_2_vector(vab, embeddings=embeddings,emb_size=300):\n",
        "    words=[w for w in vab if w.isalpha() and w in embeddings]\n",
        "    if len(words)==0:\n",
        "        return np.hstack([np.zeros(emb_size)])\n",
        "    M=np.array([embeddings[w] for w in words])\n",
        "    return M.mean(axis=0)\n",
        "\n",
        "def vabs_2_vector(vab, embeddings=embeddings,emb_size=300):\n",
        "    words=[w for w in vab if w.isalpha() and w in embeddings]\n",
        "    if len(words)==0:\n",
        "        return np.hstack([np.zeros(emb_size)])\n",
        "    M=np.array([embeddings[w] for w in words])\n",
        "    return M\n",
        "\n",
        "def word_2_vector(vab, embeddings=embeddings,emb_size=300):\n",
        "  if vab in embeddings:\n",
        "    return np.array(embeddings[vab])\n",
        "  else:\n",
        "    return np.hstack([np.zeros(emb_size)])"
      ],
      "execution_count": null,
      "outputs": []
    },
    {
      "cell_type": "code",
      "metadata": {
        "id": "yoJz-rzPUXCl"
      },
      "source": [
        "#寻找edit属于哪个label\n",
        "def get_label(edit,clusters = clusters):\n",
        "  label = 0\n",
        "  min = cal_cos_sim(edit,clusters[0])\n",
        "  for i in range(1,clusters.shape[0]):\n",
        "    temp = cal_cos_sim(edit,clusters[i])\n",
        "    if temp < min:\n",
        "      label = i\n",
        "      min = temp\n",
        "  return label\n",
        "\n"
      ],
      "execution_count": null,
      "outputs": []
    },
    {
      "cell_type": "code",
      "metadata": {
        "id": "_hd0UPegVcPc"
      },
      "source": [
        "globe_path = \"/content/drive/My Drive/glove/glove.6B.300d.txt\"\n",
        "def load_word_embeddings(file=globe_path):\n",
        "    embeddings={}\n",
        "    with open(file,'r') as infile:\n",
        "        for line in infile:\n",
        "            values=line.split()\n",
        "            embeddings[values[0]]=np.asarray(values[1:],dtype='float32')\n",
        "    return embeddings\n",
        "embeddings = load_word_embeddings()"
      ],
      "execution_count": null,
      "outputs": []
    },
    {
      "cell_type": "code",
      "metadata": {
        "colab": {
          "base_uri": "https://localhost:8080/",
          "height": 289
        },
        "id": "rui5e-FS-lvU",
        "outputId": "c4916c88-ef9a-4a0e-a06b-3ae90f60b31b"
      },
      "source": [
        "df['vocabularies'] = df['vocabularies'].apply(snetence_2_vector)\n",
        "df['entities'] = df['entities'].apply(vabs_2_vector)\n",
        "df['adjs'] = df['adjs'].apply(vabs_2_vector)\n",
        "df.head()"
      ],
      "execution_count": null,
      "outputs": [
        {
          "output_type": "execute_result",
          "data": {
            "text/html": [
              "<div>\n",
              "<style scoped>\n",
              "    .dataframe tbody tr th:only-of-type {\n",
              "        vertical-align: middle;\n",
              "    }\n",
              "\n",
              "    .dataframe tbody tr th {\n",
              "        vertical-align: top;\n",
              "    }\n",
              "\n",
              "    .dataframe thead th {\n",
              "        text-align: right;\n",
              "    }\n",
              "</style>\n",
              "<table border=\"1\" class=\"dataframe\">\n",
              "  <thead>\n",
              "    <tr style=\"text-align: right;\">\n",
              "      <th></th>\n",
              "      <th>id</th>\n",
              "      <th>edit</th>\n",
              "      <th>grades</th>\n",
              "      <th>meanGrade</th>\n",
              "      <th>ori_word</th>\n",
              "      <th>entities</th>\n",
              "      <th>vocabularies</th>\n",
              "      <th>adjs</th>\n",
              "    </tr>\n",
              "  </thead>\n",
              "  <tbody>\n",
              "    <tr>\n",
              "      <th>0</th>\n",
              "      <td>14530</td>\n",
              "      <td>twins</td>\n",
              "      <td>10000</td>\n",
              "      <td>0.2</td>\n",
              "      <td>isis</td>\n",
              "      <td>[[-0.055966, 0.33098, -0.48706, -0.63245, 0.07...</td>\n",
              "      <td>[-0.123039864, 0.08765901, 0.07984271, -0.2401...</td>\n",
              "      <td>[0.0, 0.0, 0.0, 0.0, 0.0, 0.0, 0.0, 0.0, 0.0, ...</td>\n",
              "    </tr>\n",
              "    <tr>\n",
              "      <th>1</th>\n",
              "      <td>13034</td>\n",
              "      <td>bowling</td>\n",
              "      <td>33110</td>\n",
              "      <td>1.6</td>\n",
              "      <td>syria</td>\n",
              "      <td>[[-0.34248, 0.22911, 0.49966, 0.6407, -0.32319...</td>\n",
              "      <td>[-0.030953001, 0.28873172, -0.036028426, 0.171...</td>\n",
              "      <td>[[0.029215, 0.10225, 0.14988, -0.20514, -0.470...</td>\n",
              "    </tr>\n",
              "    <tr>\n",
              "      <th>2</th>\n",
              "      <td>8731</td>\n",
              "      <td>party</td>\n",
              "      <td>22100</td>\n",
              "      <td>1.0</td>\n",
              "      <td>coalition</td>\n",
              "      <td>[[-0.55598, 0.027967, -0.32289, -0.075042, -0....</td>\n",
              "      <td>[0.14419276, -0.07962062, -0.07726025, 0.02730...</td>\n",
              "      <td>[0.0, 0.0, 0.0, 0.0, 0.0, 0.0, 0.0, 0.0, 0.0, ...</td>\n",
              "    </tr>\n",
              "    <tr>\n",
              "      <th>3</th>\n",
              "      <td>76</td>\n",
              "      <td>slap</td>\n",
              "      <td>20000</td>\n",
              "      <td>0.4</td>\n",
              "      <td>engage</td>\n",
              "      <td>[[0.21257, -0.51255, 0.097078, 0.18691, -0.177...</td>\n",
              "      <td>[0.298504, 0.120728, 0.1639076, -0.323734, 0.0...</td>\n",
              "      <td>[[0.46376, 0.2722, 0.39632, -0.47637, -0.43986...</td>\n",
              "    </tr>\n",
              "    <tr>\n",
              "      <th>4</th>\n",
              "      <td>6164</td>\n",
              "      <td>school</td>\n",
              "      <td>0</td>\n",
              "      <td>0.0</td>\n",
              "      <td>vice</td>\n",
              "      <td>[[-0.55598, 0.027967, -0.32289, -0.075042, -0....</td>\n",
              "      <td>[0.006150999, 0.06871863, -0.1344733, 0.213557...</td>\n",
              "      <td>[0.0, 0.0, 0.0, 0.0, 0.0, 0.0, 0.0, 0.0, 0.0, ...</td>\n",
              "    </tr>\n",
              "  </tbody>\n",
              "</table>\n",
              "</div>"
            ],
            "text/plain": [
              "      id  ...                                               adjs\n",
              "0  14530  ...  [0.0, 0.0, 0.0, 0.0, 0.0, 0.0, 0.0, 0.0, 0.0, ...\n",
              "1  13034  ...  [[0.029215, 0.10225, 0.14988, -0.20514, -0.470...\n",
              "2   8731  ...  [0.0, 0.0, 0.0, 0.0, 0.0, 0.0, 0.0, 0.0, 0.0, ...\n",
              "3     76  ...  [[0.46376, 0.2722, 0.39632, -0.47637, -0.43986...\n",
              "4   6164  ...  [0.0, 0.0, 0.0, 0.0, 0.0, 0.0, 0.0, 0.0, 0.0, ...\n",
              "\n",
              "[5 rows x 8 columns]"
            ]
          },
          "metadata": {
            "tags": []
          },
          "execution_count": 87
        }
      ]
    },
    {
      "cell_type": "code",
      "metadata": {
        "colab": {
          "base_uri": "https://localhost:8080/",
          "height": 408
        },
        "id": "5Dc7PJpWAOXj",
        "outputId": "a1eb1064-fd90-4a88-ab71-6a178999223f"
      },
      "source": [
        "df['ori_word'] = df['ori_word'].apply(word_2_vector)\n",
        "df['edit'] = df['edit'].apply(word_2_vector)\n",
        "df.head()"
      ],
      "execution_count": null,
      "outputs": [
        {
          "output_type": "execute_result",
          "data": {
            "text/html": [
              "<div>\n",
              "<style scoped>\n",
              "    .dataframe tbody tr th:only-of-type {\n",
              "        vertical-align: middle;\n",
              "    }\n",
              "\n",
              "    .dataframe tbody tr th {\n",
              "        vertical-align: top;\n",
              "    }\n",
              "\n",
              "    .dataframe thead th {\n",
              "        text-align: right;\n",
              "    }\n",
              "</style>\n",
              "<table border=\"1\" class=\"dataframe\">\n",
              "  <thead>\n",
              "    <tr style=\"text-align: right;\">\n",
              "      <th></th>\n",
              "      <th>id</th>\n",
              "      <th>edit</th>\n",
              "      <th>grades</th>\n",
              "      <th>meanGrade</th>\n",
              "      <th>ori_word</th>\n",
              "      <th>entities</th>\n",
              "      <th>vocabularies</th>\n",
              "      <th>adjs</th>\n",
              "    </tr>\n",
              "  </thead>\n",
              "  <tbody>\n",
              "    <tr>\n",
              "      <th>0</th>\n",
              "      <td>14530</td>\n",
              "      <td>[0.11861, 0.63912, -0.643, 0.27125, 0.041054, ...</td>\n",
              "      <td>10000</td>\n",
              "      <td>0.2</td>\n",
              "      <td>[0.32328, -0.18626, -0.36277, -0.2135, 0.54738...</td>\n",
              "      <td>[[-0.055966, 0.33098, -0.48706, -0.63245, 0.07...</td>\n",
              "      <td>[-0.123039864, 0.08765901, 0.07984271, -0.2401...</td>\n",
              "      <td>[0.0, 0.0, 0.0, 0.0, 0.0, 0.0, 0.0, 0.0, 0.0, ...</td>\n",
              "    </tr>\n",
              "    <tr>\n",
              "      <th>1</th>\n",
              "      <td>13034</td>\n",
              "      <td>[0.21417, -0.12899, 0.54156, 0.013344, 0.35649...</td>\n",
              "      <td>33110</td>\n",
              "      <td>1.6</td>\n",
              "      <td>[0.49246, -0.40682, 0.25794, -0.27576, 0.17599...</td>\n",
              "      <td>[[-0.34248, 0.22911, 0.49966, 0.6407, -0.32319...</td>\n",
              "      <td>[-0.030953001, 0.28873172, -0.036028426, 0.171...</td>\n",
              "      <td>[[0.029215, 0.10225, 0.14988, -0.20514, -0.470...</td>\n",
              "    </tr>\n",
              "    <tr>\n",
              "      <th>2</th>\n",
              "      <td>8731</td>\n",
              "      <td>[-0.073121, -0.2013, 0.31239, -0.22547, -0.147...</td>\n",
              "      <td>22100</td>\n",
              "      <td>1.0</td>\n",
              "      <td>[-0.20334, 0.020148, 0.69492, 0.0074181, -0.00...</td>\n",
              "      <td>[[-0.55598, 0.027967, -0.32289, -0.075042, -0....</td>\n",
              "      <td>[0.14419276, -0.07962062, -0.07726025, 0.02730...</td>\n",
              "      <td>[0.0, 0.0, 0.0, 0.0, 0.0, 0.0, 0.0, 0.0, 0.0, ...</td>\n",
              "    </tr>\n",
              "    <tr>\n",
              "      <th>3</th>\n",
              "      <td>76</td>\n",
              "      <td>[0.20881, 0.13581, -0.34811, 0.10243, -0.44111...</td>\n",
              "      <td>20000</td>\n",
              "      <td>0.4</td>\n",
              "      <td>[0.070169, 0.40179, -0.11105, -0.61456, 0.2524...</td>\n",
              "      <td>[[0.21257, -0.51255, 0.097078, 0.18691, -0.177...</td>\n",
              "      <td>[0.298504, 0.120728, 0.1639076, -0.323734, 0.0...</td>\n",
              "      <td>[[0.46376, 0.2722, 0.39632, -0.47637, -0.43986...</td>\n",
              "    </tr>\n",
              "    <tr>\n",
              "      <th>4</th>\n",
              "      <td>6164</td>\n",
              "      <td>[-0.64161, 0.06824, 0.051487, 0.064869, 0.2172...</td>\n",
              "      <td>0</td>\n",
              "      <td>0.0</td>\n",
              "      <td>[0.43693, 0.085203, 0.010649, -0.24189, 0.0404...</td>\n",
              "      <td>[[-0.55598, 0.027967, -0.32289, -0.075042, -0....</td>\n",
              "      <td>[0.006150999, 0.06871863, -0.1344733, 0.213557...</td>\n",
              "      <td>[0.0, 0.0, 0.0, 0.0, 0.0, 0.0, 0.0, 0.0, 0.0, ...</td>\n",
              "    </tr>\n",
              "  </tbody>\n",
              "</table>\n",
              "</div>"
            ],
            "text/plain": [
              "      id  ...                                               adjs\n",
              "0  14530  ...  [0.0, 0.0, 0.0, 0.0, 0.0, 0.0, 0.0, 0.0, 0.0, ...\n",
              "1  13034  ...  [[0.029215, 0.10225, 0.14988, -0.20514, -0.470...\n",
              "2   8731  ...  [0.0, 0.0, 0.0, 0.0, 0.0, 0.0, 0.0, 0.0, 0.0, ...\n",
              "3     76  ...  [[0.46376, 0.2722, 0.39632, -0.47637, -0.43986...\n",
              "4   6164  ...  [0.0, 0.0, 0.0, 0.0, 0.0, 0.0, 0.0, 0.0, 0.0, ...\n",
              "\n",
              "[5 rows x 8 columns]"
            ]
          },
          "metadata": {
            "tags": []
          },
          "execution_count": 88
        }
      ]
    },
    {
      "cell_type": "code",
      "metadata": {
        "colab": {
          "base_uri": "https://localhost:8080/",
          "height": 581
        },
        "id": "mf2vv1KJErji",
        "outputId": "c5b03b15-ec1f-461d-baa2-cef5c6661a3e"
      },
      "source": [
        "df['entities_sim'] = df['entities'].apply(get_mean_sim)\n",
        "df['adjs_sim'] = df['adjs'].apply(get_mean_sim)\n",
        "df.head()"
      ],
      "execution_count": null,
      "outputs": [
        {
          "output_type": "execute_result",
          "data": {
            "text/html": [
              "<div>\n",
              "<style scoped>\n",
              "    .dataframe tbody tr th:only-of-type {\n",
              "        vertical-align: middle;\n",
              "    }\n",
              "\n",
              "    .dataframe tbody tr th {\n",
              "        vertical-align: top;\n",
              "    }\n",
              "\n",
              "    .dataframe thead th {\n",
              "        text-align: right;\n",
              "    }\n",
              "</style>\n",
              "<table border=\"1\" class=\"dataframe\">\n",
              "  <thead>\n",
              "    <tr style=\"text-align: right;\">\n",
              "      <th></th>\n",
              "      <th>id</th>\n",
              "      <th>edit</th>\n",
              "      <th>grades</th>\n",
              "      <th>meanGrade</th>\n",
              "      <th>ori_word</th>\n",
              "      <th>entities</th>\n",
              "      <th>vocabularies</th>\n",
              "      <th>adjs</th>\n",
              "      <th>entities_sim</th>\n",
              "      <th>adjs_sim</th>\n",
              "    </tr>\n",
              "  </thead>\n",
              "  <tbody>\n",
              "    <tr>\n",
              "      <th>0</th>\n",
              "      <td>14530</td>\n",
              "      <td>[0.11861, 0.63912, -0.643, 0.27125, 0.041054, ...</td>\n",
              "      <td>10000</td>\n",
              "      <td>0.2</td>\n",
              "      <td>[0.32328, -0.18626, -0.36277, -0.2135, 0.54738...</td>\n",
              "      <td>[[-0.055966, 0.33098, -0.48706, -0.63245, 0.07...</td>\n",
              "      <td>[-0.123039864, 0.08765901, 0.07984271, -0.2401...</td>\n",
              "      <td>[0.0, 0.0, 0.0, 0.0, 0.0, 0.0, 0.0, 0.0, 0.0, ...</td>\n",
              "      <td>[0.4557642311825252, -0.3271379698522151, -0.0...</td>\n",
              "      <td>[0.0, 0.0, 0.0, 0.0, 0.0, 0.0, 0.0]</td>\n",
              "    </tr>\n",
              "    <tr>\n",
              "      <th>1</th>\n",
              "      <td>13034</td>\n",
              "      <td>[0.21417, -0.12899, 0.54156, 0.013344, 0.35649...</td>\n",
              "      <td>33110</td>\n",
              "      <td>1.6</td>\n",
              "      <td>[0.49246, -0.40682, 0.25794, -0.27576, 0.17599...</td>\n",
              "      <td>[[-0.34248, 0.22911, 0.49966, 0.6407, -0.32319...</td>\n",
              "      <td>[-0.030953001, 0.28873172, -0.036028426, 0.171...</td>\n",
              "      <td>[[0.029215, 0.10225, 0.14988, -0.20514, -0.470...</td>\n",
              "      <td>[0.47334306052214403, -0.3555459367938077, -0....</td>\n",
              "      <td>[0.40724693969357967, -0.2807789847763731, -0....</td>\n",
              "    </tr>\n",
              "    <tr>\n",
              "      <th>2</th>\n",
              "      <td>8731</td>\n",
              "      <td>[-0.073121, -0.2013, 0.31239, -0.22547, -0.147...</td>\n",
              "      <td>22100</td>\n",
              "      <td>1.0</td>\n",
              "      <td>[-0.20334, 0.020148, 0.69492, 0.0074181, -0.00...</td>\n",
              "      <td>[[-0.55598, 0.027967, -0.32289, -0.075042, -0....</td>\n",
              "      <td>[0.14419276, -0.07962062, -0.07726025, 0.02730...</td>\n",
              "      <td>[0.0, 0.0, 0.0, 0.0, 0.0, 0.0, 0.0, 0.0, 0.0, ...</td>\n",
              "      <td>[0.33369920410868104, -0.10853172872440946, 0....</td>\n",
              "      <td>[0.0, 0.0, 0.0, 0.0, 0.0, 0.0, 0.0]</td>\n",
              "    </tr>\n",
              "    <tr>\n",
              "      <th>3</th>\n",
              "      <td>76</td>\n",
              "      <td>[0.20881, 0.13581, -0.34811, 0.10243, -0.44111...</td>\n",
              "      <td>20000</td>\n",
              "      <td>0.4</td>\n",
              "      <td>[0.070169, 0.40179, -0.11105, -0.61456, 0.2524...</td>\n",
              "      <td>[[0.21257, -0.51255, 0.097078, 0.18691, -0.177...</td>\n",
              "      <td>[0.298504, 0.120728, 0.1639076, -0.323734, 0.0...</td>\n",
              "      <td>[[0.46376, 0.2722, 0.39632, -0.47637, -0.43986...</td>\n",
              "      <td>[0.4353441928085451, -0.2997730771442755, -0.1...</td>\n",
              "      <td>[0.5772985393982327, -0.27067907002881947, -0....</td>\n",
              "    </tr>\n",
              "    <tr>\n",
              "      <th>4</th>\n",
              "      <td>6164</td>\n",
              "      <td>[-0.64161, 0.06824, 0.051487, 0.064869, 0.2172...</td>\n",
              "      <td>0</td>\n",
              "      <td>0.0</td>\n",
              "      <td>[0.43693, 0.085203, 0.010649, -0.24189, 0.0404...</td>\n",
              "      <td>[[-0.55598, 0.027967, -0.32289, -0.075042, -0....</td>\n",
              "      <td>[0.006150999, 0.06871863, -0.1344733, 0.213557...</td>\n",
              "      <td>[0.0, 0.0, 0.0, 0.0, 0.0, 0.0, 0.0, 0.0, 0.0, ...</td>\n",
              "      <td>[0.5044359084718961, -0.21070395103529221, 0.0...</td>\n",
              "      <td>[0.0, 0.0, 0.0, 0.0, 0.0, 0.0, 0.0]</td>\n",
              "    </tr>\n",
              "  </tbody>\n",
              "</table>\n",
              "</div>"
            ],
            "text/plain": [
              "      id  ...                                           adjs_sim\n",
              "0  14530  ...                [0.0, 0.0, 0.0, 0.0, 0.0, 0.0, 0.0]\n",
              "1  13034  ...  [0.40724693969357967, -0.2807789847763731, -0....\n",
              "2   8731  ...                [0.0, 0.0, 0.0, 0.0, 0.0, 0.0, 0.0]\n",
              "3     76  ...  [0.5772985393982327, -0.27067907002881947, -0....\n",
              "4   6164  ...                [0.0, 0.0, 0.0, 0.0, 0.0, 0.0, 0.0]\n",
              "\n",
              "[5 rows x 10 columns]"
            ]
          },
          "metadata": {
            "tags": []
          },
          "execution_count": 89
        }
      ]
    },
    {
      "cell_type": "code",
      "metadata": {
        "colab": {
          "base_uri": "https://localhost:8080/",
          "height": 581
        },
        "id": "JqfDQiNsVQw8",
        "outputId": "26a00001-aa7a-4ef9-afef-5ed9bb4970f1"
      },
      "source": [
        "df['label'] = df['edit'].apply(get_label)\n",
        "df.head()"
      ],
      "execution_count": null,
      "outputs": [
        {
          "output_type": "execute_result",
          "data": {
            "text/html": [
              "<div>\n",
              "<style scoped>\n",
              "    .dataframe tbody tr th:only-of-type {\n",
              "        vertical-align: middle;\n",
              "    }\n",
              "\n",
              "    .dataframe tbody tr th {\n",
              "        vertical-align: top;\n",
              "    }\n",
              "\n",
              "    .dataframe thead th {\n",
              "        text-align: right;\n",
              "    }\n",
              "</style>\n",
              "<table border=\"1\" class=\"dataframe\">\n",
              "  <thead>\n",
              "    <tr style=\"text-align: right;\">\n",
              "      <th></th>\n",
              "      <th>id</th>\n",
              "      <th>edit</th>\n",
              "      <th>grades</th>\n",
              "      <th>meanGrade</th>\n",
              "      <th>ori_word</th>\n",
              "      <th>entities</th>\n",
              "      <th>vocabularies</th>\n",
              "      <th>adjs</th>\n",
              "      <th>entities_sim</th>\n",
              "      <th>adjs_sim</th>\n",
              "      <th>label</th>\n",
              "    </tr>\n",
              "  </thead>\n",
              "  <tbody>\n",
              "    <tr>\n",
              "      <th>0</th>\n",
              "      <td>14530</td>\n",
              "      <td>[0.11861, 0.63912, -0.643, 0.27125, 0.041054, ...</td>\n",
              "      <td>10000</td>\n",
              "      <td>0.2</td>\n",
              "      <td>[0.32328, -0.18626, -0.36277, -0.2135, 0.54738...</td>\n",
              "      <td>[[-0.055966, 0.33098, -0.48706, -0.63245, 0.07...</td>\n",
              "      <td>[-0.123039864, 0.08765901, 0.07984271, -0.2401...</td>\n",
              "      <td>[0.0, 0.0, 0.0, 0.0, 0.0, 0.0, 0.0, 0.0, 0.0, ...</td>\n",
              "      <td>[0.4557642311825252, -0.3271379698522151, -0.0...</td>\n",
              "      <td>[0.0, 0.0, 0.0, 0.0, 0.0, 0.0, 0.0]</td>\n",
              "      <td>1</td>\n",
              "    </tr>\n",
              "    <tr>\n",
              "      <th>1</th>\n",
              "      <td>13034</td>\n",
              "      <td>[0.21417, -0.12899, 0.54156, 0.013344, 0.35649...</td>\n",
              "      <td>33110</td>\n",
              "      <td>1.6</td>\n",
              "      <td>[0.49246, -0.40682, 0.25794, -0.27576, 0.17599...</td>\n",
              "      <td>[[-0.34248, 0.22911, 0.49966, 0.6407, -0.32319...</td>\n",
              "      <td>[-0.030953001, 0.28873172, -0.036028426, 0.171...</td>\n",
              "      <td>[[0.029215, 0.10225, 0.14988, -0.20514, -0.470...</td>\n",
              "      <td>[0.47334306052214403, -0.3555459367938077, -0....</td>\n",
              "      <td>[0.40724693969357967, -0.2807789847763731, -0....</td>\n",
              "      <td>1</td>\n",
              "    </tr>\n",
              "    <tr>\n",
              "      <th>2</th>\n",
              "      <td>8731</td>\n",
              "      <td>[-0.073121, -0.2013, 0.31239, -0.22547, -0.147...</td>\n",
              "      <td>22100</td>\n",
              "      <td>1.0</td>\n",
              "      <td>[-0.20334, 0.020148, 0.69492, 0.0074181, -0.00...</td>\n",
              "      <td>[[-0.55598, 0.027967, -0.32289, -0.075042, -0....</td>\n",
              "      <td>[0.14419276, -0.07962062, -0.07726025, 0.02730...</td>\n",
              "      <td>[0.0, 0.0, 0.0, 0.0, 0.0, 0.0, 0.0, 0.0, 0.0, ...</td>\n",
              "      <td>[0.33369920410868104, -0.10853172872440946, 0....</td>\n",
              "      <td>[0.0, 0.0, 0.0, 0.0, 0.0, 0.0, 0.0]</td>\n",
              "      <td>1</td>\n",
              "    </tr>\n",
              "    <tr>\n",
              "      <th>3</th>\n",
              "      <td>76</td>\n",
              "      <td>[0.20881, 0.13581, -0.34811, 0.10243, -0.44111...</td>\n",
              "      <td>20000</td>\n",
              "      <td>0.4</td>\n",
              "      <td>[0.070169, 0.40179, -0.11105, -0.61456, 0.2524...</td>\n",
              "      <td>[[0.21257, -0.51255, 0.097078, 0.18691, -0.177...</td>\n",
              "      <td>[0.298504, 0.120728, 0.1639076, -0.323734, 0.0...</td>\n",
              "      <td>[[0.46376, 0.2722, 0.39632, -0.47637, -0.43986...</td>\n",
              "      <td>[0.4353441928085451, -0.2997730771442755, -0.1...</td>\n",
              "      <td>[0.5772985393982327, -0.27067907002881947, -0....</td>\n",
              "      <td>5</td>\n",
              "    </tr>\n",
              "    <tr>\n",
              "      <th>4</th>\n",
              "      <td>6164</td>\n",
              "      <td>[-0.64161, 0.06824, 0.051487, 0.064869, 0.2172...</td>\n",
              "      <td>0</td>\n",
              "      <td>0.0</td>\n",
              "      <td>[0.43693, 0.085203, 0.010649, -0.24189, 0.0404...</td>\n",
              "      <td>[[-0.55598, 0.027967, -0.32289, -0.075042, -0....</td>\n",
              "      <td>[0.006150999, 0.06871863, -0.1344733, 0.213557...</td>\n",
              "      <td>[0.0, 0.0, 0.0, 0.0, 0.0, 0.0, 0.0, 0.0, 0.0, ...</td>\n",
              "      <td>[0.5044359084718961, -0.21070395103529221, 0.0...</td>\n",
              "      <td>[0.0, 0.0, 0.0, 0.0, 0.0, 0.0, 0.0]</td>\n",
              "      <td>1</td>\n",
              "    </tr>\n",
              "  </tbody>\n",
              "</table>\n",
              "</div>"
            ],
            "text/plain": [
              "      id  ... label\n",
              "0  14530  ...     1\n",
              "1  13034  ...     1\n",
              "2   8731  ...     1\n",
              "3     76  ...     5\n",
              "4   6164  ...     1\n",
              "\n",
              "[5 rows x 11 columns]"
            ]
          },
          "metadata": {
            "tags": []
          },
          "execution_count": 90
        }
      ]
    },
    {
      "cell_type": "code",
      "metadata": {
        "id": "R4NnB1aUQbfy"
      },
      "source": [
        "funny_df = df[df['meanGrade'] > 1.5]\n",
        "Not_funny_df = df[df['meanGrade'] > 1]"
      ],
      "execution_count": null,
      "outputs": []
    },
    {
      "cell_type": "code",
      "metadata": {
        "colab": {
          "base_uri": "https://localhost:8080/",
          "height": 204
        },
        "id": "Cqb0xoYm3Aqi",
        "outputId": "1089bf12-e0c6-4380-fa93-6308d4f1523a"
      },
      "source": [
        "Not_funny_df_vab = Not_funny_df[['vocabularies']][:100]\n",
        "Not_funny_df_vab.head()"
      ],
      "execution_count": null,
      "outputs": [
        {
          "output_type": "execute_result",
          "data": {
            "text/html": [
              "<div>\n",
              "<style scoped>\n",
              "    .dataframe tbody tr th:only-of-type {\n",
              "        vertical-align: middle;\n",
              "    }\n",
              "\n",
              "    .dataframe tbody tr th {\n",
              "        vertical-align: top;\n",
              "    }\n",
              "\n",
              "    .dataframe thead th {\n",
              "        text-align: right;\n",
              "    }\n",
              "</style>\n",
              "<table border=\"1\" class=\"dataframe\">\n",
              "  <thead>\n",
              "    <tr style=\"text-align: right;\">\n",
              "      <th></th>\n",
              "      <th>vocabularies</th>\n",
              "    </tr>\n",
              "  </thead>\n",
              "  <tbody>\n",
              "    <tr>\n",
              "      <th>1</th>\n",
              "      <td>[-0.030953001, 0.28873172, -0.036028426, 0.171...</td>\n",
              "    </tr>\n",
              "    <tr>\n",
              "      <th>5</th>\n",
              "      <td>[-0.058314834, 0.007235167, -0.10722498, 0.191...</td>\n",
              "    </tr>\n",
              "    <tr>\n",
              "      <th>6</th>\n",
              "      <td>[-0.1539685, -0.19218601, -0.028522665, -0.080...</td>\n",
              "    </tr>\n",
              "    <tr>\n",
              "      <th>13</th>\n",
              "      <td>[-0.14930867, 0.17453599, 0.03545333, -0.01981...</td>\n",
              "    </tr>\n",
              "    <tr>\n",
              "      <th>17</th>\n",
              "      <td>[-0.008785009, 0.01604, -0.19752249, -0.173754...</td>\n",
              "    </tr>\n",
              "  </tbody>\n",
              "</table>\n",
              "</div>"
            ],
            "text/plain": [
              "                                         vocabularies\n",
              "1   [-0.030953001, 0.28873172, -0.036028426, 0.171...\n",
              "5   [-0.058314834, 0.007235167, -0.10722498, 0.191...\n",
              "6   [-0.1539685, -0.19218601, -0.028522665, -0.080...\n",
              "13  [-0.14930867, 0.17453599, 0.03545333, -0.01981...\n",
              "17  [-0.008785009, 0.01604, -0.19752249, -0.173754..."
            ]
          },
          "metadata": {
            "tags": []
          },
          "execution_count": 114
        }
      ]
    },
    {
      "cell_type": "code",
      "metadata": {
        "id": "fZ2--_WsyyCV"
      },
      "source": [
        "def getNpdata(df):\n",
        "  data = df['ori_word'].values.tolist()\n",
        "  d1 = np.array([x.tolist() for x in data])\n",
        "  data = df['vocabularies'].values.tolist()\n",
        "  d2 = np.array([x.tolist() for x in data])\n",
        "  data = df['entities_sim'].values.tolist()\n",
        "  d3 = np.array([x.tolist() for x in data])\n",
        "  data = df['adjs_sim'].values.tolist()\n",
        "  d4 = np.array([x.tolist() for x in data])\n",
        "  all_data_1 = np.append(d1,d2,axis=1)\n",
        "  all_data_2 = np.append(d3,d4,axis=1)\n",
        "  all_data = np.append(all_data_1,all_data_2,axis=1)\n",
        "  return all_data"
      ],
      "execution_count": null,
      "outputs": []
    },
    {
      "cell_type": "code",
      "metadata": {
        "id": "uF5h7QZStJro"
      },
      "source": [
        "funny_data = getNpdata(funny_df)\n",
        "not_funny_data = getNpdata(Not_funny_df)"
      ],
      "execution_count": null,
      "outputs": []
    },
    {
      "cell_type": "code",
      "metadata": {
        "id": "u5vnvdCasOlk"
      },
      "source": [
        "data = df['ori_word'].values.tolist()\n",
        "d1 = np.array([x.tolist() for x in data])\n",
        "data = df['vocabularies'].values.tolist()\n",
        "d2 = np.array([x.tolist() for x in data])\n",
        "data = df['entities_sim'].values.tolist()\n",
        "d3 = np.array([x.tolist() for x in data])\n",
        "data = df['adjs_sim'].values.tolist()\n",
        "d4 = np.array([x.tolist() for x in data])"
      ],
      "execution_count": null,
      "outputs": []
    },
    {
      "cell_type": "code",
      "metadata": {
        "colab": {
          "base_uri": "https://localhost:8080/"
        },
        "id": "AJisuge8s9je",
        "outputId": "b5a37ded-a081-44eb-a5f4-31f4599d55ff"
      },
      "source": [
        "all_data_1 = np.append(d1,d2,axis=1)\n",
        "all_data_2 = np.append(d3,d4,axis=1)\n",
        "all_data = np.append(all_data_1,all_data_2,axis=1)\n",
        "all_data.shape"
      ],
      "execution_count": null,
      "outputs": [
        {
          "output_type": "execute_result",
          "data": {
            "text/plain": [
              "(1708, 614)"
            ]
          },
          "metadata": {
            "tags": []
          },
          "execution_count": 54
        }
      ]
    },
    {
      "cell_type": "code",
      "metadata": {
        "colab": {
          "base_uri": "https://localhost:8080/"
        },
        "id": "-XVbKTU1Q1bn",
        "outputId": "d89a3bc9-f9e8-4a95-c943-f2a51f5e3677"
      },
      "source": [
        "label = df['label'].values.tolist()\n",
        "label[0]"
      ],
      "execution_count": null,
      "outputs": [
        {
          "output_type": "execute_result",
          "data": {
            "text/plain": [
              "1"
            ]
          },
          "metadata": {
            "tags": []
          },
          "execution_count": 55
        }
      ]
    },
    {
      "cell_type": "code",
      "metadata": {
        "id": "sacwFBslTGck"
      },
      "source": [
        "label = funny_df['label'].values.tolist()\n",
        "label_np = np.array(label)"
      ],
      "execution_count": null,
      "outputs": []
    },
    {
      "cell_type": "code",
      "metadata": {
        "id": "f_jNnB-oTIZ2"
      },
      "source": [
        "label_np = label_np.reshape(1708,1)"
      ],
      "execution_count": null,
      "outputs": []
    },
    {
      "cell_type": "code",
      "metadata": {
        "colab": {
          "base_uri": "https://localhost:8080/"
        },
        "id": "DE9NvL4tQZqT",
        "outputId": "cd0ff951-eba5-4caf-eaf6-b8a656a3b7fb"
      },
      "source": [
        "all_data_with_lable = np.append(funny_data, label_np ,axis=1)\n",
        "all_data_with_lable.shape"
      ],
      "execution_count": null,
      "outputs": [
        {
          "output_type": "execute_result",
          "data": {
            "text/plain": [
              "(1708, 615)"
            ]
          },
          "metadata": {
            "tags": []
          },
          "execution_count": 96
        }
      ]
    },
    {
      "cell_type": "code",
      "metadata": {
        "id": "SZABmBOWtf7S"
      },
      "source": [
        "np.save(\"ALL_trian_data.npy\",all_data_with_lable)"
      ],
      "execution_count": null,
      "outputs": []
    },
    {
      "cell_type": "code",
      "metadata": {
        "id": "z9MVIlssoWmr"
      },
      "source": [
        "def reshape_300(vec):\n",
        "  data\n",
        "  for i in range(data.shape[0]):\n",
        "    data[i] = data[i].reshape(1,300)\n",
        "  return data"
      ],
      "execution_count": null,
      "outputs": []
    },
    {
      "cell_type": "code",
      "metadata": {
        "colab": {
          "base_uri": "https://localhost:8080/"
        },
        "id": "E06028viqHKi",
        "outputId": "bb1b62e1-b180-49ff-b0df-3e1dc634e9e5"
      },
      "source": [
        "data_ori = reshape_300(df['ori_word'])\n",
        "data_vab = reshape_300(df['vocabularies'])"
      ],
      "execution_count": null,
      "outputs": [
        {
          "output_type": "stream",
          "text": [
            "/usr/local/lib/python3.6/dist-packages/ipykernel_launcher.py:4: SettingWithCopyWarning: \n",
            "A value is trying to be set on a copy of a slice from a DataFrame\n",
            "\n",
            "See the caveats in the documentation: https://pandas.pydata.org/pandas-docs/stable/user_guide/indexing.html#returning-a-view-versus-a-copy\n",
            "  after removing the cwd from sys.path.\n"
          ],
          "name": "stderr"
        }
      ]
    },
    {
      "cell_type": "code",
      "metadata": {
        "id": "rc_nCURHqykM"
      },
      "source": [
        "def reshape_7(vec):\n",
        "  data = vec\n",
        "  for i in range(data.shape[0]):\n",
        "    data[i] = data[i].reshape(1,7)\n",
        "  return data"
      ],
      "execution_count": null,
      "outputs": []
    },
    {
      "cell_type": "code",
      "metadata": {
        "colab": {
          "base_uri": "https://localhost:8080/"
        },
        "id": "HZES3qlurVPn",
        "outputId": "a35571f1-cc96-487d-e5f2-5888af924ef6"
      },
      "source": [
        "data_ori = reshape_7(df['adjs_sim'])\n",
        "data_vab = reshape_7(df['entities_sim'])"
      ],
      "execution_count": null,
      "outputs": [
        {
          "output_type": "stream",
          "text": [
            "/usr/local/lib/python3.6/dist-packages/ipykernel_launcher.py:4: SettingWithCopyWarning: \n",
            "A value is trying to be set on a copy of a slice from a DataFrame\n",
            "\n",
            "See the caveats in the documentation: https://pandas.pydata.org/pandas-docs/stable/user_guide/indexing.html#returning-a-view-versus-a-copy\n",
            "  after removing the cwd from sys.path.\n"
          ],
          "name": "stderr"
        }
      ]
    },
    {
      "cell_type": "code",
      "metadata": {
        "id": "XlUjaOfqWNYn"
      },
      "source": [
        "df.to_csv(\"generate_humor_train_data.csv\")"
      ],
      "execution_count": null,
      "outputs": []
    },
    {
      "cell_type": "code",
      "metadata": {
        "colab": {
          "base_uri": "https://localhost:8080/",
          "height": 408
        },
        "id": "_P8C5pBEJbnx",
        "outputId": "1c02a8fa-4316-4e8d-80a3-5f2b40b093b5"
      },
      "source": [
        "train_df = df[df['meanGrade'] > 1.5]\n",
        "train_df.head()"
      ],
      "execution_count": null,
      "outputs": [
        {
          "output_type": "execute_result",
          "data": {
            "text/html": [
              "<div>\n",
              "<style scoped>\n",
              "    .dataframe tbody tr th:only-of-type {\n",
              "        vertical-align: middle;\n",
              "    }\n",
              "\n",
              "    .dataframe tbody tr th {\n",
              "        vertical-align: top;\n",
              "    }\n",
              "\n",
              "    .dataframe thead th {\n",
              "        text-align: right;\n",
              "    }\n",
              "</style>\n",
              "<table border=\"1\" class=\"dataframe\">\n",
              "  <thead>\n",
              "    <tr style=\"text-align: right;\">\n",
              "      <th></th>\n",
              "      <th>id</th>\n",
              "      <th>edit</th>\n",
              "      <th>grades</th>\n",
              "      <th>meanGrade</th>\n",
              "      <th>ori_word</th>\n",
              "      <th>entities</th>\n",
              "      <th>vocabularies</th>\n",
              "      <th>adjs</th>\n",
              "    </tr>\n",
              "  </thead>\n",
              "  <tbody>\n",
              "    <tr>\n",
              "      <th>1</th>\n",
              "      <td>13034</td>\n",
              "      <td>[0.21417, -0.12899, 0.54156, 0.013344, 0.35649...</td>\n",
              "      <td>33110</td>\n",
              "      <td>1.6</td>\n",
              "      <td>[0.49246, -0.40682, 0.25794, -0.27576, 0.17599...</td>\n",
              "      <td>[[-0.045708, -0.0040809, -0.17185, 0.15738, -0...</td>\n",
              "      <td>[-0.030953001, 0.28873172, -0.036028426, 0.171...</td>\n",
              "      <td>[[0.029215, 0.10225, 0.14988, -0.20514, -0.470...</td>\n",
              "    </tr>\n",
              "    <tr>\n",
              "      <th>17</th>\n",
              "      <td>2357</td>\n",
              "      <td>[0.0, 0.0, 0.0, 0.0, 0.0, 0.0, 0.0, 0.0, 0.0, ...</td>\n",
              "      <td>22211</td>\n",
              "      <td>1.6</td>\n",
              "      <td>[-0.19841, 0.35988, 0.37213, -0.16197, -0.6032...</td>\n",
              "      <td>[0.0, 0.0, 0.0, 0.0, 0.0, 0.0, 0.0, 0.0, 0.0, ...</td>\n",
              "      <td>[-0.008785009, 0.01604, -0.19752249, -0.173754...</td>\n",
              "      <td>[[-0.22351, -0.010812, -0.11714, 0.091744, 0.2...</td>\n",
              "    </tr>\n",
              "    <tr>\n",
              "      <th>20</th>\n",
              "      <td>8552</td>\n",
              "      <td>[-0.30531, -0.20623, 0.13682, -0.22309, -0.048...</td>\n",
              "      <td>22211</td>\n",
              "      <td>1.6</td>\n",
              "      <td>[-0.12675, 0.097588, 0.024441, 0.58839, 0.1570...</td>\n",
              "      <td>[[-0.55598, 0.027967, -0.32289, -0.075042, -0....</td>\n",
              "      <td>[-0.008440878, -0.13703513, -0.274488, 0.05146...</td>\n",
              "      <td>[[0.075965, -0.293, -0.31477, 0.1302, -0.1299,...</td>\n",
              "    </tr>\n",
              "    <tr>\n",
              "      <th>47</th>\n",
              "      <td>11614</td>\n",
              "      <td>[0.062218, -0.042259, 0.030933, 0.13953, -0.58...</td>\n",
              "      <td>33200</td>\n",
              "      <td>1.6</td>\n",
              "      <td>[0.15883, -0.087638, 0.092703, -0.42416, -0.21...</td>\n",
              "      <td>[[-0.55598, 0.027967, -0.32289, -0.075042, -0....</td>\n",
              "      <td>[-0.185929, -0.20650749, 0.129554, -0.167867, ...</td>\n",
              "      <td>[0.0, 0.0, 0.0, 0.0, 0.0, 0.0, 0.0, 0.0, 0.0, ...</td>\n",
              "    </tr>\n",
              "    <tr>\n",
              "      <th>52</th>\n",
              "      <td>13131</td>\n",
              "      <td>[-0.36122, 0.31083, 0.16319, 0.217, -0.18337, ...</td>\n",
              "      <td>33111</td>\n",
              "      <td>1.8</td>\n",
              "      <td>[0.46825, -0.55791, -0.21694, 0.36852, 0.30092...</td>\n",
              "      <td>[[0.13399, 0.95343, -0.021405, -0.44056, -0.31...</td>\n",
              "      <td>[0.1618298, 0.053095, 0.016567597, 0.10044254,...</td>\n",
              "      <td>[[0.080575, -0.15005, 0.014668, 0.49301, 0.182...</td>\n",
              "    </tr>\n",
              "  </tbody>\n",
              "</table>\n",
              "</div>"
            ],
            "text/plain": [
              "       id  ...                                               adjs\n",
              "1   13034  ...  [[0.029215, 0.10225, 0.14988, -0.20514, -0.470...\n",
              "17   2357  ...  [[-0.22351, -0.010812, -0.11714, 0.091744, 0.2...\n",
              "20   8552  ...  [[0.075965, -0.293, -0.31477, 0.1302, -0.1299,...\n",
              "47  11614  ...  [0.0, 0.0, 0.0, 0.0, 0.0, 0.0, 0.0, 0.0, 0.0, ...\n",
              "52  13131  ...  [[0.080575, -0.15005, 0.014668, 0.49301, 0.182...\n",
              "\n",
              "[5 rows x 8 columns]"
            ]
          },
          "metadata": {
            "tags": []
          },
          "execution_count": 107
        }
      ]
    },
    {
      "cell_type": "code",
      "metadata": {
        "colab": {
          "base_uri": "https://localhost:8080/",
          "height": 224
        },
        "id": "LHlMvCC1W1_M",
        "outputId": "90df8191-c651-40fb-ecfc-cf77311528f4"
      },
      "source": [
        "humor_dic_df = pd.read_csv(\"/content/humor_dataset.csv\")\n",
        "humor_dic_df.head()"
      ],
      "execution_count": null,
      "outputs": [
        {
          "output_type": "execute_result",
          "data": {
            "text/html": [
              "<div>\n",
              "<style scoped>\n",
              "    .dataframe tbody tr th:only-of-type {\n",
              "        vertical-align: middle;\n",
              "    }\n",
              "\n",
              "    .dataframe tbody tr th {\n",
              "        vertical-align: top;\n",
              "    }\n",
              "\n",
              "    .dataframe thead th {\n",
              "        text-align: right;\n",
              "    }\n",
              "</style>\n",
              "<table border=\"1\" class=\"dataframe\">\n",
              "  <thead>\n",
              "    <tr style=\"text-align: right;\">\n",
              "      <th></th>\n",
              "      <th>word</th>\n",
              "      <th>mean</th>\n",
              "      <th>sd</th>\n",
              "      <th>n</th>\n",
              "      <th>mean_M</th>\n",
              "      <th>sd_M</th>\n",
              "      <th>n_M</th>\n",
              "      <th>mean_F</th>\n",
              "      <th>sd_F</th>\n",
              "      <th>n_F</th>\n",
              "      <th>mean_young</th>\n",
              "      <th>sd_young</th>\n",
              "      <th>n_young</th>\n",
              "      <th>mean_old</th>\n",
              "      <th>sd_old</th>\n",
              "      <th>n_old</th>\n",
              "    </tr>\n",
              "  </thead>\n",
              "  <tbody>\n",
              "    <tr>\n",
              "      <th>0</th>\n",
              "      <td>abbey</td>\n",
              "      <td>2.292683</td>\n",
              "      <td>1.145511</td>\n",
              "      <td>41</td>\n",
              "      <td>2.176471</td>\n",
              "      <td>1.380004</td>\n",
              "      <td>17</td>\n",
              "      <td>2.347826</td>\n",
              "      <td>0.982052</td>\n",
              "      <td>23</td>\n",
              "      <td>2.391304</td>\n",
              "      <td>1.196173</td>\n",
              "      <td>23</td>\n",
              "      <td>2.166667</td>\n",
              "      <td>1.098127</td>\n",
              "      <td>18</td>\n",
              "    </tr>\n",
              "    <tr>\n",
              "      <th>1</th>\n",
              "      <td>abode</td>\n",
              "      <td>2.413793</td>\n",
              "      <td>1.118585</td>\n",
              "      <td>29</td>\n",
              "      <td>2.100000</td>\n",
              "      <td>0.994429</td>\n",
              "      <td>10</td>\n",
              "      <td>2.578947</td>\n",
              "      <td>1.169795</td>\n",
              "      <td>19</td>\n",
              "      <td>2.692308</td>\n",
              "      <td>1.182132</td>\n",
              "      <td>13</td>\n",
              "      <td>2.187500</td>\n",
              "      <td>1.046821</td>\n",
              "      <td>16</td>\n",
              "    </tr>\n",
              "    <tr>\n",
              "      <th>2</th>\n",
              "      <td>abscess</td>\n",
              "      <td>1.593750</td>\n",
              "      <td>1.042929</td>\n",
              "      <td>32</td>\n",
              "      <td>1.625000</td>\n",
              "      <td>1.187735</td>\n",
              "      <td>8</td>\n",
              "      <td>1.583333</td>\n",
              "      <td>1.017955</td>\n",
              "      <td>24</td>\n",
              "      <td>1.555556</td>\n",
              "      <td>1.041618</td>\n",
              "      <td>18</td>\n",
              "      <td>1.642857</td>\n",
              "      <td>1.081818</td>\n",
              "      <td>14</td>\n",
              "    </tr>\n",
              "    <tr>\n",
              "      <th>3</th>\n",
              "      <td>absence</td>\n",
              "      <td>1.640000</td>\n",
              "      <td>0.952190</td>\n",
              "      <td>25</td>\n",
              "      <td>1.615385</td>\n",
              "      <td>0.960769</td>\n",
              "      <td>13</td>\n",
              "      <td>1.666667</td>\n",
              "      <td>0.984732</td>\n",
              "      <td>12</td>\n",
              "      <td>1.571429</td>\n",
              "      <td>0.851631</td>\n",
              "      <td>14</td>\n",
              "      <td>1.727273</td>\n",
              "      <td>1.103713</td>\n",
              "      <td>11</td>\n",
              "    </tr>\n",
              "    <tr>\n",
              "      <th>4</th>\n",
              "      <td>abstract</td>\n",
              "      <td>2.411765</td>\n",
              "      <td>1.281988</td>\n",
              "      <td>34</td>\n",
              "      <td>1.933333</td>\n",
              "      <td>1.032796</td>\n",
              "      <td>15</td>\n",
              "      <td>2.789474</td>\n",
              "      <td>1.357242</td>\n",
              "      <td>19</td>\n",
              "      <td>2.421053</td>\n",
              "      <td>1.121298</td>\n",
              "      <td>19</td>\n",
              "      <td>2.400000</td>\n",
              "      <td>1.502379</td>\n",
              "      <td>15</td>\n",
              "    </tr>\n",
              "  </tbody>\n",
              "</table>\n",
              "</div>"
            ],
            "text/plain": [
              "       word      mean        sd   n  ...  n_young  mean_old    sd_old  n_old\n",
              "0     abbey  2.292683  1.145511  41  ...       23  2.166667  1.098127     18\n",
              "1     abode  2.413793  1.118585  29  ...       13  2.187500  1.046821     16\n",
              "2   abscess  1.593750  1.042929  32  ...       18  1.642857  1.081818     14\n",
              "3   absence  1.640000  0.952190  25  ...       14  1.727273  1.103713     11\n",
              "4  abstract  2.411765  1.281988  34  ...       19  2.400000  1.502379     15\n",
              "\n",
              "[5 rows x 16 columns]"
            ]
          },
          "metadata": {
            "tags": []
          },
          "execution_count": 75
        }
      ]
    },
    {
      "cell_type": "code",
      "metadata": {
        "colab": {
          "base_uri": "https://localhost:8080/",
          "height": 204
        },
        "id": "DDGRdZIMXTny",
        "outputId": "fd0901a5-410d-4807-c1d4-0eb56330a7cf"
      },
      "source": [
        "humor_dic_df['vector'] = humor_dic_df['word'].apply(lambda x: embeddings.get(x))\n",
        "humor_dic_df.drop(['sd','n','mean_M','sd_M','n_M','mean_F','sd_F','n_F','mean_young','sd_young','n_young','mean_old',\\\n",
        "'sd_old','n_old'],axis=1,inplace=True)\n",
        "humor_dic_df.head()"
      ],
      "execution_count": null,
      "outputs": [
        {
          "output_type": "execute_result",
          "data": {
            "text/html": [
              "<div>\n",
              "<style scoped>\n",
              "    .dataframe tbody tr th:only-of-type {\n",
              "        vertical-align: middle;\n",
              "    }\n",
              "\n",
              "    .dataframe tbody tr th {\n",
              "        vertical-align: top;\n",
              "    }\n",
              "\n",
              "    .dataframe thead th {\n",
              "        text-align: right;\n",
              "    }\n",
              "</style>\n",
              "<table border=\"1\" class=\"dataframe\">\n",
              "  <thead>\n",
              "    <tr style=\"text-align: right;\">\n",
              "      <th></th>\n",
              "      <th>word</th>\n",
              "      <th>mean</th>\n",
              "      <th>vector</th>\n",
              "    </tr>\n",
              "  </thead>\n",
              "  <tbody>\n",
              "    <tr>\n",
              "      <th>0</th>\n",
              "      <td>abbey</td>\n",
              "      <td>2.292683</td>\n",
              "      <td>[0.15705, 0.18207, -0.27124, 0.15846, 0.482, -...</td>\n",
              "    </tr>\n",
              "    <tr>\n",
              "      <th>1</th>\n",
              "      <td>abode</td>\n",
              "      <td>2.413793</td>\n",
              "      <td>[0.14438, -0.62815, 0.059843, 0.29825, 0.19338...</td>\n",
              "    </tr>\n",
              "    <tr>\n",
              "      <th>2</th>\n",
              "      <td>abscess</td>\n",
              "      <td>1.593750</td>\n",
              "      <td>[-0.60272, -0.13241, -0.63239, -0.35504, 0.715...</td>\n",
              "    </tr>\n",
              "    <tr>\n",
              "      <th>3</th>\n",
              "      <td>absence</td>\n",
              "      <td>1.640000</td>\n",
              "      <td>[0.035415, -0.063948, 0.0024058, -0.34112, 0.1...</td>\n",
              "    </tr>\n",
              "    <tr>\n",
              "      <th>4</th>\n",
              "      <td>abstract</td>\n",
              "      <td>2.411765</td>\n",
              "      <td>[-0.30829, 0.10864, -0.094104, 0.010129, 0.012...</td>\n",
              "    </tr>\n",
              "  </tbody>\n",
              "</table>\n",
              "</div>"
            ],
            "text/plain": [
              "       word      mean                                             vector\n",
              "0     abbey  2.292683  [0.15705, 0.18207, -0.27124, 0.15846, 0.482, -...\n",
              "1     abode  2.413793  [0.14438, -0.62815, 0.059843, 0.29825, 0.19338...\n",
              "2   abscess  1.593750  [-0.60272, -0.13241, -0.63239, -0.35504, 0.715...\n",
              "3   absence  1.640000  [0.035415, -0.063948, 0.0024058, -0.34112, 0.1...\n",
              "4  abstract  2.411765  [-0.30829, 0.10864, -0.094104, 0.010129, 0.012..."
            ]
          },
          "metadata": {
            "tags": []
          },
          "execution_count": 76
        }
      ]
    },
    {
      "cell_type": "code",
      "metadata": {
        "id": "KrKbcsSXh0NX"
      },
      "source": [
        "# traindata = []\n",
        "humor_dic_df.drop(index=[2548,2976,3284],inplace=True)\n",
        "# for index, row in humor_dic_df.iterrows():\n",
        "#   # if row['vector'] is None:\n",
        "#   #   print(row['word'], index)\n",
        "#   # else:\n",
        "#   traindata.append(row['vector'].tolist())\n",
        "# traindata = np.array(traindata)"
      ],
      "execution_count": null,
      "outputs": []
    },
    {
      "cell_type": "code",
      "metadata": {
        "id": "Sjn8x8ezpFh7"
      },
      "source": [
        "from sklearn.cluster import KMeans\n",
        "clf = KMeans(n_clusters=7)\n",
        "s = clf.fit(traindata)\n",
        "\n",
        "#每个样本所属的簇\n",
        "humor_dic_df['label'] = clf.labels_\n"
      ],
      "execution_count": null,
      "outputs": []
    },
    {
      "cell_type": "code",
      "metadata": {
        "id": "HU8ricBEB08J"
      },
      "source": [
        "clusters = clf.cluster_centers_"
      ],
      "execution_count": null,
      "outputs": []
    },
    {
      "cell_type": "code",
      "metadata": {
        "id": "WjMLHKPxaW1M"
      },
      "source": [
        "np.save(\"clusters.npy\",clusters)"
      ],
      "execution_count": null,
      "outputs": []
    },
    {
      "cell_type": "code",
      "metadata": {
        "id": "aDKUyXtju0oI"
      },
      "source": [
        "humor_dic_df.to_csv('humor_dic.csv')"
      ],
      "execution_count": null,
      "outputs": []
    },
    {
      "cell_type": "code",
      "metadata": {
        "id": "y2gYy-faseoz"
      },
      "source": [
        "all_data_with_lable = np.load('/content/drive/MyDrive/project_zzy/ALL_trian_data.npy')"
      ],
      "execution_count": null,
      "outputs": []
    },
    {
      "cell_type": "code",
      "metadata": {
        "id": "Cgo2hQvZLyQG"
      },
      "source": [
        "X_train = all_data_with_lable[:,:-1]\n",
        "y_train = all_data_with_lable[:,-1]"
      ],
      "execution_count": null,
      "outputs": []
    },
    {
      "cell_type": "code",
      "metadata": {
        "colab": {
          "base_uri": "https://localhost:8080/"
        },
        "id": "6asZ3sQUNywn",
        "outputId": "9625784b-8903-41e3-e6d3-135dd67103ae"
      },
      "source": [
        "y_train.shape"
      ],
      "execution_count": null,
      "outputs": [
        {
          "output_type": "execute_result",
          "data": {
            "text/plain": [
              "(1708,)"
            ]
          },
          "metadata": {
            "tags": []
          },
          "execution_count": 63
        }
      ]
    },
    {
      "cell_type": "code",
      "metadata": {
        "id": "C9xESal3T0qX"
      },
      "source": [
        "from sklearn.model_selection import train_test_split"
      ],
      "execution_count": null,
      "outputs": []
    },
    {
      "cell_type": "code",
      "metadata": {
        "id": "gKKaEJyChoRh"
      },
      "source": [
        "X_train, X_test, y_train, y_test = train_test_split(X_train,y_train,test_size=0.1)"
      ],
      "execution_count": null,
      "outputs": []
    },
    {
      "cell_type": "code",
      "metadata": {
        "colab": {
          "base_uri": "https://localhost:8080/"
        },
        "id": "1KZhgfJ_Vmdl",
        "outputId": "9a4e33c1-45ac-4097-82da-9b9278b9dcce"
      },
      "source": [
        "y_train"
      ],
      "execution_count": null,
      "outputs": [
        {
          "output_type": "execute_result",
          "data": {
            "text/plain": [
              "array([0., 1., 0., ..., 1., 5., 0.])"
            ]
          },
          "metadata": {
            "tags": []
          },
          "execution_count": 99
        }
      ]
    },
    {
      "cell_type": "code",
      "metadata": {
        "id": "xhNdas8zVLu8"
      },
      "source": [
        "import xgboost as xgb"
      ],
      "execution_count": null,
      "outputs": []
    },
    {
      "cell_type": "code",
      "metadata": {
        "colab": {
          "base_uri": "https://localhost:8080/"
        },
        "id": "sJQrfjakTwE4",
        "outputId": "1afbbba4-73fd-4e56-b73b-dea7739f5b3d"
      },
      "source": [
        "xgb_pars = {'learning_rate': 0.2,\n",
        "          'max_depth': 5,\n",
        "          'num_boost_round':20,\n",
        "          'objective': 'multi:softmax',\n",
        "          'random_state': 27,\n",
        "          'silent':0,\n",
        "          'num_class':7}\n",
        "\n",
        "d_train = xgb.DMatrix(X_train, label=y_train)\n",
        "d_val = xgb.DMatrix(X_test, label=y_test)\n",
        "d_test = xgb.DMatrix(X_test)\n",
        "watchlist = [(d_train, 'train'), (d_val, 'valid')]\n",
        "\n",
        "bst = xgb.train(xgb_pars, d_train, 400, watchlist, early_stopping_rounds=50, verbose_eval=50)"
      ],
      "execution_count": null,
      "outputs": [
        {
          "output_type": "stream",
          "text": [
            "[0]\ttrain-merror:0.363696\tvalid-merror:0.532164\n",
            "Multiple eval metrics have been passed: 'valid-merror' will be used for early stopping.\n",
            "\n",
            "Will train until valid-merror hasn't improved in 50 rounds.\n",
            "[50]\ttrain-merror:0.076773\tvalid-merror:0.526316\n",
            "Stopping. Best iteration:\n",
            "[3]\ttrain-merror:0.299284\tvalid-merror:0.450292\n",
            "\n"
          ],
          "name": "stdout"
        }
      ]
    },
    {
      "cell_type": "code",
      "metadata": {
        "colab": {
          "base_uri": "https://localhost:8080/"
        },
        "id": "SebVuKu8VJP_",
        "outputId": "2f3b3b2a-4ef5-4da1-8101-d43ca378bcdf"
      },
      "source": [
        "ans1 = bst.predict(xgb.DMatrix(not_funny_data))\n",
        "ans1"
      ],
      "execution_count": null,
      "outputs": [
        {
          "output_type": "execute_result",
          "data": {
            "text/plain": [
              "array([1., 0., 0., ..., 0., 1., 0.], dtype=float32)"
            ]
          },
          "metadata": {
            "tags": []
          },
          "execution_count": 101
        }
      ]
    },
    {
      "cell_type": "code",
      "metadata": {
        "colab": {
          "base_uri": "https://localhost:8080/",
          "height": 204
        },
        "id": "dVJqz__fh6YT",
        "outputId": "7b93b528-8e9b-4970-a8ac-7230166b482d"
      },
      "source": [
        "humor_dic = pd.read_csv(\"/content/drive/MyDrive/project_zzy/humor_dic.csv\")\n",
        "humor_dic.head()"
      ],
      "execution_count": null,
      "outputs": [
        {
          "output_type": "execute_result",
          "data": {
            "text/html": [
              "<div>\n",
              "<style scoped>\n",
              "    .dataframe tbody tr th:only-of-type {\n",
              "        vertical-align: middle;\n",
              "    }\n",
              "\n",
              "    .dataframe tbody tr th {\n",
              "        vertical-align: top;\n",
              "    }\n",
              "\n",
              "    .dataframe thead th {\n",
              "        text-align: right;\n",
              "    }\n",
              "</style>\n",
              "<table border=\"1\" class=\"dataframe\">\n",
              "  <thead>\n",
              "    <tr style=\"text-align: right;\">\n",
              "      <th></th>\n",
              "      <th>Unnamed: 0</th>\n",
              "      <th>word</th>\n",
              "      <th>mean</th>\n",
              "      <th>vector</th>\n",
              "      <th>label</th>\n",
              "    </tr>\n",
              "  </thead>\n",
              "  <tbody>\n",
              "    <tr>\n",
              "      <th>0</th>\n",
              "      <td>0</td>\n",
              "      <td>abbey</td>\n",
              "      <td>2.292683</td>\n",
              "      <td>[ 0.15705    0.18207   -0.27124    0.15846    ...</td>\n",
              "      <td>5</td>\n",
              "    </tr>\n",
              "    <tr>\n",
              "      <th>1</th>\n",
              "      <td>1</td>\n",
              "      <td>abode</td>\n",
              "      <td>2.413793</td>\n",
              "      <td>[ 1.4438e-01 -6.2815e-01  5.9843e-02  2.9825e-...</td>\n",
              "      <td>1</td>\n",
              "    </tr>\n",
              "    <tr>\n",
              "      <th>2</th>\n",
              "      <td>2</td>\n",
              "      <td>abscess</td>\n",
              "      <td>1.593750</td>\n",
              "      <td>[-6.0272e-01 -1.3241e-01 -6.3239e-01 -3.5504e-...</td>\n",
              "      <td>4</td>\n",
              "    </tr>\n",
              "    <tr>\n",
              "      <th>3</th>\n",
              "      <td>3</td>\n",
              "      <td>absence</td>\n",
              "      <td>1.640000</td>\n",
              "      <td>[ 3.5415e-02 -6.3948e-02  2.4058e-03 -3.4112e-...</td>\n",
              "      <td>0</td>\n",
              "    </tr>\n",
              "    <tr>\n",
              "      <th>4</th>\n",
              "      <td>4</td>\n",
              "      <td>abstract</td>\n",
              "      <td>2.411765</td>\n",
              "      <td>[-3.0829e-01  1.0864e-01 -9.4104e-02  1.0129e-...</td>\n",
              "      <td>6</td>\n",
              "    </tr>\n",
              "  </tbody>\n",
              "</table>\n",
              "</div>"
            ],
            "text/plain": [
              "   Unnamed: 0  ... label\n",
              "0           0  ...     5\n",
              "1           1  ...     1\n",
              "2           2  ...     4\n",
              "3           3  ...     0\n",
              "4           4  ...     6\n",
              "\n",
              "[5 rows x 5 columns]"
            ]
          },
          "metadata": {
            "tags": []
          },
          "execution_count": 72
        }
      ]
    },
    {
      "cell_type": "code",
      "metadata": {
        "id": "gCe5x-B4ikCA"
      },
      "source": [
        "humor_dic_df['label'] = humor_dic['label']"
      ],
      "execution_count": null,
      "outputs": []
    },
    {
      "cell_type": "code",
      "metadata": {
        "id": "IrObGJf4aDGK"
      },
      "source": [
        "def findMostSimWord(label,index,df = df,dic = humor_dic_df):\n",
        "  vec = df['ori_word'][index]\n",
        "  max = -99999999\n",
        "  word = \"\"\n",
        "  for index,row in dic.iterrows():\n",
        "    if row.label == label:\n",
        "      if row.vector is not None:\n",
        "        temp = cal_cos_sim(vec,row.vector)\n",
        "      if temp > max:\n",
        "        max = temp\n",
        "        word = row.word\n",
        "  return word"
      ],
      "execution_count": null,
      "outputs": []
    },
    {
      "cell_type": "code",
      "metadata": {
        "id": "XymNdNRTmaI6"
      },
      "source": [
        "def findMostNotSimWord(label,df = Not_funny_df,dic = humor_dic_df):\n",
        "  edit = []\n",
        "\n",
        "  for index1,row1 in df.iterrows():\n",
        "    vec = row1['ori_word']\n",
        "    min = 99999999\n",
        "    word = \"\"\n",
        "    label = int(ans1[index1])\n",
        "    for index,row in dic.iterrows():\n",
        "      if row.label == label:\n",
        "        if row.vector is not None:\n",
        "          temp = cal_cos_sim(vec,row.vector)\n",
        "        if temp < min:\n",
        "          min = temp\n",
        "          word = row.word\n",
        "    edit.append(word)\n",
        "    if len(edit) == 100:\n",
        "      return edit\n",
        "  return edit"
      ],
      "execution_count": null,
      "outputs": []
    },
    {
      "cell_type": "code",
      "metadata": {
        "colab": {
          "base_uri": "https://localhost:8080/"
        },
        "id": "KuFT4lPdnDqD",
        "outputId": "2bd560c7-0663-4975-d8a9-01b7142fe39f"
      },
      "source": [
        "edit_word = findMostNotSimWord(ans1,df = Not_funny_df,dic = humor_dic_df)"
      ],
      "execution_count": null,
      "outputs": [
        {
          "output_type": "stream",
          "text": [
            "/usr/local/lib/python3.6/dist-packages/ipykernel_launcher.py:2: RuntimeWarning: invalid value encountered in double_scalars\n",
            "  \n"
          ],
          "name": "stderr"
        }
      ]
    },
    {
      "cell_type": "code",
      "metadata": {
        "id": "L6LVyXhFjvES"
      },
      "source": [
        "edit_word"
      ],
      "execution_count": null,
      "outputs": []
    },
    {
      "cell_type": "code",
      "metadata": {
        "colab": {
          "base_uri": "https://localhost:8080/",
          "height": 37
        },
        "id": "BsmWWKs5j9Jz",
        "outputId": "9029fcfe-95ff-464d-f9fe-8aa454e8d68c"
      },
      "source": [
        "a = findMostSimWord(1,46)\n",
        "a"
      ],
      "execution_count": null,
      "outputs": [
        {
          "output_type": "execute_result",
          "data": {
            "application/vnd.google.colaboratory.intrinsic+json": {
              "type": "string"
            },
            "text/plain": [
              "'army'"
            ]
          },
          "metadata": {
            "tags": []
          },
          "execution_count": 174
        }
      ]
    },
    {
      "cell_type": "code",
      "metadata": {
        "id": "AXsc7T0MmuCm"
      },
      "source": [
        "ff = final_vocabularies.tolist()"
      ],
      "execution_count": null,
      "outputs": []
    },
    {
      "cell_type": "code",
      "metadata": {
        "id": "OVwCVqd63fUP"
      },
      "source": [
        "for i in range(len(edit_word)):\n",
        "  if(edit_word[i] != ''):\n",
        "    ff[i].append(edit_word[i])"
      ],
      "execution_count": null,
      "outputs": []
    },
    {
      "cell_type": "code",
      "metadata": {
        "id": "D9fhoV9b32OO"
      },
      "source": [
        "c = {'vab':ff}\n",
        "data=pd.DataFrame(c)"
      ],
      "execution_count": null,
      "outputs": []
    },
    {
      "cell_type": "code",
      "metadata": {
        "colab": {
          "base_uri": "https://localhost:8080/",
          "height": 204
        },
        "id": "4tioFTQg4mcP",
        "outputId": "7970b36b-ad79-4c91-f739-e98761f07477"
      },
      "source": [
        "data.head()"
      ],
      "execution_count": null,
      "outputs": [
        {
          "output_type": "execute_result",
          "data": {
            "text/html": [
              "<div>\n",
              "<style scoped>\n",
              "    .dataframe tbody tr th:only-of-type {\n",
              "        vertical-align: middle;\n",
              "    }\n",
              "\n",
              "    .dataframe tbody tr th {\n",
              "        vertical-align: top;\n",
              "    }\n",
              "\n",
              "    .dataframe thead th {\n",
              "        text-align: right;\n",
              "    }\n",
              "</style>\n",
              "<table border=\"1\" class=\"dataframe\">\n",
              "  <thead>\n",
              "    <tr style=\"text-align: right;\">\n",
              "      <th></th>\n",
              "      <th>vab</th>\n",
              "    </tr>\n",
              "  </thead>\n",
              "  <tbody>\n",
              "    <tr>\n",
              "      <th>0</th>\n",
              "      <td>[france, ‘, hunt, citizen, join, ’, without, t...</td>\n",
              "    </tr>\n",
              "    <tr>\n",
              "      <th>1</th>\n",
              "      <td>[apparent, first, iran, israel, militarily, pa...</td>\n",
              "    </tr>\n",
              "    <tr>\n",
              "      <th>2</th>\n",
              "      <td>[trump, tell, week, ago, flynn, mislead, presi...</td>\n",
              "    </tr>\n",
              "    <tr>\n",
              "      <th>3</th>\n",
              "      <td>[canadians, may, pay, tax, americans, get, mou...</td>\n",
              "    </tr>\n",
              "    <tr>\n",
              "      <th>4</th>\n",
              "      <td>[dutch, minister, resigns, drug, baron, waddle]</td>\n",
              "    </tr>\n",
              "  </tbody>\n",
              "</table>\n",
              "</div>"
            ],
            "text/plain": [
              "                                                 vab\n",
              "0  [france, ‘, hunt, citizen, join, ’, without, t...\n",
              "1  [apparent, first, iran, israel, militarily, pa...\n",
              "2  [trump, tell, week, ago, flynn, mislead, presi...\n",
              "3  [canadians, may, pay, tax, americans, get, mou...\n",
              "4    [dutch, minister, resigns, drug, baron, waddle]"
            ]
          },
          "metadata": {
            "tags": []
          },
          "execution_count": 129
        }
      ]
    },
    {
      "cell_type": "code",
      "metadata": {
        "id": "hY_c8UYu4p0f"
      },
      "source": [
        "data = data[:100]"
      ],
      "execution_count": null,
      "outputs": []
    },
    {
      "cell_type": "code",
      "metadata": {
        "id": "1gNJeK814sf-"
      },
      "source": [
        "data.to_csv('testForhumor.csv')"
      ],
      "execution_count": null,
      "outputs": []
    },
    {
      "cell_type": "code",
      "metadata": {
        "id": "rLVl2KHA4vcA"
      },
      "source": [
        ""
      ],
      "execution_count": null,
      "outputs": []
    }
  ]
}